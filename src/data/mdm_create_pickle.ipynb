{
 "cells": [
  {
   "attachments": {},
   "cell_type": "markdown",
   "metadata": {},
   "source": [
    "Чтение данных из различных источников и формирования pkl файлов в папке interm/external_pkl, а также \n",
    "Извлечение pkl файлов исходных (data/external) для дальнейшего использования    \n",
    "\n",
    "Делать однократно, если ранее не были созданы pkl файлы в папке interm/external_pkl  \n",
    "\n",
    "В проекте в основном необходимые входные файлы data/external лежат в заархивированном виде     \n",
    "сами pkl созданы на версии pandas 1.3.5  "
   ]
  },
  {
   "cell_type": "code",
   "execution_count": 1,
   "metadata": {},
   "outputs": [],
   "source": [
    "pre = '../../' # путь до главной директории проекта\n",
    "\n",
    "%run ../init.ipynb #подгрузить нужные библиотеки\n",
    "%run ../params.ipynb #параметры как логин пароль к БИ, параметры расчёта ( в нашем случае их нет)\n",
    "%run ../init_mdm.ipynb\n",
    "%run ../preprocessing/preprocessing_target.ipynb"
   ]
  },
  {
   "cell_type": "code",
   "execution_count": 2,
   "metadata": {},
   "outputs": [
    {
     "name": "stdout",
     "output_type": "stream",
     "text": [
      "Прочитанный размер файла классификатора имущества - (168, 2)\n"
     ]
    }
   ],
   "source": [
    "def read_codes_ext(name):\n",
    "    df_codes = (pd.read_excel(name, engine='openpyxl', dtype = {\"Код\":str} )\n",
    "                        .dropna().rename(columns={'Наименование':'ClassifierName', 'Код': 'content_FinancialLeaseSubject_ClassifierCode'}))\n",
    "    print(\"Прочитанный размер файла классификатора имущества - {}\".format(df_codes.shape))\n",
    "    \n",
    "    return df_codes\n",
    "\n",
    "df_codes = read_codes_ext(pre+\"data/external/Классификатор имущества.xlsx\")\n",
    "df_codes.to_pickle(pre+\"data/interm/external_pkl/Классификатор имущества.pkl\", compression={'method':'zip'})\n"
   ]
  },
  {
   "cell_type": "code",
   "execution_count": 3,
   "metadata": {},
   "outputs": [
    {
     "name": "stdout",
     "output_type": "stream",
     "text": [
      "Прочитанный размер файла из target-class (252134, 94)\n"
     ]
    }
   ],
   "source": [
    "def read_target_ext():\n",
    "    \n",
    "    name = pre + 'data/external/target_data.tar.gz'\n",
    "    extract_all(name, pre +'data/interm/external_pkl')\n",
    "\n",
    "    name = pre + \"data/interm/external_pkl/dataset_local_application_inf_ssf.01.07.2022.pkl\"\n",
    "    target_data = pd.read_pickle(name)\n",
    "\n",
    "    print(\"Прочитанный размер файла из target-class {}\".format(target_data.shape))\n",
    "    target_data = target_filter(target_data)\n",
    "    \n",
    "    try:\n",
    "        if os.path.isfile(name):\n",
    "            os.remove(name)\n",
    "    except:\n",
    "        pass\n",
    "\n",
    "    return target_data\n",
    "\n",
    "target_data = read_target_ext()\n",
    "target_data.to_pickle(pre+\"data/interm/external_pkl/target_dataset.pkl\", compression={'method':'zip'})\n",
    "# target_data.head(1)"
   ]
  },
  {
   "cell_type": "code",
   "execution_count": 4,
   "metadata": {},
   "outputs": [
    {
     "name": "stdout",
     "output_type": "stream",
     "text": [
      "Размер считанных данных financialleasecontract - (1493510, 20)\n"
     ]
    }
   ],
   "source": [
    "def read_financialleasecontract_ext():\n",
    "    sql_query = \"\"\"select * from [dbo].[efrsfdul_financialleasecontract]\"\"\"\n",
    "\n",
    "    cnxn = pymssql.connect(host='VLS-MDM-DB',user=mssql_user, password=mssql_password,  database='MDM_Main', charset='utf8')\n",
    "\n",
    "    try:\n",
    "        financialleasecontract = pd.read_sql(sql_query, cnxn)\n",
    "        print(\"Размер считанных данных financialleasecontract - {}\".format(financialleasecontract.shape))\n",
    "\n",
    "    finally:\n",
    "        cnxn.close() \n",
    "        \n",
    "    return financialleasecontract\n",
    "\n",
    "financialleasecontract = read_financialleasecontract_ext()\n",
    "financialleasecontract.to_pickle(pre+\"data/interm/external_pkl/financialleasecontract.pkl\", compression={'method':'zip'})\n",
    "\n"
   ]
  },
  {
   "cell_type": "code",
   "execution_count": 5,
   "metadata": {},
   "outputs": [
    {
     "name": "stdout",
     "output_type": "stream",
     "text": [
      "Размер считанных данных financialleasecontractlessees - (1489613, 12)\n"
     ]
    }
   ],
   "source": [
    "def read_financialleasecontractlessees_ext():\n",
    "    sql_query = \"\"\"select * from [dbo].[efrsfdul_financialleasecontractlessees]\"\"\"\n",
    "\n",
    "    cnxn = pymssql.connect(host='VLS-MDM-DB',user=mssql_user, password=mssql_password,  database='MDM_Main', charset='utf8')\n",
    "\n",
    "    try:\n",
    "        financialleasecontractlessees = pd.read_sql(sql_query, cnxn)\n",
    "        print(\"Размер считанных данных financialleasecontractlessees - {}\".format(financialleasecontractlessees.shape))\n",
    "\n",
    "    finally:\n",
    "        cnxn.close() \n",
    "        \n",
    "    return financialleasecontractlessees\n",
    "\n",
    "financialleasecontractlessees = read_financialleasecontractlessees_ext()\n",
    "financialleasecontractlessees.to_pickle(pre+\"data/interm/external_pkl/financialleasecontractlessees.pkl\", compression={'method':'zip'})"
   ]
  },
  {
   "cell_type": "code",
   "execution_count": 6,
   "metadata": {},
   "outputs": [
    {
     "name": "stdout",
     "output_type": "stream",
     "text": [
      "Размер считанных данных financialleasecontractlessors - (1418815, 12)\n"
     ]
    }
   ],
   "source": [
    "def read_financialleasecontractlessors_ext():\n",
    "    sql_query = \"\"\"select * from [dbo].[efrsfdul_financialleasecontractlessors]\"\"\"\n",
    "\n",
    "    cnxn = pymssql.connect(host='VLS-MDM-DB',user=mssql_user, password=mssql_password,  database='MDM_Main', charset='utf8')\n",
    "\n",
    "    try:\n",
    "        financialleasecontractlessors = pd.read_sql(sql_query, cnxn)\n",
    "        print(\"Размер считанных данных financialleasecontractlessors - {}\".format(financialleasecontractlessors.shape))\n",
    "\n",
    "    finally:\n",
    "        cnxn.close() \n",
    "        \n",
    "    return financialleasecontractlessors\n",
    "\n",
    "financialleasecontractlessors = read_financialleasecontractlessors_ext()\n",
    "financialleasecontractlessors.to_pickle(pre+\"data/interm/external_pkl/financialleasecontractlessors.pkl\", compression={'method':'zip'})"
   ]
  },
  {
   "cell_type": "code",
   "execution_count": 7,
   "metadata": {},
   "outputs": [
    {
     "name": "stdout",
     "output_type": "stream",
     "text": [
      "Размер считанных данных financialleasecontractobject - (3298676, 12)\n"
     ]
    }
   ],
   "source": [
    "def read_financialleasecontractobject_ext():\n",
    "    sql_query = \"\"\"select * from [dbo].[efrsfdul_financialleasecontractobject]\"\"\"\n",
    "\n",
    "    cnxn = pymssql.connect(host='VLS-MDM-DB',user=mssql_user, password=mssql_password,  database='MDM_Main', charset='utf8')\n",
    "\n",
    "    try:\n",
    "        financialleasecontractobject = pd.read_sql(sql_query, cnxn)\n",
    "        print(\"Размер считанных данных financialleasecontractobject - {}\".format(financialleasecontractobject.shape))\n",
    "\n",
    "    finally:\n",
    "        cnxn.close() \n",
    "        \n",
    "    return financialleasecontractobject\n",
    "\n",
    "financialleasecontractobject = read_financialleasecontractobject_ext()\n",
    "financialleasecontractobject.to_pickle(pre+\"data/interm/external_pkl/financialleasecontractobject.pkl\", compression={'method':'zip'})"
   ]
  },
  {
   "cell_type": "code",
   "execution_count": 2,
   "metadata": {},
   "outputs": [
    {
     "name": "stdout",
     "output_type": "stream",
     "text": [
      "Всего выгружено контрагентов из crm  (765391, 10)\n"
     ]
    }
   ],
   "source": [
    "def read_accounts_from_crm():\n",
    "    \n",
    "    cnxn = pymssql.connect(host='ALS-CRM-SQL\\DEV01',user=mssql_user, password=mssql_password,  database='VTBL_MSCRM', charset='utf8')\n",
    "\n",
    "    #  запускать 1 раз\n",
    "    sql_query =   \"\"\" \n",
    "                    SELECT a.ACCOUNTID,\n",
    "                        a.Name,\n",
    "                        a.NEW_INN,\n",
    "                        a.NEW_NUM1C,\n",
    "                        a.new_black_list_date, \n",
    "\t\t\t\t\t\ta.new_4reliability_group,\n",
    "                        a.StatusCode,\n",
    "                        s1.Value AS StatusCodeName,\n",
    "                        a.new_suptype,\n",
    "                        s2.Value AS SupTypeName \n",
    "                        from VTBL_MSCRM.dbo.AccountBase as a\n",
    "                        left join VTBL_MSCRM.dbo.StringMap as s1 on s1.AttributeValue=a.StatusCode and s1.AttributeName='statuscode' and s1.ObjectTypeCode=1\n",
    "                        left join VTBL_MSCRM.dbo.StringMap as s2 on s2.AttributeValue=a.new_suptype and s2.AttributeName='new_suptype' and s2.ObjectTypeCode=1 \n",
    "                        --WHERE ACCOUNTID='3F957807-AC32-ED11-A2CF-005056AB1749'\n",
    "                    \"\"\"\n",
    "    try:\n",
    "        data_accounts_crm = pd.read_sql(sql_query, cnxn)\n",
    "    finally:\n",
    "        cnxn.close() \n",
    "    \n",
    "      \n",
    "    print(\"Всего выгружено контрагентов из crm \", data_accounts_crm.shape)\n",
    "\n",
    "    return data_accounts_crm\n",
    "\n",
    "data_accounts_crm = read_accounts_from_crm()\n",
    "data_accounts_crm.to_pickle(pre+\"data/interm/external_pkl/crm_account.pkl\", compression={'method':'zip'})\n",
    "# data_accounts_crm.head(1)"
   ]
  },
  {
   "cell_type": "code",
   "execution_count": 3,
   "metadata": {},
   "outputs": [
    {
     "name": "stdout",
     "output_type": "stream",
     "text": [
      "Всего выгружено контрагентов из regdata mdm  (43884, 4)\n"
     ]
    }
   ],
   "source": [
    "# [egrul_regdata] и  [egrip_regdata]\n",
    "def read_regdata_from_mdm():\n",
    "    \n",
    "    cnxn = pymssql.connect(host='VLS-MDM-DB-N1', user=mssql_user, password=mssql_password,  database='MDM_Main', charset='utf8')\n",
    "\n",
    "    #  запускать 1 раз\n",
    "    sql_query =   \"\"\" \n",
    "                    SELECT [new_inn]\n",
    "                        ,[new_typeofdissolution]\n",
    "                        ,[new_dissolutiondate]\n",
    "                        , [new_accounstatus]\n",
    "                    from [MDM_Main].[dbo].[egrul_regdata]\n",
    "                    where [new_typeofdissolution] IS NOT NULL OR\n",
    "                    [new_dissolutiondate] IS NOT NULL OR\n",
    "                    [new_accounstatus] IS NOT NULL\n",
    "                    UNION ALL \n",
    "                    (SELECT [new_inn]\n",
    "                        ,[new_typeofdissolution]\n",
    "                        ,[new_dissolutiondate]\n",
    "                        , NULL\n",
    "                    from [MDM_Main].[dbo].[egrip_regdata]\n",
    "                    where [new_typeofdissolution] IS NOT NULL OR\n",
    "                    [new_dissolutiondate] IS NOT NULL\n",
    "                    )\n",
    "                    \"\"\"\n",
    "    try:\n",
    "        regdata_from_mdm = pd.read_sql(sql_query, cnxn)\n",
    "    finally:\n",
    "        cnxn.close() \n",
    "    \n",
    "      \n",
    "    print(\"Всего выгружено контрагентов из regdata mdm \", regdata_from_mdm.shape)\n",
    "\n",
    "    return regdata_from_mdm\n",
    "\n",
    "regdata_from_mdm = read_regdata_from_mdm()\n",
    "regdata_from_mdm.to_pickle(pre+\"data/interm/external_pkl/regdata_from_mdm.pkl\", compression={'method':'zip'})\n",
    "# regdata_from_mdm.head(1)"
   ]
  },
  {
   "cell_type": "code",
   "execution_count": 4,
   "metadata": {},
   "outputs": [
    {
     "name": "stdout",
     "output_type": "stream",
     "text": [
      "Всего выгружено контрагентов из DM.BEHAVIOR_MODEL_DAILY  (95002, 1)\n"
     ]
    }
   ],
   "source": [
    "def read_clients_in_behavior_model_daily():\n",
    "    \n",
    "    cnxn_oracle = cx_Oracle.connect(obi_login, obi_pw, \"10.0.2.45:1521/UAKRPDB\", encoding=\"UTF-8\")  \n",
    "    #  запускать 1 раз\n",
    "    sql_query =   \"\"\" \n",
    "                    SELECT DISTINCT cl.INN inn_in_bmd\n",
    "                    FROM DM.BEHAVIOR_MODEL_DAILY bmd\n",
    "                    INNER JOIN\n",
    "                        (SELECT INN,\n",
    "                            KPP,\n",
    "                            OGRN,\n",
    "                            CLIENT_KEY\n",
    "                        FROM DWH.Clients\n",
    "                        WHERE VALID_TO_DTTM    = TO_DATE('01.01.2400', 'dd.mm.yyyy')\n",
    "                        AND NVL(DELETE_FLG, 0)!=1\n",
    "                        ) cl\n",
    "                    ON cl.CLIENT_KEY = bmd.CLIENT_KEY\n",
    "                    WHERE cl.INN IS NOT NULL \n",
    "                    \"\"\"\n",
    "    try:\n",
    "        data_clients_bmd = pd.read_sql(sql_query, cnxn_oracle)\n",
    "    finally:\n",
    "        cnxn_oracle.close() \n",
    "    \n",
    "    print(\"Всего выгружено контрагентов из DM.BEHAVIOR_MODEL_DAILY \", data_clients_bmd.shape)\n",
    "\n",
    "    return data_clients_bmd\n",
    "\n",
    "data_clients_bmd = read_clients_in_behavior_model_daily()\n",
    "data_clients_bmd.to_pickle(pre+\"data/interm/external_pkl/clients_bmd.pkl\", compression={'method':'zip'})"
   ]
  },
  {
   "cell_type": "code",
   "execution_count": 5,
   "metadata": {},
   "outputs": [
    {
     "name": "stdout",
     "output_type": "stream",
     "text": [
      "Размер считанных данных dbo.Opportunity- (1077778, 3)\n"
     ]
    }
   ],
   "source": [
    "def read_inn_opportunity_ext():\n",
    "    sql_query = \"\"\"SELECT op.name,  a.NEW_INN, op.new_opt\n",
    "                        FROM dbo.Opportunity op\n",
    "                    LEFT JOIN\n",
    "                        (SELECT *\n",
    "                            FROM ACCOUNT\n",
    "                        ) AS a\n",
    "                    ON op.customerid=a.accountid \n",
    "                    --WHERE  op.name= 'АЛ933631'\n",
    "                    \"\"\"\n",
    "\n",
    "    cnxn = pymssql.connect(host='ALS-CRM-SQL\\DEV01',user=mssql_user, password=mssql_password,  database='VTBL_MSCRM', charset='utf8')\n",
    "\n",
    "    try:\n",
    "        opportunity_CRM = pd.read_sql(sql_query, cnxn)\n",
    "        opportunity_CRM.columns = ['opp_name',\t'ИНН контрагента',\t'new_opt']\n",
    "        print(\"Размер считанных данных dbo.Opportunity- {}\".format(opportunity_CRM.shape))\n",
    "\n",
    "    finally:\n",
    "        cnxn.close() \n",
    "        \n",
    "    return opportunity_CRM\n",
    "\n",
    "opportunity_CRM = read_inn_opportunity_ext()\n",
    "opportunity_CRM.to_pickle(pre+\"data/interm/external_pkl/opportunity_crm.pkl\", compression={'method':'zip'})"
   ]
  },
  {
   "cell_type": "code",
   "execution_count": 6,
   "metadata": {},
   "outputs": [
    {
     "name": "stdout",
     "output_type": "stream",
     "text": [
      "Размер считанных данных mpl_app - (250698, 4)\n"
     ]
    }
   ],
   "source": [
    "def MDL_APP_DAKSENOVA():\n",
    "    \n",
    "    cnxn_oracle = cx_Oracle.connect(obi_login, obi_pw, \"10.0.2.45:1521/UAKRPDB\", encoding=\"UTF-8\") \n",
    "    \n",
    "    sql_query = \"\"\"select pl,  \n",
    "                        DATE_ACTUAL, \n",
    "                        NL_NEW_PRODUCTNAME, \n",
    "                        O_NEW_TOTALFINANCINGSUM \n",
    "                    from ANALYST.MDL_APP_DAKSENOVA_010723\n",
    "                    \"\"\"\n",
    "\n",
    "    try:\n",
    "        mdl_app = pd.read_sql(sql_query, cnxn_oracle)\n",
    "        print(\"Размер считанных данных mpl_app - {}\".format(mdl_app.shape))\n",
    "\n",
    "    finally:\n",
    "        cnxn_oracle.close() \n",
    "        \n",
    "    return mdl_app\n",
    "\n",
    "mdl_app = MDL_APP_DAKSENOVA()\n",
    "mdl_app.to_pickle(pre+\"data/interm/external_pkl/mdl_app.pkl\", compression={'method':'zip'})\n",
    "# mdl_app.head()"
   ]
  },
  {
   "cell_type": "code",
   "execution_count": null,
   "metadata": {},
   "outputs": [],
   "source": []
  }
 ],
 "metadata": {
  "interpreter": {
   "hash": "ad2bdc8ecc057115af97d19610ffacc2b4e99fae6737bb82f5d7fb13d2f2c186"
  },
  "kernelspec": {
   "display_name": "Python 3.7.13 ('base')",
   "language": "python",
   "name": "python3"
  },
  "language_info": {
   "codemirror_mode": {
    "name": "ipython",
    "version": 3
   },
   "file_extension": ".py",
   "mimetype": "text/x-python",
   "name": "python",
   "nbconvert_exporter": "python",
   "pygments_lexer": "ipython3",
   "version": "3.7.13"
  },
  "orig_nbformat": 4
 },
 "nbformat": 4,
 "nbformat_minor": 2
}
