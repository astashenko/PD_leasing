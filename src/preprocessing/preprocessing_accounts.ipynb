{
 "cells": [
  {
   "attachments": {},
   "cell_type": "markdown",
   "metadata": {},
   "source": [
    "### Определение категории контрагента по данным из различных источников\n",
    "- 1с, \n",
    "- VTBL_MSCRM.dbo.AccountBase   \n",
    "- MDM_Main.dbo.egrip_regdata (egrul_regdata)  \n",
    "- dataset_local_application_inf_ssf.01.01.2022.pkl\n",
    "- DM.BEHAVIOR_MODEL_DAILY"
   ]
  },
  {
   "attachments": {},
   "cell_type": "markdown",
   "metadata": {},
   "source": [
    "Входные данные \n",
    "- data/external/external_pkl/target_dataset.pkl   \n",
    "- data/interm/external_pkl/portfolio_new_version.pkl  \n",
    "- data/interm/external_pkl/all_counteragent_1c.pkl\n",
    "- data/interm/external_pkl/crm_account.pkl  \n",
    "- data/interm/external_pkl/regdata_from_mdm.pkl  \n",
    "- data/interm/external_pkl/clients_bmd.pkl\n",
    "\n",
    "Выходной файл data/interm/accounts_status.pkl"
   ]
  },
  {
   "cell_type": "code",
   "execution_count": 1,
   "metadata": {},
   "outputs": [],
   "source": [
    "import pandas as pd"
   ]
  },
  {
   "cell_type": "code",
   "execution_count": 2,
   "metadata": {},
   "outputs": [],
   "source": [
    "pre = '../../' # путь до главной директории проекта\n",
    "\n",
    "%run ../init.ipynb #подгрузить нужные библиотеки\n",
    "%run ../params.ipynb #параметры как логин пароль к БИ, параметры расчёта ( в нашем случае их нет)\n",
    "%run ../init_mdm.ipynb\n",
    "%run ../preprocessing/preprocessing_target.ipynb\n",
    "%run ../ML_functions.ipynb\n",
    "%run ../auxiliary/plots.ipynb"
   ]
  },
  {
   "cell_type": "code",
   "execution_count": 3,
   "metadata": {},
   "outputs": [],
   "source": [
    "# сюда таблицы будем кидать, для отчетов\n",
    "name = pre + \"data/interm/auxilary/pre_accounts.xlsx\"\n",
    "writer = ExcelWriter(name)"
   ]
  },
  {
   "cell_type": "code",
   "execution_count": 4,
   "metadata": {},
   "outputs": [
    {
     "name": "stdout",
     "output_type": "stream",
     "text": [
      "85798\n"
     ]
    }
   ],
   "source": [
    "name = pre + \"data/interm/external_pkl/target_dataset.pkl\"\n",
    "target_data = pd.read_pickle(name, compression={'method':'zip'})\n",
    "\n",
    "print(len(target_data))\n",
    "# target_data.head(1)"
   ]
  },
  {
   "cell_type": "code",
   "execution_count": 5,
   "metadata": {},
   "outputs": [
    {
     "name": "stdout",
     "output_type": "stream",
     "text": [
      "Прочитанный размер файла портфеля ../../data/external/portfolio_1c.pkl - (365081, 44)\n",
      "Дата актуальности портфеля 1с 2023-07-06\n"
     ]
    }
   ],
   "source": [
    "name = pre + \"data/external/portfolio_1c.pkl\"\n",
    "\n",
    "keep_cols = [ \"Код договора лизинга\", \"ИНН\",  \"Контрагент\", \"Номер договора\", \"Дата договора\", \"Дата лизинга\", \"Дата приложения от\", \n",
    "        \"Срок приложения до\", \"Статус приложения\", \n",
    "            \"Дата окончания лизинга фактическая\", \"Завершение_агрегированное\", \"ЗаводскойНомер\", \"new_cartypeName\", 'Первичный', 'Договор_с_цессией']\n",
    "\n",
    "file_portfolio_raw = pd.read_pickle(name, compression={'method':'zip'}).sort_values(by=[\"Номер договора\", \"Дата приложения от\"])\n",
    "\n",
    "print(\"Прочитанный размер файла портфеля {} - {}\".format(name, file_portfolio_raw.shape))\n",
    "print(\"Дата актуальности портфеля 1с {}\".format(file_portfolio_raw.loc[0, 'Дата актуальности'].strftime(\"%Y-%m-%d\")))"
   ]
  },
  {
   "cell_type": "code",
   "execution_count": 6,
   "metadata": {},
   "outputs": [
    {
     "name": "stdout",
     "output_type": "stream",
     "text": [
      "Размер считанных данных контрагентов из 1c - (193775, 6)\n"
     ]
    }
   ],
   "source": [
    "name = pre + \"data/external/all_counteragent_1c.pkl\"\n",
    "all_counteragent_1c = pd.read_pickle(name, compression={'method':'zip'})\n",
    "\n",
    "print(\"Размер считанных данных контрагентов из 1c - {}\".format(all_counteragent_1c.shape))\n",
    "\n",
    "# all_counteragent_1c.head(1)"
   ]
  },
  {
   "cell_type": "code",
   "execution_count": 7,
   "metadata": {},
   "outputs": [
    {
     "name": "stdout",
     "output_type": "stream",
     "text": [
      "Размер считанных данных контрагентов из crm - (722812, 10)\n"
     ]
    }
   ],
   "source": [
    "name = pre + \"data/interm/external_pkl/crm_account.pkl\"\n",
    "data_accounts = pd.read_pickle(name, compression={'method':'zip'})\n",
    "\n",
    "data_accounts = data_accounts.drop_duplicates(subset='NEW_INN')\n",
    "\n",
    "print(\"Размер считанных данных контрагентов из crm - {}\".format(data_accounts.shape))\n",
    "num, duplicates = identify_duplicates(data_accounts, 'NEW_INN')\n",
    "Check_dupl(num, duplicates)\n",
    "# data_accounts.head(1)"
   ]
  },
  {
   "cell_type": "code",
   "execution_count": 8,
   "metadata": {},
   "outputs": [
    {
     "name": "stdout",
     "output_type": "stream",
     "text": [
      "Всего выгружено контрагентов из regdata mdm  - (42161, 4)\n"
     ]
    }
   ],
   "source": [
    "name = pre + \"data/interm/external_pkl/regdata_from_mdm.pkl\"\n",
    "regdata_from_mdm = pd.read_pickle(name, compression={'method':'zip'})\n",
    "regdata_from_mdm = regdata_from_mdm.sort_values(by='new_dissolutiondate').drop_duplicates(subset='new_inn').reset_index(drop=True)\n",
    "\n",
    "print(\"Всего выгружено контрагентов из regdata mdm  - {}\".format(regdata_from_mdm.shape))\n",
    "\n",
    "num, duplicates = identify_duplicates(regdata_from_mdm, 'new_inn')\n",
    "Check_dupl(num, duplicates)\n",
    "\n",
    "# regdata_from_mdm.head(1)"
   ]
  },
  {
   "cell_type": "code",
   "execution_count": 9,
   "metadata": {},
   "outputs": [
    {
     "name": "stdout",
     "output_type": "stream",
     "text": [
      "Размер считанных данных контрагентов из DM.BEHAVIOR_MODEL_DAILY  (93075, 1)\n"
     ]
    }
   ],
   "source": [
    "name = pre + \"data/interm/external_pkl/clients_bmd.pkl\"\n",
    "clients_bmd = pd.read_pickle(name, compression={'method':'zip'})\n",
    "\n",
    "print(\"Размер считанных данных контрагентов из DM.BEHAVIOR_MODEL_DAILY \", clients_bmd.shape)\n",
    "# clients_bmd.head(1)"
   ]
  },
  {
   "attachments": {},
   "cell_type": "markdown",
   "metadata": {},
   "source": [
    "## Анализ статуса нашиз клиентов по данным 1c"
   ]
  },
  {
   "cell_type": "code",
   "execution_count": 10,
   "metadata": {},
   "outputs": [],
   "source": [
    "file_portfolio_raw['Статус приложения'] = file_portfolio_raw['Статус приложения'].fillna('Не было передачи в лизинг')\n",
    "file_portfolio_raw['Статус приложения'] = pd.Categorical(file_portfolio_raw['Статус приложения'], \n",
    "                                            categories=['Проект (принятие к управленческому учету)', 'Не было передачи в лизинг', \n",
    "                                            'Закрыт', 'Страховой случай', 'Расторгнут в связи со страховым случаем', 'Расторгнут', \n",
    "                                            'Подписан (вступил в силу)'], \n",
    "                                            ordered=True)\n",
    "\n",
    "file_portfolio_raw = file_portfolio_raw.sort_values(by=['ИНН', 'Статус приложения', 'Дата приложения от', 'Срок приложения до']).reset_index(drop=True)                                "
   ]
  },
  {
   "cell_type": "code",
   "execution_count": 11,
   "metadata": {},
   "outputs": [],
   "source": [
    "inn_1c = file_portfolio_raw[['ИНН']].drop_duplicates().reset_index(drop=True)\n",
    "# inn_1c.head()"
   ]
  },
  {
   "attachments": {},
   "cell_type": "markdown",
   "metadata": {},
   "source": [
    "смотрим на статуc нашего ИНН отдельно у тех, у кого был лизинг, по данным портфеля"
   ]
  },
  {
   "cell_type": "code",
   "execution_count": 12,
   "metadata": {},
   "outputs": [],
   "source": [
    "mask = (file_portfolio_raw['Дата лизинга'].notnull())\n",
    "port_leasing = file_portfolio_raw[mask].copy()\n",
    "\n",
    "mask = (port_leasing['Статус приложения'].isin(['Подписан (вступил в силу)']))\n",
    "port_leasing.loc[mask, 'auxilary'] = 1\n",
    "port_leasing.loc[~mask, 'auxilary'] = 0\n",
    "list_inn = port_leasing[port_leasing['auxilary']==1]['ИНН'].to_list()\n",
    "mask = inn_1c['ИНН'].isin(list_inn)\n",
    "inn_1c.loc[mask, 'Статус_контрагента'] = 'Есть действующий договор(ы)'\n",
    "\n",
    "\n",
    "mask = (port_leasing['Статус приложения'].isin(['Расторгнут в связи со страховым случаем', 'Расторгнут']))\n",
    "port_leasing.loc[mask, 'auxilary'] = 1\n",
    "port_leasing.loc[~mask, 'auxilary'] = 0\n",
    "list_inn = port_leasing[port_leasing['auxilary']==1]['ИНН'].to_list()\n",
    "mask = (inn_1c['ИНН'].isin(list_inn))\n",
    "mask_nostatus = (inn_1c['Статус_контрагента'].isnull())\n",
    "inn_1c.loc[mask & mask_nostatus, 'Статус_контрагента'] = 'Клиент в прошлом (расторжение)'\n",
    "\n",
    "\n",
    "mask = (port_leasing['Статус приложения'].isin(['Закрыт', 'Страховой случай']))\n",
    "port_leasing.loc[mask, 'auxilary'] = 1\n",
    "port_leasing.loc[~mask, 'auxilary'] = 0\n",
    "list_inn = port_leasing[port_leasing['auxilary']==1]['ИНН'].to_list()\n",
    "mask = (inn_1c['ИНН'].isin(list_inn))\n",
    "mask_nostatus = (inn_1c['Статус_контрагента'].isnull())\n",
    "inn_1c.loc[mask & mask_nostatus, 'Статус_контрагента'] = 'Клиент в прошлом'\n",
    "\n",
    "mask = (port_leasing['Статус приложения'].isin(['Проект (принятие к управленческому учету)', 'Не было передачи в лизинг']))\n",
    "port_leasing.loc[mask, 'auxilary'] = 1\n",
    "port_leasing.loc[~mask, 'auxilary'] = 0\n",
    "list_inn = port_leasing[port_leasing['auxilary']==1]['ИНН'].to_list()\n",
    "mask = (inn_1c['ИНН'].isin(list_inn))\n",
    "mask_nostatus = (inn_1c['Статус_контрагента'].isnull())\n",
    "inn_1c.loc[mask & mask_nostatus, 'Статус_контрагента'] = 'Не было передачи в лизинг'\n",
    "\n",
    "\n",
    "inn_1c['Статус_контрагента'] = inn_1c['Статус_контрагента'].fillna('Не было передачи в лизинг')\n",
    "# inn_1c.head()"
   ]
  },
  {
   "cell_type": "code",
   "execution_count": 13,
   "metadata": {},
   "outputs": [
    {
     "name": "stdout",
     "output_type": "stream",
     "text": [
      "Не было передачи в лизинг у 30185\n"
     ]
    }
   ],
   "source": [
    "print('Не было передачи в лизинг у {}'.format(len(inn_1c[inn_1c['Статус_контрагента'] == 'Не было передачи в лизинг'])))"
   ]
  },
  {
   "cell_type": "code",
   "execution_count": 14,
   "metadata": {},
   "outputs": [],
   "source": [
    "inn_1c = inn_1c.reset_index()\n",
    "# inn_1c.head()"
   ]
  },
  {
   "attachments": {},
   "cell_type": "markdown",
   "metadata": {},
   "source": [
    "проверка, что может быть расторжен, но это у договора, по которому не было лизинга"
   ]
  },
  {
   "cell_type": "code",
   "execution_count": 15,
   "metadata": {},
   "outputs": [],
   "source": [
    "df = pd.pivot_table(inn_1c, index='Статус_контрагента',  values='index', aggfunc='count', margins=True, fill_value= 0)\\\n",
    "    .rename(columns={'index':'Количество ИНН'})\n",
    "df['Доля, %'] = round(df['Количество ИНН']/df['Количество ИНН']['All']*100,2)\n",
    "# df"
   ]
  },
  {
   "attachments": {},
   "cell_type": "markdown",
   "metadata": {},
   "source": [
    "### Дополнительно смотрим, были какие-либо другие договоры помимо лизинга"
   ]
  },
  {
   "cell_type": "code",
   "execution_count": 16,
   "metadata": {},
   "outputs": [
    {
     "data": {
      "text/plain": [
       "array(['Был договор с покупателем', 'Был договор по услугам',\n",
       "       'Был договор купли-продажи', 'Был договор обратного выкупа',\n",
       "       'Был договор цессии'], dtype=object)"
      ]
     },
     "execution_count": 16,
     "metadata": {},
     "output_type": "execute_result"
    }
   ],
   "source": [
    "all_counteragent_1c['хлВидДоговора'] = pd.Categorical(all_counteragent_1c['хлВидДоговора'], \n",
    "                                            categories=['Договор обратного выкупа', \n",
    "                                            'С покупателем', 'Договор купли-продажи','Услуги оказанные', 'Лизинга', 'Договор цессии'], ordered=True)\n",
    "\n",
    "mask = (all_counteragent_1c['хлВидДоговора']!='Лизинга')\n",
    "all_contracts_1c = all_counteragent_1c[mask]\n",
    "\n",
    "all_contracts_1c = all_contracts_1c.sort_values(by=['ИНН', 'хлВидДоговора']).drop_duplicates(subset='ИНН', keep='first').reset_index(drop=True)\n",
    "\n",
    "repl = {'Лизинга':'Был договор лизинга', 'С покупателем':'Был договор с покупателем', 'Услуги оказанные':'Был договор по услугам', \n",
    "        'Договор купли-продажи':'Был договор купли-продажи', 'Договор обратного выкупа':'Был договор обратного выкупа',\n",
    "       'Договор цессии':'Был договор цессии'}\n",
    "all_contracts_1c['ВидДоговора'] = all_contracts_1c['хлВидДоговора'].replace(repl)\n",
    "\n",
    "num, duplicates = identify_duplicates(all_contracts_1c, 'ИНН')\n",
    "Check_dupl(num, duplicates)\n",
    "all_contracts_1c['ВидДоговора'].unique()"
   ]
  },
  {
   "cell_type": "code",
   "execution_count": 17,
   "metadata": {},
   "outputs": [
    {
     "name": "stdout",
     "output_type": "stream",
     "text": [
      "Не было передачи в лизинг, но был другой тип договора у 150\n"
     ]
    }
   ],
   "source": [
    "status_1c = pd.merge(inn_1c, all_contracts_1c, how='outer', on='ИНН')\n",
    "status_1c.drop(columns='index', inplace=True)\n",
    "status_1c = status_1c.reset_index()\n",
    "\n",
    "status_1c['Статус_контрагента'] = status_1c['Статус_контрагента'].combine_first(status_1c['ВидДоговора'])\n",
    "\n",
    "mask = (status_1c['Статус_контрагента']=='Не было передачи в лизинг')\n",
    "mask_other = (status_1c['ВидДоговора'].notnull())\n",
    "print(\"Не было передачи в лизинг, но был другой тип договора у {}\".format(len(status_1c[mask & mask_other])))\n",
    "status_1c.loc[mask & mask_other, 'Статус_контрагента'] = status_1c.loc[mask & mask_other, 'ВидДоговора']\n",
    "\n",
    "# status_1c.head(1)"
   ]
  },
  {
   "cell_type": "code",
   "execution_count": 18,
   "metadata": {},
   "outputs": [],
   "source": [
    "df = pd.pivot_table(status_1c, index='Статус_контрагента',  values='index', aggfunc='count', margins=True, fill_value= 0)\\\n",
    "    .rename(columns={'index':'Количество ИНН'})\n",
    "df['Доля, %'] = round(df['Количество ИНН']/df['Количество ИНН']['All']*100,2)\n",
    "# df"
   ]
  },
  {
   "attachments": {},
   "cell_type": "markdown",
   "metadata": {},
   "source": [
    "## Статусы контрагентов по данным VTBL_MSCRM.dbo.AccountBase"
   ]
  },
  {
   "cell_type": "code",
   "execution_count": 19,
   "metadata": {},
   "outputs": [],
   "source": [
    "data_accounts = data_accounts[data_accounts['NEW_INN'].notnull()].reset_index(drop=True)"
   ]
  },
  {
   "cell_type": "code",
   "execution_count": 20,
   "metadata": {},
   "outputs": [],
   "source": [
    "# data_accounts.head(1)"
   ]
  },
  {
   "cell_type": "code",
   "execution_count": 21,
   "metadata": {},
   "outputs": [],
   "source": [
    "data_accounts['4reliability_group'] = data_accounts['new_4reliability_group'].notnull()\n",
    "data_accounts['black_list_date'] = data_accounts['new_black_list_date'].notnull()"
   ]
  },
  {
   "cell_type": "code",
   "execution_count": 22,
   "metadata": {},
   "outputs": [],
   "source": [
    "df = pd.pivot_table(data_accounts, index='4reliability_group',  values='NEW_INN', aggfunc='count', margins=True, fill_value= 0)\\\n",
    "    .rename(columns={'NEW_INN':'Количество ИНН'})\n",
    "df['Доля, %'] = round(df['Количество ИНН']/df['Количество ИНН']['All']*100,2)\n",
    "# df"
   ]
  },
  {
   "cell_type": "code",
   "execution_count": 23,
   "metadata": {},
   "outputs": [],
   "source": [
    "df = pd.pivot_table(data_accounts, index='black_list_date',  values='NEW_INN', aggfunc='count', margins=True, fill_value= 0)\\\n",
    "    .rename(columns={'NEW_INN':'Количество ИНН'})\n",
    "df['Доля, %'] = round(df['Количество ИНН']/df['Количество ИНН']['All']*100,2)\n",
    "# df"
   ]
  },
  {
   "cell_type": "code",
   "execution_count": 24,
   "metadata": {},
   "outputs": [],
   "source": [
    "df = pd.pivot_table(data_accounts, index=['4reliability_group','black_list_date'],  values='NEW_INN', aggfunc='count', margins=True, fill_value= 0)\\\n",
    "    .rename(columns={'NEW_INN':'Количество ИНН'}).reset_index()\n",
    "all = df.loc[df['4reliability_group']=='All',  'Количество ИНН'].values\n",
    "df['Доля, %'] = round(df['Количество ИНН']/all*100,2)\n",
    "# df.set_index(['4reliability_group','black_list_date'])"
   ]
  },
  {
   "cell_type": "code",
   "execution_count": 25,
   "metadata": {},
   "outputs": [],
   "source": [
    "df = pd.pivot_table(data_accounts, index='StatusCodeName',  values='NEW_INN', aggfunc='count', margins=True, fill_value= 0)\\\n",
    "    .rename(columns={'NEW_INN':'Количество ИНН'})\n",
    "df['Доля, %'] = round(df['Количество ИНН']/df['Количество ИНН']['All']*100,2)\n",
    "# df"
   ]
  },
  {
   "cell_type": "code",
   "execution_count": 26,
   "metadata": {},
   "outputs": [],
   "source": [
    "df = pd.pivot_table(data_accounts, index='SupTypeName',  values='NEW_INN', aggfunc='count', margins=True, fill_value= 0)\\\n",
    "    .rename(columns={'NEW_INN':'Количество ИНН'})\n",
    "df['Доля, %'] = round(df['Количество ИНН']/df['Количество ИНН']['All']*100,2)\n",
    "# df"
   ]
  },
  {
   "cell_type": "code",
   "execution_count": 27,
   "metadata": {},
   "outputs": [],
   "source": [
    "df = pd.pivot_table(data_accounts, index=['StatusCodeName','SupTypeName'],  values='NEW_INN', aggfunc='count', margins=True, fill_value= 0)\\\n",
    "    .rename(columns={'NEW_INN':'Количество ИНН'}).reset_index()\n",
    "all = df.loc[df['StatusCodeName']=='All',  'Количество ИНН'].values\n",
    "df['Доля, %'] = round(df['Количество ИНН']/all*100,2)\n",
    "# df.set_index(['StatusCodeName','SupTypeName'])"
   ]
  },
  {
   "attachments": {},
   "cell_type": "markdown",
   "metadata": {},
   "source": [
    "## Статусы клиентов по target данным"
   ]
  },
  {
   "cell_type": "code",
   "execution_count": 28,
   "metadata": {},
   "outputs": [],
   "source": [
    "target_data = target_data[target_data['Попадает в выборку'].isin(['обе модели', 'только фрод'])]\n",
    "\n",
    "mask = (target_data['Попадает в выборку']=='обе модели')\n",
    "target_data.loc[mask, 'Метка дефолта'] = target_data.loc[mask, ['Метка кред дефолта', 'Метка фрод дефолта']].max(axis=1)\n",
    "\n",
    "mask = (target_data['Попадает в выборку']=='только фрод')\n",
    "target_data.loc[mask, 'Метка дефолта'] = target_data.loc[mask, 'Метка фрод дефолта']\n",
    "\n",
    "# берем по контрагенту метку максимальную\n",
    "target_data['Метка дефолта'] =  target_data.groupby(['ИНН контрагента'])['Метка дефолта'].transform(max)\n",
    "\n",
    "target_data = target_data.drop_duplicates(subset='ИНН контрагента')\n",
    "target_data = target_data[target_data['ИНН контрагента'].notnull()].reset_index(drop=True)"
   ]
  },
  {
   "cell_type": "code",
   "execution_count": 29,
   "metadata": {},
   "outputs": [],
   "source": [
    "df = pd.pivot_table(target_data, index=['Метка дефолта'],  values='ИНН контрагента', aggfunc='count', margins=True, fill_value= 0)\\\n",
    "    .rename(columns={'ИНН контрагента':'Количество ИНН'})\n",
    "df['Доля, %'] = round(df['Количество ИНН']/df['Количество ИНН']['All']*100,2)\n",
    "# df"
   ]
  },
  {
   "attachments": {},
   "cell_type": "markdown",
   "metadata": {},
   "source": [
    "## Статусы контрагентов по данным regdata from mdm \n",
    "[MDM_Main].[dbo].[egrul_regdata] и [MDM_Main].[dbo].[egrip_regdata]"
   ]
  },
  {
   "cell_type": "code",
   "execution_count": 30,
   "metadata": {},
   "outputs": [],
   "source": [
    "# regdata_from_mdm.head()"
   ]
  },
  {
   "cell_type": "code",
   "execution_count": 31,
   "metadata": {},
   "outputs": [
    {
     "data": {
      "text/html": [
       "<div>\n",
       "<style scoped>\n",
       "    .dataframe tbody tr th:only-of-type {\n",
       "        vertical-align: middle;\n",
       "    }\n",
       "\n",
       "    .dataframe tbody tr th {\n",
       "        vertical-align: top;\n",
       "    }\n",
       "\n",
       "    .dataframe thead th {\n",
       "        text-align: right;\n",
       "    }\n",
       "</style>\n",
       "<table border=\"1\" class=\"dataframe\">\n",
       "  <thead>\n",
       "    <tr style=\"text-align: right;\">\n",
       "      <th></th>\n",
       "      <th>Количество ИНН</th>\n",
       "      <th>Доля, %</th>\n",
       "    </tr>\n",
       "    <tr>\n",
       "      <th>new_typeofdissolution</th>\n",
       "      <th></th>\n",
       "      <th></th>\n",
       "    </tr>\n",
       "  </thead>\n",
       "  <tbody>\n",
       "    <tr>\n",
       "      <th>Государственная регистрация физического лица в качестве индивидуального предпринимателя признана недействительной в соответствии с пунктом 4 статьи 22.1 Федерального закона от 8 августа 2001 года № 129-ФЗ</th>\n",
       "      <td>2</td>\n",
       "      <td>0.01</td>\n",
       "    </tr>\n",
       "    <tr>\n",
       "      <th>Индивидуальный предприниматель прекратил деятельность в связи с принятием им соответствующего решения</th>\n",
       "      <td>5953</td>\n",
       "      <td>18.52</td>\n",
       "    </tr>\n",
       "    <tr>\n",
       "      <th>Индивидуальный предприниматель прекратил деятельность в связи со смертью</th>\n",
       "      <td>283</td>\n",
       "      <td>0.88</td>\n",
       "    </tr>\n",
       "    <tr>\n",
       "      <th>Исключение из ЕГРЮЛ недействующего юридического лица</th>\n",
       "      <td>6323</td>\n",
       "      <td>19.67</td>\n",
       "    </tr>\n",
       "    <tr>\n",
       "      <th>Исключение из ЕГРЮЛ юридического лица в связи наличием в ЕГРЮЛ сведений о нем, в отношении которых внесена запись о недостоверности</th>\n",
       "      <td>8902</td>\n",
       "      <td>27.69</td>\n",
       "    </tr>\n",
       "    <tr>\n",
       "      <th>Исключение из ЕГРЮЛ юридического лица в связи с невозможностью его ликвидации</th>\n",
       "      <td>3</td>\n",
       "      <td>0.01</td>\n",
       "    </tr>\n",
       "    <tr>\n",
       "      <th>Крестьянское (фермерское) хозяйство прекратило деятельность по решению членов крестьянского (фермерского) хозяйства</th>\n",
       "      <td>222</td>\n",
       "      <td>0.69</td>\n",
       "    </tr>\n",
       "    <tr>\n",
       "      <th>Крестьянское (фермерское) хозяйство утратило государственную регистрацию на основании статьи 3 ФЗ от 23.06.2003 №76-ФЗ</th>\n",
       "      <td>1</td>\n",
       "      <td>0.00</td>\n",
       "    </tr>\n",
       "    <tr>\n",
       "      <th>Ликвидация некоммерческой организации по решению суда</th>\n",
       "      <td>16</td>\n",
       "      <td>0.05</td>\n",
       "    </tr>\n",
       "    <tr>\n",
       "      <th>Ликвидация юридического лица</th>\n",
       "      <td>2954</td>\n",
       "      <td>9.19</td>\n",
       "    </tr>\n",
       "    <tr>\n",
       "      <th>Ликвидация юридического лица по решению суда</th>\n",
       "      <td>2</td>\n",
       "      <td>0.01</td>\n",
       "    </tr>\n",
       "    <tr>\n",
       "      <th>Недействующий ИП исключен из ЕГРИП</th>\n",
       "      <td>927</td>\n",
       "      <td>2.88</td>\n",
       "    </tr>\n",
       "    <tr>\n",
       "      <th>Прекратил деятельность в связи с окончанием срока действия документа, подтверждающего право временно или постоянно проживать в Российской Федерации</th>\n",
       "      <td>87</td>\n",
       "      <td>0.27</td>\n",
       "    </tr>\n",
       "    <tr>\n",
       "      <th>Прекратил деятельность в связи с принятием судом решения о признании его несостоятельным (банкротом)</th>\n",
       "      <td>138</td>\n",
       "      <td>0.43</td>\n",
       "    </tr>\n",
       "    <tr>\n",
       "      <th>Прекратило деятельность в связи с принятием судом решения о признании его несостоятельным (банкротом)</th>\n",
       "      <td>25</td>\n",
       "      <td>0.08</td>\n",
       "    </tr>\n",
       "    <tr>\n",
       "      <th>Прекратило деятельность на основании решения суда</th>\n",
       "      <td>1</td>\n",
       "      <td>0.00</td>\n",
       "    </tr>\n",
       "    <tr>\n",
       "      <th>Прекращение деятельности общественного объединения в качестве юридического лица по решению суда на основании ст.29 Федерального закона от 19.05.1995 №82-ФЗ 'Об общественных объединениях'</th>\n",
       "      <td>1</td>\n",
       "      <td>0.00</td>\n",
       "    </tr>\n",
       "    <tr>\n",
       "      <th>Прекращение деятельности юридического лица в связи с его ликвидацией на основании определения арбитражного суда о завершении конкурсного производства</th>\n",
       "      <td>1640</td>\n",
       "      <td>5.10</td>\n",
       "    </tr>\n",
       "    <tr>\n",
       "      <th>Прекращение деятельности юридического лица в связи с исключением из ЕГРЮЛ на основании п.2 ст.21.1 Федерального закона от 08.08.2001 №129-ФЗ</th>\n",
       "      <td>2253</td>\n",
       "      <td>7.01</td>\n",
       "    </tr>\n",
       "    <tr>\n",
       "      <th>Прекращение деятельности юридического лица путем реорганизации в форме преобразования</th>\n",
       "      <td>370</td>\n",
       "      <td>1.15</td>\n",
       "    </tr>\n",
       "    <tr>\n",
       "      <th>Прекращение деятельности юридического лица путем реорганизации в форме присоединения</th>\n",
       "      <td>1497</td>\n",
       "      <td>4.66</td>\n",
       "    </tr>\n",
       "    <tr>\n",
       "      <th>Прекращение деятельности юридического лица путем реорганизации в форме разделения</th>\n",
       "      <td>14</td>\n",
       "      <td>0.04</td>\n",
       "    </tr>\n",
       "    <tr>\n",
       "      <th>Прекращение деятельности юридического лица путем реорганизации в форме разделения, осуществляемой одновременно с прекращением деятельности вновь созданного при данной реорганизации юридического лица путем его слияния с другими юридическими лицами</th>\n",
       "      <td>1</td>\n",
       "      <td>0.00</td>\n",
       "    </tr>\n",
       "    <tr>\n",
       "      <th>Прекращение деятельности юридического лица путем реорганизации в форме слияния</th>\n",
       "      <td>64</td>\n",
       "      <td>0.20</td>\n",
       "    </tr>\n",
       "    <tr>\n",
       "      <th>Прекращение крестьянского (фермерского) хозяйства в связи с приобретением главой крестьянского (фермерского) хозяйства статуса индивидуального предпринимателя без образования юридического лица</th>\n",
       "      <td>7</td>\n",
       "      <td>0.02</td>\n",
       "    </tr>\n",
       "    <tr>\n",
       "      <th>Регистрация индивидуального предпринимателя признана недействительной (ошибочной) на основании решения регистрирующего органа</th>\n",
       "      <td>64</td>\n",
       "      <td>0.20</td>\n",
       "    </tr>\n",
       "    <tr>\n",
       "      <th>Регистрация индивидуального предпринимателя признана недействительной на основании решения суда</th>\n",
       "      <td>1</td>\n",
       "      <td>0.00</td>\n",
       "    </tr>\n",
       "    <tr>\n",
       "      <th>Регистрация крестьянского (фермерского) хозяйства признана недействительной (ошибочной) на основании решения регистрирующего органа</th>\n",
       "      <td>3</td>\n",
       "      <td>0.01</td>\n",
       "    </tr>\n",
       "    <tr>\n",
       "      <th>Регистрация крестьянского (фермерского) хозяйства признана недействительной на основании решения суда</th>\n",
       "      <td>1</td>\n",
       "      <td>0.00</td>\n",
       "    </tr>\n",
       "    <tr>\n",
       "      <th>Утратил государственную регистрацию в качестве индивидуального предпринимателя на основании статьи 3 ФЗ от 23.06.2003 №76-ФЗ</th>\n",
       "      <td>395</td>\n",
       "      <td>1.23</td>\n",
       "    </tr>\n",
       "    <tr>\n",
       "      <th>All</th>\n",
       "      <td>32150</td>\n",
       "      <td>100.00</td>\n",
       "    </tr>\n",
       "  </tbody>\n",
       "</table>\n",
       "</div>"
      ],
      "text/plain": [
       "                                                    Количество ИНН  Доля, %\n",
       "new_typeofdissolution                                                      \n",
       "Государственная регистрация физического лица в ...               2     0.01\n",
       "Индивидуальный предприниматель прекратил деятел...            5953    18.52\n",
       "Индивидуальный предприниматель прекратил деятел...             283     0.88\n",
       "Исключение из ЕГРЮЛ недействующего юридического...            6323    19.67\n",
       "Исключение из ЕГРЮЛ юридического лица в связи н...            8902    27.69\n",
       "Исключение из ЕГРЮЛ юридического лица в связи с...               3     0.01\n",
       "Крестьянское (фермерское) хозяйство прекратило ...             222     0.69\n",
       "Крестьянское (фермерское) хозяйство утратило го...               1     0.00\n",
       "Ликвидация некоммерческой организации по решени...              16     0.05\n",
       "Ликвидация юридического лица                                  2954     9.19\n",
       "Ликвидация юридического лица по решению суда                     2     0.01\n",
       "Недействующий ИП исключен из ЕГРИП                             927     2.88\n",
       "Прекратил деятельность в связи с окончанием сро...              87     0.27\n",
       "Прекратил деятельность в связи с принятием судо...             138     0.43\n",
       "Прекратило деятельность в связи с принятием суд...              25     0.08\n",
       "Прекратило деятельность на основании решения суда                1     0.00\n",
       "Прекращение деятельности общественного объедине...               1     0.00\n",
       "Прекращение деятельности юридического лица в св...            1640     5.10\n",
       "Прекращение деятельности юридического лица в св...            2253     7.01\n",
       "Прекращение деятельности юридического лица путе...             370     1.15\n",
       "Прекращение деятельности юридического лица путе...            1497     4.66\n",
       "Прекращение деятельности юридического лица путе...              14     0.04\n",
       "Прекращение деятельности юридического лица путе...               1     0.00\n",
       "Прекращение деятельности юридического лица путе...              64     0.20\n",
       "Прекращение крестьянского (фермерского) хозяйст...               7     0.02\n",
       "Регистрация индивидуального предпринимателя при...              64     0.20\n",
       "Регистрация индивидуального предпринимателя при...               1     0.00\n",
       "Регистрация крестьянского (фермерского) хозяйст...               3     0.01\n",
       "Регистрация крестьянского (фермерского) хозяйст...               1     0.00\n",
       "Утратил государственную регистрацию в качестве ...             395     1.23\n",
       "All                                                          32150   100.00"
      ]
     },
     "execution_count": 31,
     "metadata": {},
     "output_type": "execute_result"
    }
   ],
   "source": [
    "df = pd.pivot_table(regdata_from_mdm, index='new_typeofdissolution',  values='new_inn', aggfunc='count', margins=True, fill_value= 0)\\\n",
    "    .rename(columns={'new_inn':'Количество ИНН'})\n",
    "df['Доля, %'] = round(df['Количество ИНН']/df['Количество ИНН']['All']*100,2)\n",
    "df"
   ]
  },
  {
   "cell_type": "code",
   "execution_count": 32,
   "metadata": {},
   "outputs": [],
   "source": [
    "regdata = regdata_from_mdm.copy()\n",
    "regdata['new_accounstatus'] = regdata['new_accounstatus'].fillna('')\n",
    "\n",
    "list_good = ['реорганизац', 'нахождени', 'уменьшения уставного капитала']\n",
    "reason_good  =r'(?P<good>' + \"|\".join(i for i in list_good) + ')'\n",
    "regdata = regdata.join(regdata['new_accounstatus'].str.extract(reason_good, re.IGNORECASE))\n",
    "mask_good = (regdata['good'].notnull())\n",
    "regdata.loc[mask_good, 'status_good'] = True \n",
    "regdata.loc[~mask_good, 'status_good'] = False \n",
    "\n",
    "regdata.drop(columns = ['good'], inplace=True)\n",
    "\n",
    "mask_bad = (regdata['new_accounstatus'].str.contains('прекратит деятельность', re.IGNORECASE))\n",
    "regdata.loc[mask_bad, 'status_good'] = False"
   ]
  },
  {
   "cell_type": "code",
   "execution_count": 33,
   "metadata": {},
   "outputs": [],
   "source": [
    "df = pd.pivot_table(regdata, index=['new_accounstatus', 'status_good'],  values='new_inn', aggfunc='count', margins=True, fill_value= 0)\\\n",
    "    .rename(columns={'new_inn':'Количество ИНН'})\n",
    "# df"
   ]
  },
  {
   "cell_type": "code",
   "execution_count": 34,
   "metadata": {},
   "outputs": [],
   "source": [
    "mask = (regdata['new_typeofdissolution'].notnull())\n",
    "mask_date = (regdata['new_dissolutiondate'].notnull())\n",
    "mask_bad = (regdata['status_good']== False)\n",
    "\n",
    "# display_side_by_side(regdata[(mask | mask_date) & (~mask_bad)])"
   ]
  },
  {
   "cell_type": "code",
   "execution_count": 35,
   "metadata": {},
   "outputs": [
    {
     "name": "stdout",
     "output_type": "stream",
     "text": [
      "Недействующих организаций по данным mdm  40307\n"
     ]
    }
   ],
   "source": [
    "\"\"\"  будем считать недействительными организациями, там где заполнена дата прекращения деятельности \n",
    "    или тип прекращения задан \n",
    "    либо плохой статус стоит\n",
    "\"\"\"\n",
    "mask = (regdata['new_typeofdissolution'].notnull())\n",
    "mask_date = (regdata['new_dissolutiondate'].notnull())\n",
    "mask_bad = (regdata['status_good']== False)\n",
    "\n",
    "regdata_bad = regdata[mask | mask_date | mask_bad].reset_index(drop=True)\n",
    "\n",
    "regdata_bad['status_mdm'] = 'Недействующая организация'\n",
    "\n",
    "print(\"Недействующих организаций по данным mdm \", len(regdata_bad))\n",
    "\n",
    "df = pd.pivot_table(regdata_bad, index='new_accounstatus',  values='new_inn', aggfunc='count', margins=True, fill_value= 0)\\\n",
    "    .rename(columns={'new_inn':'Количество ИНН'})\n",
    "df['Доля, %'] = round(df['Количество ИНН']/df['Количество ИНН']['All']*100,2)\n",
    "# df"
   ]
  },
  {
   "attachments": {},
   "cell_type": "markdown",
   "metadata": {},
   "source": [
    "## Определим общий статус по самому консервативному сценарию"
   ]
  },
  {
   "cell_type": "code",
   "execution_count": 36,
   "metadata": {},
   "outputs": [
    {
     "data": {
      "text/plain": [
       "0"
      ]
     },
     "execution_count": 36,
     "metadata": {},
     "output_type": "execute_result"
    }
   ],
   "source": [
    "df = pd.merge(status_1c[['ИНН', 'Статус_контрагента']], \n",
    "              data_accounts[['NEW_INN', 'StatusCodeName','SupTypeName', '4reliability_group', 'black_list_date']], \n",
    "              how='outer', left_on=['ИНН'], right_on=['NEW_INN'])\n",
    "\n",
    "df['inn'] = df['ИНН'].combine_first(df['NEW_INN'])\n",
    "\n",
    "\n",
    "gen_status = pd.merge(df, target_data[['ИНН контрагента', 'Метка дефолта']], how='outer', left_on=['inn'], right_on=['ИНН контрагента']).reset_index(drop=True)\n",
    "gen_status['inn'] = gen_status['inn'].combine_first(gen_status['ИНН контрагента'])\n",
    "\n",
    "gen_status = pd.merge(gen_status, regdata_bad[['new_inn', 'status_mdm', 'new_typeofdissolution',\t'new_dissolutiondate',\t'new_accounstatus']], \n",
    "                        how='outer', left_on=['inn'], right_on=['new_inn']).reset_index(drop=True)\n",
    "gen_status['inn'] = gen_status['inn'].combine_first(gen_status['new_inn'])\n",
    "\n",
    "\n",
    "# определяем дубликаты по ID\n",
    "num, duplicates = identify_duplicates(gen_status, 'inn')\n",
    "Check_dupl(num, duplicates)\n",
    "\n",
    "gen_status['inn'].isnull().sum()"
   ]
  },
  {
   "cell_type": "code",
   "execution_count": 37,
   "metadata": {},
   "outputs": [],
   "source": [
    "# gen_status.head(1)"
   ]
  },
  {
   "cell_type": "code",
   "execution_count": 38,
   "metadata": {},
   "outputs": [
    {
     "name": "stdout",
     "output_type": "stream",
     "text": [
      "Статус_контрагента:  ['Есть действующий договор(ы)' 'Клиент в прошлом'\n",
      " 'Клиент в прошлом (расторжение)' 'Не было передачи в лизинг'\n",
      " 'Был договор с покупателем' 'Был договор купли-продажи'\n",
      " 'Был договор цессии' 'Был договор по услугам' nan]\n",
      "StatusCodeName:  ['Активный' 'Неактивный' nan 'Отказ УОБ']\n",
      "SupTypeName:  ['В работе' 'Недействующая организация' 'Черный список' nan\n",
      " 'Работа не ведется']\n",
      "4reliability_group:  [False True nan]\n",
      "black_list_date:  [False True nan]\n",
      "Метка дефолта:  [nan  0.  1.]\n",
      "status_mdm:  [nan 'Недействующая организация']\n"
     ]
    }
   ],
   "source": [
    "print('Статус_контрагента: ', gen_status['Статус_контрагента'].unique())\n",
    "\n",
    "print('StatusCodeName: ', gen_status['StatusCodeName'].unique())\n",
    "print('SupTypeName: ', gen_status['SupTypeName'].unique())\n",
    "print('4reliability_group: ', gen_status['4reliability_group'].unique())\n",
    "print('black_list_date: ', gen_status['black_list_date'].unique())\n",
    "\n",
    "print('Метка дефолта: ', gen_status['Метка дефолта'].unique())\n",
    "\n",
    "print('status_mdm: ', gen_status['status_mdm'].unique())"
   ]
  },
  {
   "cell_type": "code",
   "execution_count": 39,
   "metadata": {},
   "outputs": [],
   "source": [
    "mask = (gen_status['status_mdm']=='Недействующая организация')\n",
    "gen_status.loc[mask, 'Статус_общ'] = 'Недействующая организация'\n",
    "\n",
    "mask_null = (gen_status['Статус_общ'].isnull())\n",
    "mask = (gen_status['SupTypeName'].isin(['Черный список', 'Недействующая организация']))\n",
    "gen_status.loc[mask & mask_null, 'Статус_общ'] = gen_status.loc[mask, 'SupTypeName']\n",
    "\n",
    "mask_null = (gen_status['Статус_общ'].isnull())\n",
    "mask = (gen_status['4reliability_group'])\n",
    "gen_status.loc[mask & mask_null, 'Статус_общ'] = 'Четвёртая группа надежности'\n",
    "\n",
    "mask_null = (gen_status['Статус_общ'].isnull())\n",
    "mask = (gen_status['black_list_date'])\n",
    "gen_status.loc[mask & mask_null, 'Статус_общ'] = 'Черный список'\n",
    "\n",
    "mask_null = (gen_status['Статус_общ'].isnull())\n",
    "mask = (gen_status['StatusCodeName']=='Отказ УОБ')\n",
    "gen_status.loc[mask & mask_null, 'Статус_общ'] = 'Отказ УОБ'\n",
    "\n",
    "mask_null = (gen_status['Статус_общ'].isnull())\n",
    "mask = (gen_status['Статус_контрагента']=='Клиент в прошлом (расторжение)')\n",
    "gen_status.loc[mask & mask_null, 'Статус_общ'] = gen_status.loc[mask & mask_null, 'Статус_контрагента']\n",
    "\n",
    "mask_null = (gen_status['Статус_общ'].isnull())\n",
    "mask = (gen_status['Метка дефолта']==1)\n",
    "gen_status.loc[mask & mask_null, 'Статус_общ'] = 'Метка дефолта'\n",
    "\n",
    "mask_null = (gen_status['Статус_общ'].isnull())\n",
    "mask = (gen_status['Статус_контрагента'].notnull())\n",
    "gen_status.loc[mask & mask_null, 'Статус_общ'] = gen_status.loc[mask & mask_null, 'Статус_контрагента']\n",
    "\n",
    "mask_null = (gen_status['Статус_общ'].isnull())\n",
    "gen_status.loc[mask_null, 'Статус_общ'] = 'Не является нашим клиентом'"
   ]
  },
  {
   "cell_type": "code",
   "execution_count": 40,
   "metadata": {},
   "outputs": [],
   "source": [
    "df = pd.pivot_table(gen_status, index='Статус_общ',  values='inn', aggfunc='count', \n",
    "                margins=True, fill_value= 0).rename(columns={'inn':'Количество ИНН'})\n",
    "# df"
   ]
  },
  {
   "cell_type": "code",
   "execution_count": 41,
   "metadata": {},
   "outputs": [],
   "source": [
    "df = pd.pivot_table(gen_status, index=['Статус_общ', 'Статус_контрагента'],  values='inn', aggfunc='count', \n",
    "                margins=True, fill_value= 0).rename(columns={'inn':'Количество ИНН'})\n",
    "# df"
   ]
  },
  {
   "cell_type": "code",
   "execution_count": 42,
   "metadata": {},
   "outputs": [],
   "source": [
    "#  это ИП прекратили действие\n",
    "mask = (gen_status['Статус_общ']=='Недействующая организация')\n",
    "mask_gen = (gen_status['Статус_контрагента']=='Есть действующий договор(ы)')\n",
    "# gen_status[mask&mask_gen].head()"
   ]
  },
  {
   "attachments": {},
   "cell_type": "markdown",
   "metadata": {},
   "source": [
    "### смотрим, есть ли они в bmd"
   ]
  },
  {
   "cell_type": "code",
   "execution_count": 43,
   "metadata": {},
   "outputs": [],
   "source": [
    "clients = pd.merge(gen_status, clients_bmd, how='left', left_on='inn', right_on='INN_IN_BMD')\n",
    "\n",
    "mask = (clients['INN_IN_BMD'].notnull())\n",
    "clients.loc[mask, 'is_in_bmd'] = True\n",
    "clients.loc[~mask, 'is_in_bmd'] = False\n"
   ]
  },
  {
   "cell_type": "code",
   "execution_count": 44,
   "metadata": {},
   "outputs": [],
   "source": [
    "clients[['inn', 'Статус_общ', 'Статус_контрагента', 'is_in_bmd']].to_pickle(pre+\"data/interm/accounts_status.pkl\", compression={'method':'zip'})\n",
    "status_1c[['ИНН', 'Статус_контрагента']].to_pickle(pre+\"data/interm/accounts_status1c.pkl\", compression={'method':'zip'})"
   ]
  },
  {
   "cell_type": "code",
   "execution_count": 45,
   "metadata": {},
   "outputs": [],
   "source": [
    "# сохраняем tmp таблицы\n",
    "if len(writer.sheets):\n",
    "    writer.save()"
   ]
  }
 ],
 "metadata": {
  "interpreter": {
   "hash": "ad2bdc8ecc057115af97d19610ffacc2b4e99fae6737bb82f5d7fb13d2f2c186"
  },
  "kernelspec": {
   "display_name": "Python 3.7.13 ('base')",
   "language": "python",
   "name": "python3"
  },
  "language_info": {
   "codemirror_mode": {
    "name": "ipython",
    "version": 3
   },
   "file_extension": ".py",
   "mimetype": "text/x-python",
   "name": "python",
   "nbconvert_exporter": "python",
   "pygments_lexer": "ipython3",
   "version": "3.7.13"
  },
  "orig_nbformat": 4
 },
 "nbformat": 4,
 "nbformat_minor": 2
}
