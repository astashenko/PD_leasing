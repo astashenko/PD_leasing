{
 "cells": [
  {
   "attachments": {},
   "cell_type": "markdown",
   "metadata": {},
   "source": [
    "##### Чтение данных target_class и выбор только нужных строки, поподающие в одну из выборок и проставляем метки кред и фрод дефолта"
   ]
  },
  {
   "cell_type": "code",
   "execution_count": null,
   "metadata": {},
   "outputs": [],
   "source": [
    "def target_filter(target_data):\n",
    "    target_data.rename(columns={'credit_risk':'экспертный_кред_дефолт'}, inplace=True)\n",
    "    target_data['экспертный_кред_дефолт'] = target_data['экспертный_кред_дефолт'].astype('int')\n",
    "\n",
    "    target_data['Метка кред дефолта'] = target_data['Метка кред дефолта'].combine_first(target_data['экспертный_кред_дефолт'])\n",
    "    # target_data['Метка фрод дефолта'] = target_data['combined_fraud_default']\n",
    "\n",
    "    m1 = (target_data['Попадает в выборку']=='обе модели')\n",
    "    m2 = (target_data['Попадает в выборку']=='только фрод')\n",
    "    target_data = target_data.loc[m1|m2]\n",
    "\n",
    "    #  возьмем только данные с даты принятия решения от 2020 года\n",
    "    target_data = target_data[target_data['Дата принятия решения по сделке']>'01.01.2020'].copy()\n",
    "\n",
    "    #  проверка что в 1 сделке только одни ИНН участвует\n",
    "    target_data['ИНН_count'] = target_data.groupby('Номер сделки')['ИНН контрагента'].transform('nunique')\n",
    "    Check_length(len(target_data[target_data['ИНН_count']>1]), 0) \n",
    "\n",
    "    target_data.reset_index(inplace=True)\n",
    "    target_data.rename(columns = {'index':'Приложение'}, inplace=True)\n",
    "\n",
    "    keep_columns = ['Приложение', 'Номер сделки', 'Номер договора (кратко)', 'ИНН контрагента', \n",
    "                    'Дата принятия решения по сделке', \n",
    "                    'Метка фрод дефолта', 'Метка кред дефолта', 'Попадает в выборку']\n",
    "\n",
    "    target_data = target_data[keep_columns]\n",
    "\n",
    "    return target_data   "
   ]
  },
  {
   "cell_type": "code",
   "execution_count": null,
   "metadata": {},
   "outputs": [],
   "source": [
    "#  исключить крупных клиентов ( по сумма сделки финанисрования) из выборки\n",
    "\n",
    "def filterMajorClients(df_target):\n",
    "    \n",
    "    m = (df_target['DATE_ACTUAL'].between('03.12.18', '25.01.21')) & ((df_target['NL_NEW_PRODUCTNAME']=='Express') | (df_target['O_NEW_TOTALFINANCINGSUM']<=10e+6))\n",
    "    df_target.loc[m, 'маршрутизация_по_моделям'] = True              \n",
    "    m = (df_target['DATE_ACTUAL'].between('25.01.21', '15.12.21')) & ((df_target['NL_NEW_PRODUCTNAME']=='Express') | (df_target['O_NEW_TOTALFINANCINGSUM']<=15e+6))\n",
    "    df_target.loc[m, 'маршрутизация_по_моделям'] = True\n",
    "    m = (df_target['DATE_ACTUAL'].between('15.12.21', '15.07.2022')) & ((df_target['NL_NEW_PRODUCTNAME']=='Express') | (df_target['O_NEW_TOTALFINANCINGSUM']<=20313824))\n",
    "    df_target.loc[m, 'маршрутизация_по_моделям'] = True\n",
    "    m = (df_target['DATE_ACTUAL'].between('15.07.22', '31.03.2023')) & ((df_target['NL_NEW_PRODUCTNAME']=='Express' )| (df_target['O_NEW_TOTALFINANCINGSUM']<=26711533))\n",
    "    df_target.loc[m, 'маршрутизация_по_моделям'] = True\n",
    "    m = (df_target['DATE_ACTUAL']>'31.03.2023') & ((df_target['NL_NEW_PRODUCTNAME']=='Express') | (df_target['O_NEW_TOTALFINANCINGSUM']<=5e+7))\n",
    "    df_target.loc[m, 'маршрутизация_по_моделям'] = True\n",
    "    \n",
    "    df_target.loc[(df_target['маршрутизация_по_моделям']!=True), 'Попадает в выборку'] = None\n",
    "    \n",
    "    return df_target"
   ]
  },
  {
   "attachments": {},
   "cell_type": "markdown",
   "metadata": {},
   "source": [
    "##### Класс Target\n",
    "    Класс Target служит для того, чтобы хранить data данные, а также информацию, являются ли они фрод или кред, и самому формировать эти данные из массива target-class данных\n",
    "    Пример использования:\n",
    "    target_frod = Target(type='фрод', data=target_features) # это фрод дефолт, макс по обращению\n",
    "\n",
    "    target_frod.print_param() # печатает основные показатели обучающих данных (сколько меток)\n"
   ]
  },
  {
   "cell_type": "code",
   "execution_count": null,
   "metadata": {},
   "outputs": [],
   "source": [
    "class Target():\n",
    "    def __init__(self, type, target_data, removeMajorClients=False, by_application=True):\n",
    "        \n",
    "        target_data = target_data.copy()\n",
    "        self.type = type # Фрод или кред\n",
    "        self.mark = 'Метка {} дефолта'.format(type) # наименования столбца в талице target_class\n",
    "\n",
    "        \"\"\" by_application = True метка будет агрегироваться по максимуму в рамках одной сделки\n",
    "            by_application = False это приведенный фрод дефолт на самый первое обращение\n",
    "        \"\"\"\n",
    "        self.by_application = by_application\n",
    "\n",
    "        if type == 'фрод':\n",
    "            valid = [\"только фрод\", \"обе модели\"]\n",
    "        elif type == 'кред':\n",
    "            valid = [\"обе модели\"]\n",
    "            \n",
    "        if removeMajorClients: \n",
    "            target_data = filterMajorClients(target_data)\n",
    "        \n",
    "        if by_application: # метка будет агрегироваться по максимуму в рамках одной сделки\n",
    "            mask = (target_data['ИНН контрагента'].notnull())\n",
    "\n",
    "            data = target_data[mask & (target_data['Попадает в выборку'].isin(valid))].reset_index(drop=True)\n",
    "\n",
    "            # берем по обращению метку максимальную\n",
    "            data['Метка дефолта'] =  data.groupby(['Номер сделки', 'ИНН контрагента'])[self.mark].transform(max)\n",
    "\n",
    "            # и удалим дубли по номеру сделки. Это наши рассматриваемые таблица без дублей по номерам сделок\n",
    "            data = data.drop_duplicates(subset=['Номер сделки', 'ИНН контрагента']).reset_index()\n",
    "            \n",
    "        else:  #  это приведенный фрод дефолт на самый первое обращение\n",
    "            mask = (target_data['ИНН контрагента'].notnull())\n",
    "  \n",
    "            data = target_data[mask & (target_data['Попадает в выборку'].isin(valid))].reset_index(drop=True)\n",
    "            \n",
    "            # берем по контрагенту метку максимальную\n",
    "            data['Метка дефолта'] = data.groupby('ИНН контрагента')[self.mark].transform(max) \n",
    "\n",
    "            # уберем все остальные сделки по фроду кроме первого обращения\n",
    "            data['Num_Application'] = data.sort_values(by='Дата принятия решения по сделке').groupby('ИНН контрагента').cumcount()\n",
    "            mask = ((data['Num_Application']>0) & (data['Метка дефолта']==1))\n",
    "            data = data[~mask].reset_index(drop=True)\n",
    "            data.drop(columns='Num_Application', inplace=True)\n",
    "\n",
    "            # и удалим дубли по номеру сделки\n",
    "            data.drop_duplicates(subset=['Номер сделки', 'ИНН контрагента'], inplace=True, ignore_index=True)\n",
    "            data = data.reset_index()\n",
    "        \n",
    "        # результирующая таблица с метками для дальнейшего анализа\n",
    "        self.data = data # Это наша рассматриваемая таблица без дублей по номерам сделок\n",
    "\n",
    "    def print_param(self):        # печатаем, что получилось\n",
    "        type_app = 'по обращениям' if self.by_application else 'приведенный фрод дефолт на самое первое обращение' \n",
    "\n",
    "        print(\"\\nПараметры обработанной таблицы портфеля рисков  {}:\".format(type_app))\n",
    "        print(\"\\t{} дефолт = 1  у выборки {} из {} ({}%)\".format(self.type, self.data['Метка дефолта'].sum(), len(self.data), \n",
    "                                round(float(self.data['Метка дефолта'].sum()/len(self.data)*100), 2)))"
   ]
  }
 ],
 "metadata": {
  "interpreter": {
   "hash": "ad2bdc8ecc057115af97d19610ffacc2b4e99fae6737bb82f5d7fb13d2f2c186"
  },
  "kernelspec": {
   "display_name": "Python 3.7.13 ('base')",
   "language": "python",
   "name": "python3"
  },
  "language_info": {
   "codemirror_mode": {
    "name": "ipython",
    "version": 3
   },
   "file_extension": ".py",
   "mimetype": "text/x-python",
   "name": "python",
   "nbconvert_exporter": "python",
   "pygments_lexer": "ipython3",
   "version": "3.7.13"
  },
  "orig_nbformat": 4
 },
 "nbformat": 4,
 "nbformat_minor": 2
}
