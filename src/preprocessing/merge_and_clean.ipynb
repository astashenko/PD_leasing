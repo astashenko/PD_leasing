{
 "cells": [
  {
   "attachments": {},
   "cell_type": "markdown",
   "metadata": {},
   "source": [
    "### Соединение таблицы лизинголучателей, лизингодателей, предметов лизинга, определить записи по одному договору по полю origin_by_message\n",
    "Входных данных нет  \n",
    "Чтение всех таблиц, соединение таблиц лизинголучателей, лизингодателей, предметов лизинга, определение записией по одному договору по полю origin_by_message  \n",
    "Merge and clean  \n",
    "Выходной файл data/interm/merge_cleaned.pkl  "
   ]
  },
  {
   "attachments": {},
   "cell_type": "markdown",
   "metadata": {},
   "source": [
    "<a id=\"Initialization\"></a>\n",
    "\n",
    "# Инициализация"
   ]
  },
  {
   "cell_type": "code",
   "execution_count": 1,
   "metadata": {},
   "outputs": [],
   "source": [
    "pre = '../../' # путь до главной директории проекта\n",
    "\n",
    "%run ../init.ipynb #подгрузить нужные библиотеки\n",
    "%run ../params.ipynb #параметры как логин пароль к БИ, параметры расчёта ( в нашем случае их нет)\n",
    "%run ../init_mdm.ipynb"
   ]
  },
  {
   "cell_type": "code",
   "execution_count": 2,
   "metadata": {},
   "outputs": [],
   "source": [
    "# сюда таблицы будем кидать, для отчетов\n",
    "name = pre + \"data/interm/auxilary/merge_and_clean.xlsx\"\n",
    "writer = ExcelWriter(name)"
   ]
  },
  {
   "cell_type": "code",
   "execution_count": 3,
   "metadata": {},
   "outputs": [
    {
     "name": "stdout",
     "output_type": "stream",
     "text": [
      "Прочитанный размер файла из financialleasecontract (1416028, 20)\n"
     ]
    }
   ],
   "source": [
    "name = pre + \"data/interm/external_pkl/financialleasecontract.pkl\"\n",
    "financialleasecontract = pd.read_pickle(name, compression={'method':'zip'})\n",
    "\n",
    "tmp = financialleasecontract[financialleasecontract['new_kreditmessage_number']=='02921408']\n",
    "tmp.to_excel(writer, sheet_name='financialleasecontract')\n",
    "\n",
    "print(\"Прочитанный размер файла из financialleasecontract {}\".format(financialleasecontract.shape))\n",
    "# financialleasecontract.head(1)"
   ]
  },
  {
   "cell_type": "code",
   "execution_count": 4,
   "metadata": {},
   "outputs": [
    {
     "name": "stdout",
     "output_type": "stream",
     "text": [
      "Прочитанный размер файла из financialleasecontractlessees (1411919, 12)\n"
     ]
    }
   ],
   "source": [
    "name = pre + \"data/interm/external_pkl/financialleasecontractlessees.pkl\"\n",
    "financialleasecontractlessees = pd.read_pickle(name, compression={'method':'zip'})\n",
    "\n",
    "print(\"Прочитанный размер файла из financialleasecontractlessees {}\".format(financialleasecontractlessees.shape))\n",
    "# financialleasecontractlessees.head(1)"
   ]
  },
  {
   "cell_type": "code",
   "execution_count": 5,
   "metadata": {},
   "outputs": [
    {
     "name": "stdout",
     "output_type": "stream",
     "text": [
      "Прочитанный размер файла из financialleasecontractlessors (1341360, 12)\n"
     ]
    }
   ],
   "source": [
    "name = pre + \"data/interm/external_pkl/financialleasecontractlessors.pkl\"\n",
    "financialleasecontractlessors = pd.read_pickle(name, compression={'method':'zip'})\n",
    "\n",
    "print(\"Прочитанный размер файла из financialleasecontractlessors {}\".format(financialleasecontractlessors.shape))\n",
    "# financialleasecontractlessors.head(1)"
   ]
  },
  {
   "cell_type": "code",
   "execution_count": 6,
   "metadata": {},
   "outputs": [
    {
     "name": "stdout",
     "output_type": "stream",
     "text": [
      "Прочитанный размер файла из financialleasecontractobject (3210319, 12)\n"
     ]
    }
   ],
   "source": [
    "name = pre + \"data/interm/external_pkl/financialleasecontractobject.pkl\"\n",
    "financialleasecontractobject = pd.read_pickle(name, compression={'method':'zip'})\n",
    "\n",
    "print(\"Прочитанный размер файла из financialleasecontractobject {}\".format(financialleasecontractobject.shape))\n",
    "# financialleasecontractobject.head(1)"
   ]
  },
  {
   "cell_type": "code",
   "execution_count": 7,
   "metadata": {},
   "outputs": [
    {
     "name": "stdout",
     "output_type": "stream",
     "text": [
      "Прочитанный размер файла из Классификатор имущества (168, 2)\n"
     ]
    }
   ],
   "source": [
    "name = pre + \"data/interm/external_pkl/Классификатор имущества.pkl\"\n",
    "df_codes = pd.read_pickle(name, compression={'method':'zip'})\n",
    "\n",
    "print(\"Прочитанный размер файла из Классификатор имущества {}\".format(df_codes.shape))\n",
    "# df_codes.head(1)"
   ]
  },
  {
   "attachments": {},
   "cell_type": "markdown",
   "metadata": {},
   "source": [
    "## financialleasecontract"
   ]
  },
  {
   "cell_type": "code",
   "execution_count": 8,
   "metadata": {},
   "outputs": [],
   "source": [
    "# определяем дубликаты по New_kreditmessage_number\n",
    "num, duplicates = identify_duplicates(financialleasecontract, 'new_kreditmessage_number')\n",
    "Check_dupl(num, duplicates)\n",
    "\n",
    "num, duplicates = identify_duplicates(financialleasecontract, 'Id')\n",
    "Check_dupl(num, duplicates)"
   ]
  },
  {
   "cell_type": "code",
   "execution_count": 9,
   "metadata": {},
   "outputs": [],
   "source": [
    "financialleasecontract['new_leasing_enddate'] = pd.to_datetime(financialleasecontract['new_leasing_enddate'], errors='coerce')\n",
    "financialleasecontract['leasingcontract_year'] = financialleasecontract['new_leasingcontract_date'].dt.year\n",
    "financialleasecontract['leasing_startyear'] = financialleasecontract['new_leasing_startdate'].dt.year\n",
    "\n",
    "financialleasecontract['Id'] = financialleasecontract['Id'].astype(str)\n",
    "\n",
    "financialleasecontract['new_kreditmessage_type'] = financialleasecontract['new_kreditmessage_type'].astype('category')\n"
   ]
  },
  {
   "attachments": {},
   "cell_type": "markdown",
   "metadata": {},
   "source": [
    "## financialleasecontractobject"
   ]
  },
  {
   "cell_type": "code",
   "execution_count": 10,
   "metadata": {},
   "outputs": [],
   "source": [
    "financialleasecontractobject.rename(columns={'New_kreditmessage_number':'new_kreditmessage_number'}, inplace=True)"
   ]
  },
  {
   "cell_type": "code",
   "execution_count": 11,
   "metadata": {},
   "outputs": [],
   "source": [
    "# определяем дубликаты по Id\n",
    "num, duplicates = identify_duplicates(financialleasecontractobject, 'Id')\n",
    "Check_dupl(num, duplicates)"
   ]
  },
  {
   "cell_type": "code",
   "execution_count": 12,
   "metadata": {},
   "outputs": [],
   "source": [
    "financialleasecontractobject['Id'] = financialleasecontractobject['Id'].astype(str)"
   ]
  },
  {
   "cell_type": "code",
   "execution_count": 13,
   "metadata": {},
   "outputs": [],
   "source": [
    "# определяем дубликаты по New_kreditmessage_number\n",
    "num, duplicates = identify_duplicates(financialleasecontractobject, 'new_kreditmessage_number')\n",
    "# Check_dupl(num, duplicates)\n",
    "# вывод на 1 договор несколько ПЛ"
   ]
  },
  {
   "cell_type": "code",
   "execution_count": 14,
   "metadata": {},
   "outputs": [],
   "source": [
    "financialleasecontractobject['new_leasingsubject_code'] = [code if code =='99' or  code =='' or code[0] =='0' else  \"0\" + code for code in financialleasecontractobject['new_leasingsubject_code']]"
   ]
  },
  {
   "cell_type": "code",
   "execution_count": 15,
   "metadata": {},
   "outputs": [],
   "source": [
    "objects = pd.merge(financialleasecontractobject, df_codes, how='left', left_on='new_leasingsubject_code', right_on='content_FinancialLeaseSubject_ClassifierCode')"
   ]
  },
  {
   "cell_type": "code",
   "execution_count": 16,
   "metadata": {},
   "outputs": [],
   "source": [
    "objects.loc[objects['content_FinancialLeaseSubject_ClassifierCode'].isnull(), 'ClassifierName'] = objects.loc[objects['content_FinancialLeaseSubject_ClassifierCode'].isnull(), 'new_leasingsubject'] \n"
   ]
  },
  {
   "cell_type": "code",
   "execution_count": 17,
   "metadata": {},
   "outputs": [],
   "source": [
    "objects.drop(columns=['new_leasedassetsclass', 'content_FinancialLeaseSubject_ClassifierCode'], inplace=True)"
   ]
  },
  {
   "attachments": {},
   "cell_type": "markdown",
   "metadata": {},
   "source": [
    "удалим дубли по предметам лизинга, оставляя приоритет транспортные средства"
   ]
  },
  {
   "cell_type": "code",
   "execution_count": 18,
   "metadata": {},
   "outputs": [],
   "source": [
    "\"\"\"  если автомобиль, то пусть будет самым приоритетным, потом идет транспортное средство, потом все остальное.\n",
    " то оно пусть будет в приоритете, добавим prefix 0, 1. к остальным кодам '2'\"\"\"\n",
    " \n",
    "def car_priority(ClassifierCode):\n",
    "   prefix = np.where(ClassifierCode.isin(['0106008', '0106011']), '0', np.where(ClassifierCode.str.startswith('0106'), '1', '2')) \n",
    "   return prefix + ClassifierCode\n",
    "\n",
    "sort_object = objects.sort_values(by = ['new_leasingsubject_code'], key=car_priority)\n",
    "# sort_object[sort_object['new_kreditmessage_number']=='01025531']"
   ]
  },
  {
   "cell_type": "code",
   "execution_count": 19,
   "metadata": {},
   "outputs": [],
   "source": [
    "object_one_pl = sort_object.drop_duplicates(subset='new_kreditmessage_number', keep='first').reset_index(drop=True)"
   ]
  },
  {
   "attachments": {},
   "cell_type": "markdown",
   "metadata": {},
   "source": [
    "## financialleasecontractlessees (лизингополучатели)"
   ]
  },
  {
   "cell_type": "code",
   "execution_count": 20,
   "metadata": {},
   "outputs": [
    {
     "name": "stdout",
     "output_type": "stream",
     "text": [
      "405\n",
      "\u001b[91m Ошибка. Количество дубликатов 1376\u001b[00m\n"
     ]
    }
   ],
   "source": [
    "# определяем дубликаты по New_kreditmessage_number\n",
    "num, duplicates = identify_duplicates(financialleasecontractlessees, 'new_kreditmessage_number')\n",
    "print(duplicates['new_lessee_inn'].nunique())\n",
    "Check_dupl(num, duplicates, display=False)\n",
    "# вывод на 1 договор несколько лизингополучателей, таких 339 различных ИНН, похоже что входят в группу"
   ]
  },
  {
   "attachments": {},
   "cell_type": "markdown",
   "metadata": {},
   "source": [
    "Для дальнейшего анализа дубли удалять не будем, будем считать за 2 договора или наоборот удалить, чтобы не мешались"
   ]
  },
  {
   "cell_type": "code",
   "execution_count": 21,
   "metadata": {},
   "outputs": [],
   "source": [
    "financialleasecontractlessees.drop_duplicates(subset='new_kreditmessage_number', inplace=True, ignore_index=True)"
   ]
  },
  {
   "cell_type": "code",
   "execution_count": 22,
   "metadata": {},
   "outputs": [
    {
     "name": "stdout",
     "output_type": "stream",
     "text": [
      "[12. 10. nan]\n"
     ]
    },
    {
     "data": {
      "text/plain": [
       "10.0    1235543\n",
       "12.0     173516\n",
       "Name: new_lessee_inn, dtype: int64"
      ]
     },
     "execution_count": 22,
     "metadata": {},
     "output_type": "execute_result"
    }
   ],
   "source": [
    "inn_lengh = financialleasecontractlessees['new_lessee_inn'].str.len()\n",
    "print(inn_lengh.unique() )                    \n",
    "inn_lengh.value_counts()"
   ]
  },
  {
   "cell_type": "code",
   "execution_count": 23,
   "metadata": {},
   "outputs": [],
   "source": [
    "financialleasecontractlessees['Id'] = financialleasecontractlessees['Id'].astype(str)"
   ]
  },
  {
   "attachments": {},
   "cell_type": "markdown",
   "metadata": {},
   "source": [
    "## financialleasecontractlessors"
   ]
  },
  {
   "cell_type": "code",
   "execution_count": 24,
   "metadata": {},
   "outputs": [
    {
     "name": "stdout",
     "output_type": "stream",
     "text": [
      "8\n",
      "\u001b[91m Ошибка. Количество дубликатов 43\u001b[00m\n"
     ]
    }
   ],
   "source": [
    "# определяем дубликаты по New_kreditmessage_number\n",
    "num, duplicates = identify_duplicates(financialleasecontractlessors, 'new_kreditmessage_number')\n",
    "print(duplicates['new_creditor_inn'].nunique())\n",
    "Check_dupl(num, duplicates, display=False)\n",
    "# вывод на 1 договор несколько лизингодателей, но таких всего 8 ИНН, поэтому тоже удалю произвольным способом"
   ]
  },
  {
   "cell_type": "code",
   "execution_count": 25,
   "metadata": {},
   "outputs": [],
   "source": [
    "financialleasecontractlessors.drop_duplicates(subset='new_kreditmessage_number', inplace=True, ignore_index=True)"
   ]
  },
  {
   "cell_type": "code",
   "execution_count": 26,
   "metadata": {},
   "outputs": [],
   "source": [
    "financialleasecontractlessors['Id'] = financialleasecontractlessors['Id'].astype(str)"
   ]
  },
  {
   "attachments": {},
   "cell_type": "markdown",
   "metadata": {},
   "source": [
    "## находим цепочки по new_kreditmessage_number, определяем первичный договор"
   ]
  },
  {
   "cell_type": "code",
   "execution_count": 27,
   "metadata": {},
   "outputs": [],
   "source": [
    "G = nx.from_pandas_edgelist(financialleasecontract[financialleasecontract['new_changemessage_publishe_number'].notnull()], \\\n",
    "                            'new_changemessage_publishe_number', 'new_kreditmessage_number', None, nx.DiGraph)"
   ]
  },
  {
   "cell_type": "code",
   "execution_count": 28,
   "metadata": {},
   "outputs": [
    {
     "data": {
      "text/html": [
       "<div>\n",
       "<style scoped>\n",
       "    .dataframe tbody tr th:only-of-type {\n",
       "        vertical-align: middle;\n",
       "    }\n",
       "\n",
       "    .dataframe tbody tr th {\n",
       "        vertical-align: top;\n",
       "    }\n",
       "\n",
       "    .dataframe thead th {\n",
       "        text-align: right;\n",
       "    }\n",
       "</style>\n",
       "<table border=\"1\" class=\"dataframe\">\n",
       "  <thead>\n",
       "    <tr style=\"text-align: right;\">\n",
       "      <th></th>\n",
       "      <th>new_kreditmessage_number</th>\n",
       "      <th>ancestors</th>\n",
       "      <th>origin_by_message</th>\n",
       "    </tr>\n",
       "  </thead>\n",
       "  <tbody>\n",
       "    <tr>\n",
       "      <th>582749</th>\n",
       "      <td>05639777</td>\n",
       "      <td>{}</td>\n",
       "      <td>05639777</td>\n",
       "    </tr>\n",
       "    <tr>\n",
       "      <th>582750</th>\n",
       "      <td>12044325</td>\n",
       "      <td>{05639777}</td>\n",
       "      <td>05639777</td>\n",
       "    </tr>\n",
       "    <tr>\n",
       "      <th>587877</th>\n",
       "      <td>12178446</td>\n",
       "      <td>{12044325, 05639777}</td>\n",
       "      <td>05639777</td>\n",
       "    </tr>\n",
       "  </tbody>\n",
       "</table>\n",
       "</div>"
      ],
      "text/plain": [
       "       new_kreditmessage_number             ancestors origin_by_message\n",
       "582749                 05639777                    {}          05639777\n",
       "582750                 12044325            {05639777}          05639777\n",
       "587877                 12178446  {12044325, 05639777}          05639777"
      ]
     },
     "execution_count": 28,
     "metadata": {},
     "output_type": "execute_result"
    }
   ],
   "source": [
    "nodes = {node:nx.ancestors(G, node) for node in G.nodes}\n",
    "origins = {node for node, ancestors in nodes.items() if len(ancestors)==0}\n",
    "df_nodes = pd.DataFrame(nodes.items(), columns=['new_kreditmessage_number', 'ancestors'])\n",
    "df_nodes['origin_by_message'] = [ row.new_kreditmessage_number if len(row.ancestors)==0 else (row.ancestors & origins).pop() for row in df_nodes.itertuples()]\n",
    "df_nodes[(df_nodes['new_kreditmessage_number'].isin(['05639777', '12044325',  '12178446']))]"
   ]
  },
  {
   "attachments": {},
   "cell_type": "markdown",
   "metadata": {},
   "source": [
    "## Таблица договоров с определенным первичным приложением"
   ]
  },
  {
   "cell_type": "code",
   "execution_count": 29,
   "metadata": {},
   "outputs": [],
   "source": [
    "financialleasecontract_origin = pd.merge(financialleasecontract, df_nodes, how='left', on='new_kreditmessage_number')\n",
    "financialleasecontract_origin.loc[financialleasecontract_origin['origin_by_message'].isnull(), 'origin_by_message'] = \\\n",
    "        financialleasecontract_origin.loc[financialleasecontract_origin['origin_by_message'].isnull(), 'new_kreditmessage_number']"
   ]
  },
  {
   "attachments": {},
   "cell_type": "markdown",
   "metadata": {},
   "source": [
    "##  Определение, чем соединять договоры с таблицей лизингодателей"
   ]
  },
  {
   "cell_type": "code",
   "execution_count": 30,
   "metadata": {},
   "outputs": [],
   "source": [
    "lessors_tmp = pd.merge(financialleasecontract_origin, financialleasecontractlessors[['Id', 'new_creditor_inn', 'new_kreditmessage_number']], how='left', \n",
    "                            on='new_kreditmessage_number', suffixes=[\"\", \"_lessor\"])\n",
    "lessors_tmp['Id_lessor'].fillna(\"\", inplace=True)\n",
    "\n",
    "Check_length(len(financialleasecontract_origin), len(lessors_tmp))"
   ]
  },
  {
   "cell_type": "code",
   "execution_count": 31,
   "metadata": {},
   "outputs": [],
   "source": [
    "grouped = lessors_tmp.groupby(['origin_by_message'])\n",
    "lessors_tmp['lessors_unique'] = grouped['new_creditor_inn'].transform('nunique')\n",
    "lessors_tmp['Id_lessor_max'] = grouped['Id_lessor'].transform('max')\n",
    "# get_contract_by_number(lessors_tmp, 'АЛ 192386/01-21')"
   ]
  },
  {
   "cell_type": "code",
   "execution_count": 32,
   "metadata": {},
   "outputs": [],
   "source": [
    "# там где Id_lessor не заполнено, то проставим то, у кого нашли в цепочке, соединять будем уже по новому полю\n",
    "mask = (lessors_tmp['Id_lessor']==\"\")\n",
    "lessors_tmp.loc[mask, 'Id_lessor_to_merge'] = lessors_tmp.loc[mask, 'Id_lessor_max'] \n",
    "lessors_tmp.loc[~mask, 'Id_lessor_to_merge'] = lessors_tmp.loc[~mask, 'Id_lessor'] \n",
    "# get_contract_by_number(lessors_tmp, 'АЛ 192386/01-21')"
   ]
  },
  {
   "cell_type": "code",
   "execution_count": 33,
   "metadata": {},
   "outputs": [],
   "source": [
    "# таким проставим одного из  лизингодателей \n",
    "mask = (lessors_tmp['lessors_unique']>1)\n",
    "lessors_tmp.loc[mask, 'Id_lessor_to_merge'] = lessors_tmp.loc[mask, 'Id_lessor_max'] \n",
    "# get_contract_by_number(lessors_tmp, '004/20Б-ЛФ')"
   ]
  },
  {
   "cell_type": "code",
   "execution_count": 34,
   "metadata": {},
   "outputs": [],
   "source": [
    "# теперь оставим в таблице контрактов только поле с которым будем соединять таблицу лизингополучателей\n",
    "contract_lessors_to_merge = lessors_tmp.drop(columns=['Id_lessor', 'new_creditor_inn' ,'lessors_unique', 'Id_lessor_max'])\n"
   ]
  },
  {
   "attachments": {},
   "cell_type": "markdown",
   "metadata": {},
   "source": [
    "## Определение, чем соединять договоры с таблицей предметов лизинга"
   ]
  },
  {
   "cell_type": "code",
   "execution_count": 35,
   "metadata": {},
   "outputs": [],
   "source": [
    "objects_tmp = pd.merge(contract_lessors_to_merge, object_one_pl[['Id', 'new_leasingsubject_guid', 'new_kreditmessage_number']], how='left', on='new_kreditmessage_number', suffixes=[\"\", \"_object\"])\\\n",
    "                .sort_values(by='new_kreditmessage_date')\n",
    "objects_tmp['Id_object'].fillna(\"\", inplace=True)\n",
    "\n",
    "Check_length(len(contract_lessors_to_merge), len(objects_tmp))"
   ]
  },
  {
   "cell_type": "code",
   "execution_count": 36,
   "metadata": {},
   "outputs": [],
   "source": [
    "grouped = objects_tmp.groupby(['origin_by_message'])\n",
    "objects_tmp['object_unique'] = grouped['new_leasingsubject_guid'].transform('nunique')\n",
    "objects_tmp['Id_object_max'] = grouped['Id_object'].transform('max')\n"
   ]
  },
  {
   "cell_type": "code",
   "execution_count": 37,
   "metadata": {},
   "outputs": [],
   "source": [
    "# там где Id_lessor не заполнено, то проставим то, у кого нашли в цепочке, соединять будем уже по новому полю\n",
    "mask = (objects_tmp['Id_object']==\"\")\n",
    "objects_tmp.loc[mask, 'Id_object_to_merge'] = objects_tmp.loc[mask, 'Id_object_max'] \n",
    "objects_tmp.loc[~mask, 'Id_object_to_merge'] = objects_tmp.loc[~mask, 'Id_object'] \n"
   ]
  },
  {
   "cell_type": "code",
   "execution_count": 38,
   "metadata": {},
   "outputs": [],
   "source": [
    "# теперь может соединять\n",
    "contract_lessors_objects_to_merge = objects_tmp.drop(columns=['Id_object', 'new_leasingsubject_guid' ,'object_unique', 'Id_object_max'])"
   ]
  },
  {
   "cell_type": "code",
   "execution_count": 39,
   "metadata": {},
   "outputs": [
    {
     "data": {
      "text/plain": [
       "(1416028, 26)"
      ]
     },
     "execution_count": 39,
     "metadata": {},
     "output_type": "execute_result"
    }
   ],
   "source": [
    "contract_lessors_objects_to_merge.shape"
   ]
  },
  {
   "attachments": {},
   "cell_type": "markdown",
   "metadata": {},
   "source": [
    "## Определение, чем соединять договоры с таблицей лизингополучателей"
   ]
  },
  {
   "cell_type": "code",
   "execution_count": 40,
   "metadata": {},
   "outputs": [],
   "source": [
    "lessee_tmp = pd.merge(contract_lessors_objects_to_merge, financialleasecontractlessees[['Id', 'new_lessee_inn', 'new_kreditmessage_number']], how='left', on='new_kreditmessage_number', suffixes=[\"\", \"_lessee\"])\\\n",
    "                .sort_values(by='new_kreditmessage_date')\n",
    "lessee_tmp['Id_lessee'].fillna(\"\", inplace=True)\n",
    "\n",
    "Check_length(len(lessee_tmp), len(contract_lessors_objects_to_merge))\n",
    "\n",
    "grouped = lessee_tmp.groupby(['origin_by_message'])\n",
    "lessee_tmp['lessee_unique'] = grouped['new_lessee_inn'].transform('nunique')\n",
    "lessee_tmp['Id_lessee_max'] = grouped['Id_lessee'].transform('max')\n",
    "lessee_tmp['Id_lessee_pre'] = grouped['Id_lessee'].shift(1)"
   ]
  },
  {
   "cell_type": "code",
   "execution_count": 41,
   "metadata": {},
   "outputs": [],
   "source": [
    "\"\"\" там где Id_lessee не заполнено, то проставим то, у кого нашли в цепочке, соединять будем уже по новому полю,\n",
    "но только если лизингополучатель один, если был перенайм, то не проставляем,\n",
    "и то будут ошибки если не проставлено именно у перенайма\n",
    "\n",
    "если запись окончания договора то проставляем лизингополучателя у последней записи\n",
    "\"\"\"\n",
    "mask_empty = (lessee_tmp['Id_lessee']==\"\") \n",
    "mask_unique = (lessee_tmp['lessee_unique']==1)\n",
    "mask_several = (lessee_tmp['lessee_unique']>1) \n",
    "mask_stop = (lessee_tmp['new_kreditmessage_type']=='StopFinancialLeaseContract') \n",
    "\n",
    "lessee_tmp.loc[mask_empty & mask_unique, 'Id_lessee_to_merge'] = lessee_tmp.loc[mask_empty & mask_unique, 'Id_lessee_max'] \n",
    "lessee_tmp.loc[mask_empty & mask_several & mask_stop, 'Id_lessee_to_merge'] = lessee_tmp.loc[mask_empty & mask_several & mask_stop, 'Id_lessee_pre'] \n",
    "\n",
    "mask = (lessee_tmp['Id_lessee_to_merge'].isnull()) \n",
    "lessee_tmp.loc[mask, 'Id_lessee_to_merge'] = lessee_tmp.loc[mask, 'Id_lessee'] "
   ]
  },
  {
   "cell_type": "code",
   "execution_count": 42,
   "metadata": {},
   "outputs": [],
   "source": [
    "# теперь может соединять\n",
    "contract_to_merge = lessee_tmp.drop(columns=['Id_lessee', 'new_lessee_inn' ,'lessee_unique', 'Id_lessee_max', 'Id_lessee_pre'])"
   ]
  },
  {
   "attachments": {},
   "cell_type": "markdown",
   "metadata": {},
   "source": [
    "## Теперь все соединяем"
   ]
  },
  {
   "cell_type": "code",
   "execution_count": 43,
   "metadata": {},
   "outputs": [],
   "source": [
    "contracts_lessors = pd.merge(contract_to_merge, financialleasecontractlessors, how='left', left_on='Id_lessor_to_merge', right_on='Id', suffixes=[\"\", \"_lessor\"])\n",
    "Check_length(len(contracts_lessors), len(contract_to_merge))"
   ]
  },
  {
   "cell_type": "code",
   "execution_count": 44,
   "metadata": {},
   "outputs": [],
   "source": [
    "contracts_lessee = pd.merge(contracts_lessors, financialleasecontractlessees, how='left', left_on='Id_lessee_to_merge', right_on='Id', suffixes=[\"\", \"_lessee\"])\n",
    "\n",
    "Check_length(len(contracts_lessee), len(contracts_lessors))"
   ]
  },
  {
   "cell_type": "code",
   "execution_count": 45,
   "metadata": {},
   "outputs": [],
   "source": [
    "contracts_objects = pd.merge(contracts_lessee, financialleasecontractobject, how='left', left_on='Id_object_to_merge', right_on='Id', suffixes=[\"\", \"_object\"])\n",
    "\n",
    "Check_length(len(contracts_objects), len(contracts_lessee))"
   ]
  },
  {
   "cell_type": "code",
   "execution_count": 46,
   "metadata": {},
   "outputs": [],
   "source": [
    "contracts = contracts_objects.sort_values(by='new_kreditmessage_date').reset_index()"
   ]
  },
  {
   "attachments": {},
   "cell_type": "markdown",
   "metadata": {},
   "source": [
    "#### удалим лишние строки и заполним null поля"
   ]
  },
  {
   "attachments": {},
   "cell_type": "markdown",
   "metadata": {},
   "source": [
    "1. удалим все строки где не заполнен лизингополучатель"
   ]
  },
  {
   "cell_type": "code",
   "execution_count": 47,
   "metadata": {},
   "outputs": [
    {
     "name": "stdout",
     "output_type": "stream",
     "text": [
      "лизингополучатель не заполнен у 3241 строк, 0.23%\n"
     ]
    }
   ],
   "source": [
    "n = contracts['new_lessee_inn'].isnull().sum()\n",
    "print(\"лизингополучатель не заполнен у {} строк, {}%\".format(n,round(n/len(contracts)*100, 2)))"
   ]
  },
  {
   "cell_type": "code",
   "execution_count": 48,
   "metadata": {},
   "outputs": [
    {
     "name": "stdout",
     "output_type": "stream",
     "text": [
      "(1412787, 64)\n"
     ]
    }
   ],
   "source": [
    "contracts = contracts[contracts['new_lessee_inn'].notnull()]\n",
    "print(contracts.shape)"
   ]
  },
  {
   "attachments": {},
   "cell_type": "markdown",
   "metadata": {},
   "source": [
    "2. проставим пустым инн лизингодателя, будем считать что это компании коорые не должны раскрывать себя"
   ]
  },
  {
   "cell_type": "code",
   "execution_count": 49,
   "metadata": {},
   "outputs": [
    {
     "name": "stdout",
     "output_type": "stream",
     "text": [
      "лизингодатель не заполнен у 395260 строк, 27.98%\n"
     ]
    }
   ],
   "source": [
    "n = contracts['new_creditor_inn'].isnull().sum()\n",
    "print(\"лизингодатель не заполнен у {} строк, {}%\".format(n,round(n/len(contracts)*100, 2)))"
   ]
  },
  {
   "cell_type": "code",
   "execution_count": 50,
   "metadata": {},
   "outputs": [],
   "source": [
    "contracts['new_creditor_inn'] = contracts['new_creditor_inn'].fillna(\"\")"
   ]
  },
  {
   "attachments": {},
   "cell_type": "markdown",
   "metadata": {},
   "source": [
    "3. напишем что не найден предмет лизинга, если не найдено соответствие"
   ]
  },
  {
   "cell_type": "code",
   "execution_count": 51,
   "metadata": {},
   "outputs": [
    {
     "name": "stdout",
     "output_type": "stream",
     "text": [
      "не найден предмет лизинга не заполнен у 9164 строк, 0.65%\n"
     ]
    }
   ],
   "source": [
    "n = contracts['new_leasingsubject'].isnull().sum()\n",
    "print(\"не найден предмет лизинга не заполнен у {} строк, {}%\".format(n,round(n/len(contracts)*100, 2)))"
   ]
  },
  {
   "cell_type": "code",
   "execution_count": 52,
   "metadata": {},
   "outputs": [],
   "source": [
    "contracts['new_leasingsubject'] = contracts['new_leasingsubject'].fillna(\"not_found\")"
   ]
  },
  {
   "attachments": {},
   "cell_type": "markdown",
   "metadata": {},
   "source": [
    "4. определим причину завершения"
   ]
  },
  {
   "cell_type": "code",
   "execution_count": 53,
   "metadata": {},
   "outputs": [],
   "source": [
    "def reason_to_parse(df):\n",
    "     list_good = ['АКПП', 'ВЫУКП', 'ДКП', 'акт', 'вык4уп', 'выкуп', 'выполнен', '\\\\bдв\\\\b', 'досро', 'заверш', 'закрыт', \\\n",
    "               'исполнен', 'исполнил', 'истечение', 'купл.*прода', 'окончани', 'оплата по договору лизинга', 'план', \\\n",
    "               'по услови.*договор', 'погашен', 'полно', 'прекр', 'прекращен', 'продан', 'реализац', 'собственност', \\\n",
    "               'соответстви.*услови', 'срок']\n",
    "     reason_good  =r'(?P<good>' + \"|\".join(i for i in list_good) + ')'\n",
    "\n",
    "     list_bad = ['изъят', 'изят', 'нарушен', '\\\\bне.*выполне', '\\\\bне.*исполне', 'ненадлеж', \\\n",
    "               'неуплат.*лизинг',  'просрочк', 'рас.*гнут', 'растор', 'ржение', 'уведомле.*\\\\bраст', 'угон', 'утрат', 'хищен']\n",
    "     reason_bad  =r'(?P<bad>' + \"|\".join(i for i in list_bad) + ')'     \n",
    "\n",
    "     list_refusal = ['аванс.*\\\\bне', 'аннулирован', 'взаимн', 'дважд', 'договоренност', 'друго', 'дублир', 'задвое', 'инициатив', \\\n",
    "                    'коррект', '\\\\bне.*аванс', '\\\\bне.*верн', '\\\\bне.*вступ', '\\\\bне.*заключ', '\\\\bне.*подписан', '\\\\bне.*состо', '\\\\bне.*реализован',  \\\n",
    "                    'обоюдн', 'отказ', 'отклон',  'отмен', 'отсутств.*аванс', 'ошиб', 'повышение', 'поставщик', 'просрочен.*аванс', \\\n",
    "                    'решение.*лизингополучат', 'смена', 'сторн', 'требован.*клиент', 'удаление']\n",
    "     reason_refusal  =r'(?P<refusal>' + \"|\".join(i for i in list_refusal) + ')'\n",
    "\n",
    "     list_insurance = ['страхов']\n",
    "     reason_insurance  =r'(?P<insurance>' + \"|\".join(i for i in list_insurance) + ')'\n",
    "\n",
    "     list_cession = [ 'замен', 'перевод', 'перемен', 'перенайм', 'уступк']\n",
    "     reason_cession  =r'(?P<cession>' + \"|\".join(i for i in list_cession) + ')'\n",
    "     # 'цесси' убрала из списка, как как большинство идет как цессия с выкупом, не пойму почему не работает r'(?P<refusal>цесси(?!выкуп))'\n",
    "\n",
    "     list_dead = ['гибел', 'тотал']\n",
    "     reason_dead  =r'(?P<dead>' + \"|\".join(i for i in list_dead) + ')'\n",
    "\n",
    "     list_unrecognized = ['возврат', 'возвращ', 'выбыт', '\\\\bисх', 'ресурс', 'чдт']\n",
    "     reason_unrecognized  =r'(?P<unrecognized>' + \"|\".join(i for i in list_unrecognized) + ')'\n",
    "\n",
    "     # #  какой то баран пишет \"расторгнут (досрочный выкуп)\" и понимай как знаешь. то ли тот удачно выкупил, то ли все же расторгли, но позволили ему выкупить. каким событием это является\n",
    "     # # Расторжение в связи с выкупом\n",
    "     # # расторжение в связи с досрочным выкупом ТС\n",
    "\n",
    "\n",
    "     for pattern in [reason_good, reason_bad, reason_refusal, reason_insurance, reason_cession, reason_dead, reason_unrecognized]:\n",
    "          df = df.join(df['new_terminationleasing_reason'].str.extract(pattern, re.IGNORECASE))\n",
    "     \n",
    "     mask_dead = (df['dead'].notnull())\n",
    "     df.loc[mask_dead, 'reason'] = 'гибель/тотал'\n",
    "\n",
    "     mask_insurance = (df['insurance'].notnull())\n",
    "     df.loc[mask_dead & mask_insurance, 'reason'] = 'страховой случай (гибель/тотал)'\n",
    "\n",
    "     mask_notclassified = (df['reason'].isnull())\n",
    "     df.loc[mask_notclassified & mask_insurance, 'reason'] = 'страховой случай'\n",
    "\n",
    "     mask_notclassified = (df['reason'].isnull())\n",
    "     mask_refusal = (df['refusal'].notnull())\n",
    "     df.loc[mask_notclassified & mask_refusal, 'reason'] = 'отмена'\n",
    "\n",
    "     mask_notclassified = (df['reason'].isnull())\n",
    "     mask_bad = (df['bad'].notnull())\n",
    "     df.loc[mask_notclassified & mask_bad, 'reason'] = 'расторгнут'\n",
    "\n",
    "     mask_notclassified = (df['reason'].isnull())\n",
    "     mask_cession = (df['cession'].notnull())\n",
    "     df.loc[mask_notclassified & mask_cession, 'reason'] = 'замена/перенайм/переуступка'\n",
    "\n",
    "     mask_notclassified = (df['reason'].isnull())\n",
    "     mask_good = (df['good'].notnull())\n",
    "     df.loc[mask_notclassified & mask_good, 'reason'] = 'завершение'\n",
    "\n",
    "     # df.drop(columns = ['good', 'bad', 'refusal', 'insurance', 'cession', 'dead', 'unrecognized'], inplace=True)\n",
    "     \n",
    "     return df\n"
   ]
  },
  {
   "cell_type": "code",
   "execution_count": 54,
   "metadata": {},
   "outputs": [],
   "source": [
    "contracts['new_terminationleasing_reason'] = contracts['new_terminationleasing_reason'].fillna('')"
   ]
  },
  {
   "cell_type": "code",
   "execution_count": 55,
   "metadata": {},
   "outputs": [],
   "source": [
    "tmp = contracts[contracts['new_terminationleasing_reason']!=\"\"][['new_terminationleasing_reason', 'new_kreditmessage_number']].copy()\n",
    "df_reasons = reason_to_parse(tmp)\n",
    "# df_reasons.head()"
   ]
  },
  {
   "cell_type": "code",
   "execution_count": 56,
   "metadata": {},
   "outputs": [],
   "source": [
    "contracts_w_reason = pd.merge(contracts, df_reasons[['reason', 'new_kreditmessage_number']], how='left', on = 'new_kreditmessage_number')\n",
    "\n",
    "Check_length(len(contracts_w_reason), len(contracts))\n",
    "\n",
    "# contracts_w_reason.head()\n"
   ]
  },
  {
   "attachments": {},
   "cell_type": "markdown",
   "metadata": {},
   "source": [
    "###  Определим у кого менялся ИНН лизингополучателя, значит была цессия"
   ]
  },
  {
   "cell_type": "code",
   "execution_count": 57,
   "metadata": {},
   "outputs": [],
   "source": [
    "contracts_w_reason = contracts_w_reason.sort_values(by='new_kreditmessage_date').reset_index(drop=True)"
   ]
  },
  {
   "cell_type": "code",
   "execution_count": 58,
   "metadata": {},
   "outputs": [],
   "source": [
    "\n",
    "contracts_w_reason['new_lessee_inn_next'] = contracts_w_reason.groupby(['origin_by_message'])['new_lessee_inn'].shift(-1)\n",
    "contracts_w_reason['new_kreditmessage_date_next'] = contracts_w_reason.groupby(['origin_by_message'])['new_kreditmessage_date'].shift(-1)\n"
   ]
  },
  {
   "cell_type": "code",
   "execution_count": 59,
   "metadata": {},
   "outputs": [
    {
     "name": "stdout",
     "output_type": "stream",
     "text": [
      "(10899, 67)\n"
     ]
    }
   ],
   "source": [
    "tmp = contracts_w_reason[(contracts_w_reason['new_lessee_inn_next']!=contracts_w_reason['new_lessee_inn']) & (contracts_w_reason['new_lessee_inn_next'].notnull())]\n",
    "print(tmp.shape)\n",
    "# tmp.head()"
   ]
  },
  {
   "cell_type": "code",
   "execution_count": 60,
   "metadata": {},
   "outputs": [],
   "source": [
    "#  проставим причину завершение договора \n",
    "mask_empty_reason = (contracts_w_reason['reason'].isnull())\n",
    "mask_cession = (contracts_w_reason['new_lessee_inn_next']!=contracts_w_reason['new_lessee_inn']) & (contracts_w_reason['new_lessee_inn_next'].notnull())\n",
    "\n",
    "contracts_w_reason.loc[mask_empty_reason & mask_cession, 'reason'] = 'определена цессия'\n",
    "contracts_w_reason.loc[mask_empty_reason & mask_cession, 'cession_date'] = contracts_w_reason.loc[mask_empty_reason & mask_cession, 'new_kreditmessage_date_next']\n",
    "\n",
    "contracts_w_reason['reason'] = contracts_w_reason['reason'].fillna(\"\")"
   ]
  },
  {
   "attachments": {},
   "cell_type": "markdown",
   "metadata": {},
   "source": [
    "возьмем только нужные столбцы"
   ]
  },
  {
   "cell_type": "code",
   "execution_count": 61,
   "metadata": {},
   "outputs": [],
   "source": [
    "keep_columns = ['new_kreditmessage_number', 'new_kreditmessage_date', 'new_kreditmessage_type', \n",
    "                     'new_leasingcontract_number', 'new_leasingcontract_date', \n",
    "                     'new_leasing_startdate', 'new_leasing_enddate', \n",
    "                     'new_sublease_agreement_sign', \n",
    "                     'new_changemessage_publishe_number', \n",
    "                     'new_terminationleasing_date', 'new_terminationleasing_reason', 'new_contract_status', \n",
    "                     'new_creditor_type', 'new_creditor_inn', 'new_creditor_ogrn', \n",
    "                     'new_creditor_name', 'new_lessee_type', 'new_lessee_inn',\n",
    "                     'new_lessee_ogrn', 'new_lessee_name',  \n",
    "                     'new_leasingsubjectid', 'new_leasingsubject_code', 'new_leasedassetsclass', \n",
    "                     'new_leasingsubject', 'origin_by_message', 'ancestors', 'reason', 'cession_date']\n",
    "                     \n",
    "contracts_cleaned = contracts_w_reason[keep_columns]\n",
    "# contracts_cleaned.head()"
   ]
  },
  {
   "cell_type": "code",
   "execution_count": 62,
   "metadata": {},
   "outputs": [],
   "source": [
    "contracts_cleaned.to_pickle(pre+\"data/interm/merge_cleaned.pkl\", compression={'method':'zip'})"
   ]
  },
  {
   "cell_type": "code",
   "execution_count": 63,
   "metadata": {},
   "outputs": [
    {
     "data": {
      "text/plain": [
       "(1412787, 28)"
      ]
     },
     "execution_count": 63,
     "metadata": {},
     "output_type": "execute_result"
    }
   ],
   "source": [
    "contracts_cleaned.shape"
   ]
  },
  {
   "cell_type": "code",
   "execution_count": 64,
   "metadata": {},
   "outputs": [],
   "source": [
    "# сохраняем tmp таблицы\n",
    "if len(writer.sheets):\n",
    "    writer.save()"
   ]
  },
  {
   "attachments": {},
   "cell_type": "markdown",
   "metadata": {},
   "source": [
    "скорее всего файлы не понадобятся больше, поэтому их можно удалить с целью экономии рабочего места"
   ]
  },
  {
   "cell_type": "code",
   "execution_count": 65,
   "metadata": {},
   "outputs": [],
   "source": [
    "need_to_remove_auxilary_files = True\n",
    "if need_to_remove_auxilary_files:\n",
    "    try:\n",
    "        name = pre + \"data/interm/external_pkl/financialleasecontract.pkl\"\n",
    "        if os.path.isfile(name):\n",
    "            os.remove(name)\n",
    "        name = pre + \"data/interm/external_pkl/financialleasecontractlessees.pkl\"\n",
    "        if os.path.isfile(name):\n",
    "            os.remove(name)\n",
    "        name = pre + \"data/interm/external_pkl/financialleasecontractlessors.pkl\"\n",
    "        if os.path.isfile(name):\n",
    "            os.remove(name)\n",
    "        name = pre + \"data/interm/external_pkl/financialleasecontractobject.pkl\"\n",
    "        if os.path.isfile(name):\n",
    "            os.remove(name)\n",
    "    except:\n",
    "        pass"
   ]
  }
 ],
 "metadata": {
  "celltoolbar": "Редактировать метаданные",
  "interpreter": {
   "hash": "ad2bdc8ecc057115af97d19610ffacc2b4e99fae6737bb82f5d7fb13d2f2c186"
  },
  "kernelspec": {
   "display_name": "Python 3",
   "language": "python",
   "name": "python3"
  },
  "language_info": {
   "codemirror_mode": {
    "name": "ipython",
    "version": 3
   },
   "file_extension": ".py",
   "mimetype": "text/x-python",
   "name": "python",
   "nbconvert_exporter": "python",
   "pygments_lexer": "ipython3",
   "version": "3.7.13"
  }
 },
 "nbformat": 4,
 "nbformat_minor": 4
}
