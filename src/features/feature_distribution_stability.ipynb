{
 "cells": [
  {
   "attachments": {},
   "cell_type": "markdown",
   "metadata": {},
   "source": [
    "# Анализ стабильности распределения фичей\n",
    "\n",
    "Входные данные \n",
    "- data/interm/target_features.pkl из feature_engineering.ipynb уже рассчитанные фичи\n",
    "- data/interm/merge_cleaned.pkl из merge_and_clean.ipynb  "
   ]
  },
  {
   "cell_type": "code",
   "execution_count": 1,
   "metadata": {},
   "outputs": [],
   "source": [
    "import pandas as pd"
   ]
  },
  {
   "cell_type": "code",
   "execution_count": 2,
   "metadata": {},
   "outputs": [],
   "source": [
    "\"\"\"\n",
    "Расчет фичей на каждый срез даты и расчет статистики занимает примерно 10 минут. Поэтому если одни раз рассчитался, \n",
    "то достаточно использовать уже сформированный и записанный в файл, для этого необходимо выставить переменную в False.\n",
    "\"\"\"\n",
    "need_to_calculate_statistics_mdm = True\n",
    "need_to_psi_target = False\n",
    "need_to_psi_mdm = False\n",
    "\n",
    "need_to_remove_auxilary_files = True"
   ]
  },
  {
   "cell_type": "code",
   "execution_count": 3,
   "metadata": {},
   "outputs": [],
   "source": [
    "pre = '../../' # путь до главной директории проекта\n",
    "\n",
    "%run ../init.ipynb #подгрузить нужные библиотеки\n",
    "%run ../params.ipynb #параметры как логин пароль к БИ, параметры расчёта ( в нашем случае их нет)\n",
    "%run ../init_mdm.ipynb\n",
    "%run ../preprocessing/preprocessing_target.ipynb\n",
    "%run ../ML_functions.ipynb\n",
    "%run ../auxiliary/plots.ipynb"
   ]
  },
  {
   "cell_type": "code",
   "execution_count": 4,
   "metadata": {},
   "outputs": [
    {
     "name": "stdout",
     "output_type": "stream",
     "text": [
      "Размер считанных данных target_class with mdm features- (85798, 39)\n"
     ]
    }
   ],
   "source": [
    "name = pre + \"data/interm/target_features.pkl\"\n",
    "target_features = pd.read_pickle(name, compression={'method':'zip'})\n",
    "\n",
    "print(\"Размер считанных данных target_class with mdm features- {}\".format(target_features.shape))\n",
    "# target_features.head(2)"
   ]
  },
  {
   "cell_type": "code",
   "execution_count": 5,
   "metadata": {},
   "outputs": [
    {
     "name": "stdout",
     "output_type": "stream",
     "text": [
      "Размер считанных данных фед ресурса mdm- (1412787, 28)\n"
     ]
    }
   ],
   "source": [
    "name = pre + \"data/interm/merge_cleaned.pkl\"\n",
    "df_mdm = pd.read_pickle(name, compression={'method':'zip'})\n",
    "\n",
    "print(\"Размер считанных данных фед ресурса mdm- {}\".format(df_mdm.shape))"
   ]
  },
  {
   "cell_type": "code",
   "execution_count": 6,
   "metadata": {},
   "outputs": [],
   "source": [
    "# сюда таблицы будем кидать, для отчетов\n",
    "name = pre + \"data/interm/auxilary/feature_distribution_stability.xlsx\"\n",
    "writer = ExcelWriter(name)"
   ]
  },
  {
   "attachments": {},
   "cell_type": "markdown",
   "metadata": {},
   "source": [
    "## Заполним пустые значения в target-class features"
   ]
  },
  {
   "cell_type": "code",
   "execution_count": 7,
   "metadata": {},
   "outputs": [],
   "source": [
    "for delta_col in target_features.columns:\n",
    "    if (is_timedelta64_dtype(target_features[delta_col])):\n",
    "       target_features[delta_col] = target_features[delta_col].dt.days\n",
    "       target_features[delta_col] = target_features[delta_col].fillna(0)\n",
    "\n",
    "# target_features.head(1)"
   ]
  },
  {
   "attachments": {},
   "cell_type": "markdown",
   "metadata": {},
   "source": [
    "#### Теперь формируем выборки для фрод и кред дефолта"
   ]
  },
  {
   "cell_type": "code",
   "execution_count": 8,
   "metadata": {},
   "outputs": [
    {
     "name": "stdout",
     "output_type": "stream",
     "text": [
      "\n",
      "Параметры обработанной таблицы портфеля рисков  по обращениям:\n",
      "\tфрод дефолт = 1  у выборки 4708 из 63131 (7.46%)\n"
     ]
    }
   ],
   "source": [
    "target_frod = Target(type='фрод', target_data=target_features) # это фрод дефолт, макс по обращению\n",
    "\n",
    "target_frod.print_param()\n",
    "\n",
    "# target_frod.data.head(2)"
   ]
  },
  {
   "cell_type": "code",
   "execution_count": 9,
   "metadata": {},
   "outputs": [],
   "source": [
    "target_frod.data[\"Метка дефолта\"] = target_frod.data[\"Метка дефолта\"].astype(int).astype(str)"
   ]
  },
  {
   "attachments": {},
   "cell_type": "markdown",
   "metadata": {},
   "source": [
    "## Рассчитываем статистику по всем фичам на target-data"
   ]
  },
  {
   "cell_type": "code",
   "execution_count": 10,
   "metadata": {},
   "outputs": [
    {
     "data": {
      "text/html": [
       "<div>\n",
       "<style scoped>\n",
       "    .dataframe tbody tr th:only-of-type {\n",
       "        vertical-align: middle;\n",
       "    }\n",
       "\n",
       "    .dataframe tbody tr th {\n",
       "        vertical-align: top;\n",
       "    }\n",
       "\n",
       "    .dataframe thead th {\n",
       "        text-align: right;\n",
       "    }\n",
       "</style>\n",
       "<table border=\"1\" class=\"dataframe\">\n",
       "  <thead>\n",
       "    <tr style=\"text-align: right;\">\n",
       "      <th></th>\n",
       "      <th>count</th>\n",
       "      <th>mean</th>\n",
       "      <th>std</th>\n",
       "      <th>min</th>\n",
       "      <th>25%</th>\n",
       "      <th>50%</th>\n",
       "      <th>75%</th>\n",
       "      <th>max</th>\n",
       "      <th>95%</th>\n",
       "      <th>median</th>\n",
       "      <th>period</th>\n",
       "      <th>time</th>\n",
       "    </tr>\n",
       "  </thead>\n",
       "  <tbody>\n",
       "    <tr>\n",
       "      <th>reason_расторгнут</th>\n",
       "      <td>47129.0</td>\n",
       "      <td>0.078678</td>\n",
       "      <td>0.655116</td>\n",
       "      <td>0.0</td>\n",
       "      <td>0.0</td>\n",
       "      <td>0.0</td>\n",
       "      <td>0.0</td>\n",
       "      <td>30.0</td>\n",
       "      <td>0.0</td>\n",
       "      <td>0.0</td>\n",
       "      <td>2022-05</td>\n",
       "      <td>2022-05-01</td>\n",
       "    </tr>\n",
       "    <tr>\n",
       "      <th>contract_date_delta_last</th>\n",
       "      <td>37367.0</td>\n",
       "      <td>163.171649</td>\n",
       "      <td>270.769526</td>\n",
       "      <td>0.0</td>\n",
       "      <td>0.0</td>\n",
       "      <td>39.0</td>\n",
       "      <td>208.0</td>\n",
       "      <td>2827.0</td>\n",
       "      <td>773.7</td>\n",
       "      <td>39.0</td>\n",
       "      <td>2021-09</td>\n",
       "      <td>2021-09-01</td>\n",
       "    </tr>\n",
       "  </tbody>\n",
       "</table>\n",
       "</div>"
      ],
      "text/plain": [
       "                            count        mean         std  min  25%   50%  \\\n",
       "reason_расторгнут         47129.0    0.078678    0.655116  0.0  0.0   0.0   \n",
       "contract_date_delta_last  37367.0  163.171649  270.769526  0.0  0.0  39.0   \n",
       "\n",
       "                            75%     max    95%  median   period       time  \n",
       "reason_расторгнут           0.0    30.0    0.0     0.0  2022-05 2022-05-01  \n",
       "contract_date_delta_last  208.0  2827.0  773.7    39.0  2021-09 2021-09-01  "
      ]
     },
     "execution_count": 10,
     "metadata": {},
     "output_type": "execute_result"
    }
   ],
   "source": [
    "data = target_frod.data\n",
    "data['period'] = data['Дата принятия решения по сделке'].dt.strftime(\"%Y-%m\")\n",
    "\n",
    "range_period = pd.date_range(start=\"2021-01-31\",end=\"2023-04-30\", freq='MS')\n",
    "\n",
    "statistics_target = pd.DataFrame()\n",
    "for period in range_period:\n",
    "    month = datetime.strftime(period, '%Y-%m')\n",
    "    data_in_period = data[data['period']<=month]\n",
    "\n",
    "    describe = data_in_period.describe().T\n",
    "    describe = describe.join(data_in_period.quantile(0.95).to_frame().rename(columns={0.95:'95%'}))\n",
    "    describe = describe.join(data_in_period.median(numeric_only=True).to_frame().rename(columns={0:'median'}))\n",
    "   \n",
    "    describe['period'] = month\n",
    "    \n",
    "    statistics_target = statistics_target.append(pd.DataFrame(describe))\n",
    "    \n",
    "statistics_target['time'] = pd.to_datetime(statistics_target['period'], format='%Y-%m')\n",
    "\n",
    "# statistics_target['error_y_minus'] = np.where(statistics_target['mean']>statistics_target['std'], statistics_target['std'], statistics_target['mean'])\n",
    "statistics_target = statistics_target.drop(index=['index', 'Метка фрод дефолта', 'Метка кред дефолта'])\n",
    "\n",
    "statistics_target.sample(2)"
   ]
  },
  {
   "attachments": {},
   "cell_type": "markdown",
   "metadata": {},
   "source": [
    "#### выведем как изменялись статистические параметры обучающей выборки"
   ]
  },
  {
   "cell_type": "code",
   "execution_count": 11,
   "metadata": {},
   "outputs": [
    {
     "data": {
      "application/vnd.plotly.v1+json": {
       "config": {
        "plotlyServerURL": "https://plot.ly"
       },
       "data": [
        {
         "hovertemplate": "variable=mean<br>time=%{x}<br>value=%{y}<extra></extra>",
         "legendgroup": "mean",
         "marker": {
          "color": "#636efa",
          "size": 12,
          "symbol": "circle"
         },
         "mode": "markers",
         "name": "mean",
         "orientation": "v",
         "showlegend": true,
         "type": "scatter",
         "x": [
          "2021-02-01T00:00:00",
          "2021-03-01T00:00:00",
          "2021-04-01T00:00:00",
          "2021-05-01T00:00:00",
          "2021-06-01T00:00:00",
          "2021-07-01T00:00:00",
          "2021-08-01T00:00:00",
          "2021-09-01T00:00:00",
          "2021-10-01T00:00:00",
          "2021-11-01T00:00:00",
          "2021-12-01T00:00:00",
          "2022-01-01T00:00:00",
          "2022-02-01T00:00:00",
          "2022-03-01T00:00:00",
          "2022-04-01T00:00:00",
          "2022-05-01T00:00:00",
          "2022-06-01T00:00:00",
          "2022-07-01T00:00:00",
          "2022-08-01T00:00:00",
          "2022-09-01T00:00:00",
          "2022-10-01T00:00:00",
          "2022-11-01T00:00:00",
          "2022-12-01T00:00:00",
          "2023-01-01T00:00:00",
          "2023-02-01T00:00:00",
          "2023-03-01T00:00:00",
          "2023-04-01T00:00:00"
         ],
         "xaxis": "x",
         "y": [
          5.048788737158077,
          5.220711699915274,
          5.311372994462587,
          5.45343547200107,
          5.5620339196375195,
          5.619872080916258,
          5.675157259315675,
          5.73669280381085,
          5.819296184687675,
          5.872612242903903,
          5.967314013941669,
          6.009433747294064,
          6.04520151413939,
          6.042806445213481,
          6.043860029485734,
          6.06934159434743,
          6.187575776257115,
          6.296040726231432,
          6.372346970163027,
          6.493415292912359,
          6.5278627622377625,
          6.565333191285356,
          6.605142619196336,
          6.6293382930075415,
          6.64075837300593,
          6.744357356576037,
          6.82047003861372
         ],
         "yaxis": "y"
        },
        {
         "mode": "markers",
         "name": "95%",
         "type": "scatter",
         "x": [
          "2021-02-01T00:00:00",
          "2021-03-01T00:00:00",
          "2021-04-01T00:00:00",
          "2021-05-01T00:00:00",
          "2021-06-01T00:00:00",
          "2021-07-01T00:00:00",
          "2021-08-01T00:00:00",
          "2021-09-01T00:00:00",
          "2021-10-01T00:00:00",
          "2021-11-01T00:00:00",
          "2021-12-01T00:00:00",
          "2022-01-01T00:00:00",
          "2022-02-01T00:00:00",
          "2022-03-01T00:00:00",
          "2022-04-01T00:00:00",
          "2022-05-01T00:00:00",
          "2022-06-01T00:00:00",
          "2022-07-01T00:00:00",
          "2022-08-01T00:00:00",
          "2022-09-01T00:00:00",
          "2022-10-01T00:00:00",
          "2022-11-01T00:00:00",
          "2022-12-01T00:00:00",
          "2023-01-01T00:00:00",
          "2023-02-01T00:00:00",
          "2023-03-01T00:00:00",
          "2023-04-01T00:00:00"
         ],
         "y": [
          21,
          21,
          22,
          22,
          23,
          23,
          24,
          24,
          24,
          24,
          25,
          25,
          25,
          25,
          25,
          25,
          26,
          26,
          26,
          27,
          27,
          27,
          27,
          27,
          27.799999999995634,
          28,
          28
         ]
        },
        {
         "mode": "markers",
         "name": "median",
         "type": "scatter",
         "x": [
          "2021-02-01T00:00:00",
          "2021-03-01T00:00:00",
          "2021-04-01T00:00:00",
          "2021-05-01T00:00:00",
          "2021-06-01T00:00:00",
          "2021-07-01T00:00:00",
          "2021-08-01T00:00:00",
          "2021-09-01T00:00:00",
          "2021-10-01T00:00:00",
          "2021-11-01T00:00:00",
          "2021-12-01T00:00:00",
          "2022-01-01T00:00:00",
          "2022-02-01T00:00:00",
          "2022-03-01T00:00:00",
          "2022-04-01T00:00:00",
          "2022-05-01T00:00:00",
          "2022-06-01T00:00:00",
          "2022-07-01T00:00:00",
          "2022-08-01T00:00:00",
          "2022-09-01T00:00:00",
          "2022-10-01T00:00:00",
          "2022-11-01T00:00:00",
          "2022-12-01T00:00:00",
          "2023-01-01T00:00:00",
          "2023-02-01T00:00:00",
          "2023-03-01T00:00:00",
          "2023-04-01T00:00:00"
         ],
         "y": [
          1,
          1,
          1,
          1,
          1,
          1,
          1,
          1,
          1,
          1,
          1,
          1,
          1,
          1,
          1,
          1,
          1,
          1,
          1,
          1,
          1,
          1,
          2,
          2,
          2,
          2,
          2
         ]
        }
       ],
       "layout": {
        "autosize": false,
        "height": 500,
        "legend": {
         "title": {
          "text": "variable"
         },
         "tracegroupgap": 0
        },
        "margin": {
         "t": 60
        },
        "template": {
         "data": {
          "bar": [
           {
            "error_x": {
             "color": "#2a3f5f"
            },
            "error_y": {
             "color": "#2a3f5f"
            },
            "marker": {
             "line": {
              "color": "#E5ECF6",
              "width": 0.5
             },
             "pattern": {
              "fillmode": "overlay",
              "size": 10,
              "solidity": 0.2
             }
            },
            "type": "bar"
           }
          ],
          "barpolar": [
           {
            "marker": {
             "line": {
              "color": "#E5ECF6",
              "width": 0.5
             },
             "pattern": {
              "fillmode": "overlay",
              "size": 10,
              "solidity": 0.2
             }
            },
            "type": "barpolar"
           }
          ],
          "carpet": [
           {
            "aaxis": {
             "endlinecolor": "#2a3f5f",
             "gridcolor": "white",
             "linecolor": "white",
             "minorgridcolor": "white",
             "startlinecolor": "#2a3f5f"
            },
            "baxis": {
             "endlinecolor": "#2a3f5f",
             "gridcolor": "white",
             "linecolor": "white",
             "minorgridcolor": "white",
             "startlinecolor": "#2a3f5f"
            },
            "type": "carpet"
           }
          ],
          "choropleth": [
           {
            "colorbar": {
             "outlinewidth": 0,
             "ticks": ""
            },
            "type": "choropleth"
           }
          ],
          "contour": [
           {
            "colorbar": {
             "outlinewidth": 0,
             "ticks": ""
            },
            "colorscale": [
             [
              0,
              "#0d0887"
             ],
             [
              0.1111111111111111,
              "#46039f"
             ],
             [
              0.2222222222222222,
              "#7201a8"
             ],
             [
              0.3333333333333333,
              "#9c179e"
             ],
             [
              0.4444444444444444,
              "#bd3786"
             ],
             [
              0.5555555555555556,
              "#d8576b"
             ],
             [
              0.6666666666666666,
              "#ed7953"
             ],
             [
              0.7777777777777778,
              "#fb9f3a"
             ],
             [
              0.8888888888888888,
              "#fdca26"
             ],
             [
              1,
              "#f0f921"
             ]
            ],
            "type": "contour"
           }
          ],
          "contourcarpet": [
           {
            "colorbar": {
             "outlinewidth": 0,
             "ticks": ""
            },
            "type": "contourcarpet"
           }
          ],
          "heatmap": [
           {
            "colorbar": {
             "outlinewidth": 0,
             "ticks": ""
            },
            "colorscale": [
             [
              0,
              "#0d0887"
             ],
             [
              0.1111111111111111,
              "#46039f"
             ],
             [
              0.2222222222222222,
              "#7201a8"
             ],
             [
              0.3333333333333333,
              "#9c179e"
             ],
             [
              0.4444444444444444,
              "#bd3786"
             ],
             [
              0.5555555555555556,
              "#d8576b"
             ],
             [
              0.6666666666666666,
              "#ed7953"
             ],
             [
              0.7777777777777778,
              "#fb9f3a"
             ],
             [
              0.8888888888888888,
              "#fdca26"
             ],
             [
              1,
              "#f0f921"
             ]
            ],
            "type": "heatmap"
           }
          ],
          "heatmapgl": [
           {
            "colorbar": {
             "outlinewidth": 0,
             "ticks": ""
            },
            "colorscale": [
             [
              0,
              "#0d0887"
             ],
             [
              0.1111111111111111,
              "#46039f"
             ],
             [
              0.2222222222222222,
              "#7201a8"
             ],
             [
              0.3333333333333333,
              "#9c179e"
             ],
             [
              0.4444444444444444,
              "#bd3786"
             ],
             [
              0.5555555555555556,
              "#d8576b"
             ],
             [
              0.6666666666666666,
              "#ed7953"
             ],
             [
              0.7777777777777778,
              "#fb9f3a"
             ],
             [
              0.8888888888888888,
              "#fdca26"
             ],
             [
              1,
              "#f0f921"
             ]
            ],
            "type": "heatmapgl"
           }
          ],
          "histogram": [
           {
            "marker": {
             "pattern": {
              "fillmode": "overlay",
              "size": 10,
              "solidity": 0.2
             }
            },
            "type": "histogram"
           }
          ],
          "histogram2d": [
           {
            "colorbar": {
             "outlinewidth": 0,
             "ticks": ""
            },
            "colorscale": [
             [
              0,
              "#0d0887"
             ],
             [
              0.1111111111111111,
              "#46039f"
             ],
             [
              0.2222222222222222,
              "#7201a8"
             ],
             [
              0.3333333333333333,
              "#9c179e"
             ],
             [
              0.4444444444444444,
              "#bd3786"
             ],
             [
              0.5555555555555556,
              "#d8576b"
             ],
             [
              0.6666666666666666,
              "#ed7953"
             ],
             [
              0.7777777777777778,
              "#fb9f3a"
             ],
             [
              0.8888888888888888,
              "#fdca26"
             ],
             [
              1,
              "#f0f921"
             ]
            ],
            "type": "histogram2d"
           }
          ],
          "histogram2dcontour": [
           {
            "colorbar": {
             "outlinewidth": 0,
             "ticks": ""
            },
            "colorscale": [
             [
              0,
              "#0d0887"
             ],
             [
              0.1111111111111111,
              "#46039f"
             ],
             [
              0.2222222222222222,
              "#7201a8"
             ],
             [
              0.3333333333333333,
              "#9c179e"
             ],
             [
              0.4444444444444444,
              "#bd3786"
             ],
             [
              0.5555555555555556,
              "#d8576b"
             ],
             [
              0.6666666666666666,
              "#ed7953"
             ],
             [
              0.7777777777777778,
              "#fb9f3a"
             ],
             [
              0.8888888888888888,
              "#fdca26"
             ],
             [
              1,
              "#f0f921"
             ]
            ],
            "type": "histogram2dcontour"
           }
          ],
          "mesh3d": [
           {
            "colorbar": {
             "outlinewidth": 0,
             "ticks": ""
            },
            "type": "mesh3d"
           }
          ],
          "parcoords": [
           {
            "line": {
             "colorbar": {
              "outlinewidth": 0,
              "ticks": ""
             }
            },
            "type": "parcoords"
           }
          ],
          "pie": [
           {
            "automargin": true,
            "type": "pie"
           }
          ],
          "scatter": [
           {
            "fillpattern": {
             "fillmode": "overlay",
             "size": 10,
             "solidity": 0.2
            },
            "type": "scatter"
           }
          ],
          "scatter3d": [
           {
            "line": {
             "colorbar": {
              "outlinewidth": 0,
              "ticks": ""
             }
            },
            "marker": {
             "colorbar": {
              "outlinewidth": 0,
              "ticks": ""
             }
            },
            "type": "scatter3d"
           }
          ],
          "scattercarpet": [
           {
            "marker": {
             "colorbar": {
              "outlinewidth": 0,
              "ticks": ""
             }
            },
            "type": "scattercarpet"
           }
          ],
          "scattergeo": [
           {
            "marker": {
             "colorbar": {
              "outlinewidth": 0,
              "ticks": ""
             }
            },
            "type": "scattergeo"
           }
          ],
          "scattergl": [
           {
            "marker": {
             "colorbar": {
              "outlinewidth": 0,
              "ticks": ""
             }
            },
            "type": "scattergl"
           }
          ],
          "scattermapbox": [
           {
            "marker": {
             "colorbar": {
              "outlinewidth": 0,
              "ticks": ""
             }
            },
            "type": "scattermapbox"
           }
          ],
          "scatterpolar": [
           {
            "marker": {
             "colorbar": {
              "outlinewidth": 0,
              "ticks": ""
             }
            },
            "type": "scatterpolar"
           }
          ],
          "scatterpolargl": [
           {
            "marker": {
             "colorbar": {
              "outlinewidth": 0,
              "ticks": ""
             }
            },
            "type": "scatterpolargl"
           }
          ],
          "scatterternary": [
           {
            "marker": {
             "colorbar": {
              "outlinewidth": 0,
              "ticks": ""
             }
            },
            "type": "scatterternary"
           }
          ],
          "surface": [
           {
            "colorbar": {
             "outlinewidth": 0,
             "ticks": ""
            },
            "colorscale": [
             [
              0,
              "#0d0887"
             ],
             [
              0.1111111111111111,
              "#46039f"
             ],
             [
              0.2222222222222222,
              "#7201a8"
             ],
             [
              0.3333333333333333,
              "#9c179e"
             ],
             [
              0.4444444444444444,
              "#bd3786"
             ],
             [
              0.5555555555555556,
              "#d8576b"
             ],
             [
              0.6666666666666666,
              "#ed7953"
             ],
             [
              0.7777777777777778,
              "#fb9f3a"
             ],
             [
              0.8888888888888888,
              "#fdca26"
             ],
             [
              1,
              "#f0f921"
             ]
            ],
            "type": "surface"
           }
          ],
          "table": [
           {
            "cells": {
             "fill": {
              "color": "#EBF0F8"
             },
             "line": {
              "color": "white"
             }
            },
            "header": {
             "fill": {
              "color": "#C8D4E3"
             },
             "line": {
              "color": "white"
             }
            },
            "type": "table"
           }
          ]
         },
         "layout": {
          "annotationdefaults": {
           "arrowcolor": "#2a3f5f",
           "arrowhead": 0,
           "arrowwidth": 1
          },
          "autotypenumbers": "strict",
          "coloraxis": {
           "colorbar": {
            "outlinewidth": 0,
            "ticks": ""
           }
          },
          "colorscale": {
           "diverging": [
            [
             0,
             "#8e0152"
            ],
            [
             0.1,
             "#c51b7d"
            ],
            [
             0.2,
             "#de77ae"
            ],
            [
             0.3,
             "#f1b6da"
            ],
            [
             0.4,
             "#fde0ef"
            ],
            [
             0.5,
             "#f7f7f7"
            ],
            [
             0.6,
             "#e6f5d0"
            ],
            [
             0.7,
             "#b8e186"
            ],
            [
             0.8,
             "#7fbc41"
            ],
            [
             0.9,
             "#4d9221"
            ],
            [
             1,
             "#276419"
            ]
           ],
           "sequential": [
            [
             0,
             "#0d0887"
            ],
            [
             0.1111111111111111,
             "#46039f"
            ],
            [
             0.2222222222222222,
             "#7201a8"
            ],
            [
             0.3333333333333333,
             "#9c179e"
            ],
            [
             0.4444444444444444,
             "#bd3786"
            ],
            [
             0.5555555555555556,
             "#d8576b"
            ],
            [
             0.6666666666666666,
             "#ed7953"
            ],
            [
             0.7777777777777778,
             "#fb9f3a"
            ],
            [
             0.8888888888888888,
             "#fdca26"
            ],
            [
             1,
             "#f0f921"
            ]
           ],
           "sequentialminus": [
            [
             0,
             "#0d0887"
            ],
            [
             0.1111111111111111,
             "#46039f"
            ],
            [
             0.2222222222222222,
             "#7201a8"
            ],
            [
             0.3333333333333333,
             "#9c179e"
            ],
            [
             0.4444444444444444,
             "#bd3786"
            ],
            [
             0.5555555555555556,
             "#d8576b"
            ],
            [
             0.6666666666666666,
             "#ed7953"
            ],
            [
             0.7777777777777778,
             "#fb9f3a"
            ],
            [
             0.8888888888888888,
             "#fdca26"
            ],
            [
             1,
             "#f0f921"
            ]
           ]
          },
          "colorway": [
           "#636efa",
           "#EF553B",
           "#00cc96",
           "#ab63fa",
           "#FFA15A",
           "#19d3f3",
           "#FF6692",
           "#B6E880",
           "#FF97FF",
           "#FECB52"
          ],
          "font": {
           "color": "#2a3f5f"
          },
          "geo": {
           "bgcolor": "white",
           "lakecolor": "white",
           "landcolor": "#E5ECF6",
           "showlakes": true,
           "showland": true,
           "subunitcolor": "white"
          },
          "hoverlabel": {
           "align": "left"
          },
          "hovermode": "closest",
          "mapbox": {
           "style": "light"
          },
          "paper_bgcolor": "white",
          "plot_bgcolor": "#E5ECF6",
          "polar": {
           "angularaxis": {
            "gridcolor": "white",
            "linecolor": "white",
            "ticks": ""
           },
           "bgcolor": "#E5ECF6",
           "radialaxis": {
            "gridcolor": "white",
            "linecolor": "white",
            "ticks": ""
           }
          },
          "scene": {
           "xaxis": {
            "backgroundcolor": "#E5ECF6",
            "gridcolor": "white",
            "gridwidth": 2,
            "linecolor": "white",
            "showbackground": true,
            "ticks": "",
            "zerolinecolor": "white"
           },
           "yaxis": {
            "backgroundcolor": "#E5ECF6",
            "gridcolor": "white",
            "gridwidth": 2,
            "linecolor": "white",
            "showbackground": true,
            "ticks": "",
            "zerolinecolor": "white"
           },
           "zaxis": {
            "backgroundcolor": "#E5ECF6",
            "gridcolor": "white",
            "gridwidth": 2,
            "linecolor": "white",
            "showbackground": true,
            "ticks": "",
            "zerolinecolor": "white"
           }
          },
          "shapedefaults": {
           "line": {
            "color": "#2a3f5f"
           }
          },
          "ternary": {
           "aaxis": {
            "gridcolor": "white",
            "linecolor": "white",
            "ticks": ""
           },
           "baxis": {
            "gridcolor": "white",
            "linecolor": "white",
            "ticks": ""
           },
           "bgcolor": "#E5ECF6",
           "caxis": {
            "gridcolor": "white",
            "linecolor": "white",
            "ticks": ""
           }
          },
          "title": {
           "x": 0.05
          },
          "xaxis": {
           "automargin": true,
           "gridcolor": "white",
           "linecolor": "white",
           "ticks": "",
           "title": {
            "standoff": 15
           },
           "zerolinecolor": "white",
           "zerolinewidth": 2
          },
          "yaxis": {
           "automargin": true,
           "gridcolor": "white",
           "linecolor": "white",
           "ticks": "",
           "title": {
            "standoff": 15
           },
           "zerolinecolor": "white",
           "zerolinewidth": 2
          }
         }
        },
        "title": {
         "text": "Изменение распределения фичи no_contracts_total во времени"
        },
        "width": 800,
        "xaxis": {
         "anchor": "y",
         "domain": [
          0,
          1
         ],
         "title": {
          "text": "time"
         }
        },
        "yaxis": {
         "anchor": "x",
         "domain": [
          0,
          1
         ],
         "range": [
          0,
          50
         ],
         "title": {
          "text": "Количество договоров<br>(всех закрытых и действующих)"
         }
        }
       }
      },
      "image/svg+xml": [
       "<svg class=\"main-svg\" xmlns=\"http://www.w3.org/2000/svg\" xmlns:xlink=\"http://www.w3.org/1999/xlink\" width=\"800\" height=\"500\" style=\"\" viewBox=\"0 0 800 500\"><rect x=\"0\" y=\"0\" width=\"800\" height=\"500\" style=\"fill: rgb(255, 255, 255); fill-opacity: 1;\"/><defs id=\"defs-30b1ba\"><g class=\"clips\"><clipPath id=\"clip30b1baxyplot\" class=\"plotclip\"><rect width=\"606\" height=\"360\"/></clipPath><clipPath class=\"axesclip\" id=\"clip30b1bax\"><rect x=\"80\" y=\"0\" width=\"606\" height=\"500\"/></clipPath><clipPath class=\"axesclip\" id=\"clip30b1bay\"><rect x=\"0\" y=\"60\" width=\"800\" height=\"360\"/></clipPath><clipPath class=\"axesclip\" id=\"clip30b1baxy\"><rect x=\"80\" y=\"60\" width=\"606\" height=\"360\"/></clipPath></g><g class=\"gradients\"/><g class=\"patterns\"/></defs><g class=\"bglayer\"><rect class=\"bg\" x=\"80\" y=\"60\" width=\"606\" height=\"360\" style=\"fill: rgb(229, 236, 246); fill-opacity: 1; stroke-width: 0;\"/></g><g class=\"layer-below\"><g class=\"imagelayer\"/><g class=\"shapelayer\"/></g><g class=\"cartesianlayer\"><g class=\"subplot xy\"><g class=\"layer-subplot\"><g class=\"shapelayer\"/><g class=\"imagelayer\"/></g><g class=\"minor-gridlayer\"><g class=\"x\"/><g class=\"y\"/></g><g class=\"gridlayer\"><g class=\"x\"><path class=\"xgrid crisp\" transform=\"translate(96.96000000000001,0)\" d=\"M0,60v360\" style=\"stroke: rgb(255, 255, 255); stroke-opacity: 1; stroke-width: 1px;\"/><path class=\"xgrid crisp\" transform=\"translate(218.64,0)\" d=\"M0,60v360\" style=\"stroke: rgb(255, 255, 255); stroke-opacity: 1; stroke-width: 1px;\"/><path class=\"xgrid crisp\" transform=\"translate(342.33,0)\" d=\"M0,60v360\" style=\"stroke: rgb(255, 255, 255); stroke-opacity: 1; stroke-width: 1px;\"/><path class=\"xgrid crisp\" transform=\"translate(464.01,0)\" d=\"M0,60v360\" style=\"stroke: rgb(255, 255, 255); stroke-opacity: 1; stroke-width: 1px;\"/><path class=\"xgrid crisp\" transform=\"translate(587.7,0)\" d=\"M0,60v360\" style=\"stroke: rgb(255, 255, 255); stroke-opacity: 1; stroke-width: 1px;\"/></g><g class=\"y\"><path class=\"ygrid crisp\" transform=\"translate(0,348)\" d=\"M80,0h606\" style=\"stroke: rgb(255, 255, 255); stroke-opacity: 1; stroke-width: 1px;\"/><path class=\"ygrid crisp\" transform=\"translate(0,276)\" d=\"M80,0h606\" style=\"stroke: rgb(255, 255, 255); stroke-opacity: 1; stroke-width: 1px;\"/><path class=\"ygrid crisp\" transform=\"translate(0,204)\" d=\"M80,0h606\" style=\"stroke: rgb(255, 255, 255); stroke-opacity: 1; stroke-width: 1px;\"/><path class=\"ygrid crisp\" transform=\"translate(0,132)\" d=\"M80,0h606\" style=\"stroke: rgb(255, 255, 255); stroke-opacity: 1; stroke-width: 1px;\"/></g></g><g class=\"zerolinelayer\"><path class=\"yzl zl crisp\" transform=\"translate(0,420)\" d=\"M80,0h606\" style=\"stroke: rgb(255, 255, 255); stroke-opacity: 1; stroke-width: 2px;\"/></g><path class=\"xlines-below\"/><path class=\"ylines-below\"/><g class=\"overlines-below\"/><g class=\"xaxislayer-below\"/><g class=\"yaxislayer-below\"/><g class=\"overaxes-below\"/><g class=\"plot\" transform=\"translate(80,60)\" clip-path=\"url(#clip30b1baxyplot)\"><g class=\"scatterlayer mlayer\"><g class=\"trace scatter traced21183\" style=\"stroke-miterlimit: 2; opacity: 1;\"><g class=\"fills\"/><g class=\"errorbars\"/><g class=\"lines\"/><g class=\"points\"><path class=\"point\" transform=\"translate(37.8,323.65)\" d=\"M6,0A6,6 0 1,1 0,-6A6,6 0 0,1 6,0Z\" style=\"opacity: 1; stroke-width: 0px; fill: rgb(99, 110, 250); fill-opacity: 1;\"/><path class=\"point\" transform=\"translate(56.62,322.41)\" d=\"M6,0A6,6 0 1,1 0,-6A6,6 0 0,1 6,0Z\" style=\"opacity: 1; stroke-width: 0px; fill: rgb(99, 110, 250); fill-opacity: 1;\"/><path class=\"point\" transform=\"translate(77.46,321.76)\" d=\"M6,0A6,6 0 1,1 0,-6A6,6 0 0,1 6,0Z\" style=\"opacity: 1; stroke-width: 0px; fill: rgb(99, 110, 250); fill-opacity: 1;\"/><path class=\"point\" transform=\"translate(97.63,320.74)\" d=\"M6,0A6,6 0 1,1 0,-6A6,6 0 0,1 6,0Z\" style=\"opacity: 1; stroke-width: 0px; fill: rgb(99, 110, 250); fill-opacity: 1;\"/><path class=\"point\" transform=\"translate(118.47,319.95)\" d=\"M6,0A6,6 0 1,1 0,-6A6,6 0 0,1 6,0Z\" style=\"opacity: 1; stroke-width: 0px; fill: rgb(99, 110, 250); fill-opacity: 1;\"/><path class=\"point\" transform=\"translate(138.64,319.54)\" d=\"M6,0A6,6 0 1,1 0,-6A6,6 0 0,1 6,0Z\" style=\"opacity: 1; stroke-width: 0px; fill: rgb(99, 110, 250); fill-opacity: 1;\"/><path class=\"point\" transform=\"translate(159.48,319.14)\" d=\"M6,0A6,6 0 1,1 0,-6A6,6 0 0,1 6,0Z\" style=\"opacity: 1; stroke-width: 0px; fill: rgb(99, 110, 250); fill-opacity: 1;\"/><path class=\"point\" transform=\"translate(180.32,318.7)\" d=\"M6,0A6,6 0 1,1 0,-6A6,6 0 0,1 6,0Z\" style=\"opacity: 1; stroke-width: 0px; fill: rgb(99, 110, 250); fill-opacity: 1;\"/><path class=\"point\" transform=\"translate(200.48,318.1)\" d=\"M6,0A6,6 0 1,1 0,-6A6,6 0 0,1 6,0Z\" style=\"opacity: 1; stroke-width: 0px; fill: rgb(99, 110, 250); fill-opacity: 1;\"/><path class=\"point\" transform=\"translate(221.32,317.72)\" d=\"M6,0A6,6 0 1,1 0,-6A6,6 0 0,1 6,0Z\" style=\"opacity: 1; stroke-width: 0px; fill: rgb(99, 110, 250); fill-opacity: 1;\"/><path class=\"point\" transform=\"translate(241.49,317.04)\" d=\"M6,0A6,6 0 1,1 0,-6A6,6 0 0,1 6,0Z\" style=\"opacity: 1; stroke-width: 0px; fill: rgb(99, 110, 250); fill-opacity: 1;\"/><path class=\"point\" transform=\"translate(262.33,316.73)\" d=\"M6,0A6,6 0 1,1 0,-6A6,6 0 0,1 6,0Z\" style=\"opacity: 1; stroke-width: 0px; fill: rgb(99, 110, 250); fill-opacity: 1;\"/><path class=\"point\" transform=\"translate(283.17,316.47)\" d=\"M6,0A6,6 0 1,1 0,-6A6,6 0 0,1 6,0Z\" style=\"opacity: 1; stroke-width: 0px; fill: rgb(99, 110, 250); fill-opacity: 1;\"/><path class=\"point\" transform=\"translate(301.99,316.49)\" d=\"M6,0A6,6 0 1,1 0,-6A6,6 0 0,1 6,0Z\" style=\"opacity: 1; stroke-width: 0px; fill: rgb(99, 110, 250); fill-opacity: 1;\"/><path class=\"point\" transform=\"translate(322.83,316.48)\" d=\"M6,0A6,6 0 1,1 0,-6A6,6 0 0,1 6,0Z\" style=\"opacity: 1; stroke-width: 0px; fill: rgb(99, 110, 250); fill-opacity: 1;\"/><path class=\"point\" transform=\"translate(343,316.3)\" d=\"M6,0A6,6 0 1,1 0,-6A6,6 0 0,1 6,0Z\" style=\"opacity: 1; stroke-width: 0px; fill: rgb(99, 110, 250); fill-opacity: 1;\"/><path class=\"point\" transform=\"translate(363.84,315.45)\" d=\"M6,0A6,6 0 1,1 0,-6A6,6 0 0,1 6,0Z\" style=\"opacity: 1; stroke-width: 0px; fill: rgb(99, 110, 250); fill-opacity: 1;\"/><path class=\"point\" transform=\"translate(384.01,314.67)\" d=\"M6,0A6,6 0 1,1 0,-6A6,6 0 0,1 6,0Z\" style=\"opacity: 1; stroke-width: 0px; fill: rgb(99, 110, 250); fill-opacity: 1;\"/><path class=\"point\" transform=\"translate(404.84,314.12)\" d=\"M6,0A6,6 0 1,1 0,-6A6,6 0 0,1 6,0Z\" style=\"opacity: 1; stroke-width: 0px; fill: rgb(99, 110, 250); fill-opacity: 1;\"/><path class=\"point\" transform=\"translate(425.68,313.25)\" d=\"M6,0A6,6 0 1,1 0,-6A6,6 0 0,1 6,0Z\" style=\"opacity: 1; stroke-width: 0px; fill: rgb(99, 110, 250); fill-opacity: 1;\"/><path class=\"point\" transform=\"translate(445.85,313)\" d=\"M6,0A6,6 0 1,1 0,-6A6,6 0 0,1 6,0Z\" style=\"opacity: 1; stroke-width: 0px; fill: rgb(99, 110, 250); fill-opacity: 1;\"/><path class=\"point\" transform=\"translate(466.69,312.73)\" d=\"M6,0A6,6 0 1,1 0,-6A6,6 0 0,1 6,0Z\" style=\"opacity: 1; stroke-width: 0px; fill: rgb(99, 110, 250); fill-opacity: 1;\"/><path class=\"point\" transform=\"translate(486.86,312.44)\" d=\"M6,0A6,6 0 1,1 0,-6A6,6 0 0,1 6,0Z\" style=\"opacity: 1; stroke-width: 0px; fill: rgb(99, 110, 250); fill-opacity: 1;\"/><path class=\"point\" transform=\"translate(507.7,312.27)\" d=\"M6,0A6,6 0 1,1 0,-6A6,6 0 0,1 6,0Z\" style=\"opacity: 1; stroke-width: 0px; fill: rgb(99, 110, 250); fill-opacity: 1;\"/><path class=\"point\" transform=\"translate(528.54,312.19)\" d=\"M6,0A6,6 0 1,1 0,-6A6,6 0 0,1 6,0Z\" style=\"opacity: 1; stroke-width: 0px; fill: rgb(99, 110, 250); fill-opacity: 1;\"/><path class=\"point\" transform=\"translate(547.36,311.44)\" d=\"M6,0A6,6 0 1,1 0,-6A6,6 0 0,1 6,0Z\" style=\"opacity: 1; stroke-width: 0px; fill: rgb(99, 110, 250); fill-opacity: 1;\"/><path class=\"point\" transform=\"translate(568.2,310.89)\" d=\"M6,0A6,6 0 1,1 0,-6A6,6 0 0,1 6,0Z\" style=\"opacity: 1; stroke-width: 0px; fill: rgb(99, 110, 250); fill-opacity: 1;\"/></g><g class=\"text\"/></g><g class=\"trace scatter tracee73ae7\" style=\"stroke-miterlimit: 2; opacity: 1;\"><g class=\"fills\"/><g class=\"errorbars\"/><g class=\"lines\"/><g class=\"points\"><path class=\"point\" transform=\"translate(37.8,208.8)\" d=\"M3,0A3,3 0 1,1 0,-3A3,3 0 0,1 3,0Z\" style=\"opacity: 1; stroke-width: 0px; fill: rgb(239, 85, 59); fill-opacity: 1;\"/><path class=\"point\" transform=\"translate(56.62,208.8)\" d=\"M3,0A3,3 0 1,1 0,-3A3,3 0 0,1 3,0Z\" style=\"opacity: 1; stroke-width: 0px; fill: rgb(239, 85, 59); fill-opacity: 1;\"/><path class=\"point\" transform=\"translate(77.46,201.6)\" d=\"M3,0A3,3 0 1,1 0,-3A3,3 0 0,1 3,0Z\" style=\"opacity: 1; stroke-width: 0px; fill: rgb(239, 85, 59); fill-opacity: 1;\"/><path class=\"point\" transform=\"translate(97.63,201.6)\" d=\"M3,0A3,3 0 1,1 0,-3A3,3 0 0,1 3,0Z\" style=\"opacity: 1; stroke-width: 0px; fill: rgb(239, 85, 59); fill-opacity: 1;\"/><path class=\"point\" transform=\"translate(118.47,194.4)\" d=\"M3,0A3,3 0 1,1 0,-3A3,3 0 0,1 3,0Z\" style=\"opacity: 1; stroke-width: 0px; fill: rgb(239, 85, 59); fill-opacity: 1;\"/><path class=\"point\" transform=\"translate(138.64,194.4)\" d=\"M3,0A3,3 0 1,1 0,-3A3,3 0 0,1 3,0Z\" style=\"opacity: 1; stroke-width: 0px; fill: rgb(239, 85, 59); fill-opacity: 1;\"/><path class=\"point\" transform=\"translate(159.48,187.2)\" d=\"M3,0A3,3 0 1,1 0,-3A3,3 0 0,1 3,0Z\" style=\"opacity: 1; stroke-width: 0px; fill: rgb(239, 85, 59); fill-opacity: 1;\"/><path class=\"point\" transform=\"translate(180.32,187.2)\" d=\"M3,0A3,3 0 1,1 0,-3A3,3 0 0,1 3,0Z\" style=\"opacity: 1; stroke-width: 0px; fill: rgb(239, 85, 59); fill-opacity: 1;\"/><path class=\"point\" transform=\"translate(200.48,187.2)\" d=\"M3,0A3,3 0 1,1 0,-3A3,3 0 0,1 3,0Z\" style=\"opacity: 1; stroke-width: 0px; fill: rgb(239, 85, 59); fill-opacity: 1;\"/><path class=\"point\" transform=\"translate(221.32,187.2)\" d=\"M3,0A3,3 0 1,1 0,-3A3,3 0 0,1 3,0Z\" style=\"opacity: 1; stroke-width: 0px; fill: rgb(239, 85, 59); fill-opacity: 1;\"/><path class=\"point\" transform=\"translate(241.49,180)\" d=\"M3,0A3,3 0 1,1 0,-3A3,3 0 0,1 3,0Z\" style=\"opacity: 1; stroke-width: 0px; fill: rgb(239, 85, 59); fill-opacity: 1;\"/><path class=\"point\" transform=\"translate(262.33,180)\" d=\"M3,0A3,3 0 1,1 0,-3A3,3 0 0,1 3,0Z\" style=\"opacity: 1; stroke-width: 0px; fill: rgb(239, 85, 59); fill-opacity: 1;\"/><path class=\"point\" transform=\"translate(283.17,180)\" d=\"M3,0A3,3 0 1,1 0,-3A3,3 0 0,1 3,0Z\" style=\"opacity: 1; stroke-width: 0px; fill: rgb(239, 85, 59); fill-opacity: 1;\"/><path class=\"point\" transform=\"translate(301.99,180)\" d=\"M3,0A3,3 0 1,1 0,-3A3,3 0 0,1 3,0Z\" style=\"opacity: 1; stroke-width: 0px; fill: rgb(239, 85, 59); fill-opacity: 1;\"/><path class=\"point\" transform=\"translate(322.83,180)\" d=\"M3,0A3,3 0 1,1 0,-3A3,3 0 0,1 3,0Z\" style=\"opacity: 1; stroke-width: 0px; fill: rgb(239, 85, 59); fill-opacity: 1;\"/><path class=\"point\" transform=\"translate(343,180)\" d=\"M3,0A3,3 0 1,1 0,-3A3,3 0 0,1 3,0Z\" style=\"opacity: 1; stroke-width: 0px; fill: rgb(239, 85, 59); fill-opacity: 1;\"/><path class=\"point\" transform=\"translate(363.84,172.8)\" d=\"M3,0A3,3 0 1,1 0,-3A3,3 0 0,1 3,0Z\" style=\"opacity: 1; stroke-width: 0px; fill: rgb(239, 85, 59); fill-opacity: 1;\"/><path class=\"point\" transform=\"translate(384.01,172.8)\" d=\"M3,0A3,3 0 1,1 0,-3A3,3 0 0,1 3,0Z\" style=\"opacity: 1; stroke-width: 0px; fill: rgb(239, 85, 59); fill-opacity: 1;\"/><path class=\"point\" transform=\"translate(404.84,172.8)\" d=\"M3,0A3,3 0 1,1 0,-3A3,3 0 0,1 3,0Z\" style=\"opacity: 1; stroke-width: 0px; fill: rgb(239, 85, 59); fill-opacity: 1;\"/><path class=\"point\" transform=\"translate(425.68,165.6)\" d=\"M3,0A3,3 0 1,1 0,-3A3,3 0 0,1 3,0Z\" style=\"opacity: 1; stroke-width: 0px; fill: rgb(239, 85, 59); fill-opacity: 1;\"/><path class=\"point\" transform=\"translate(445.85,165.6)\" d=\"M3,0A3,3 0 1,1 0,-3A3,3 0 0,1 3,0Z\" style=\"opacity: 1; stroke-width: 0px; fill: rgb(239, 85, 59); fill-opacity: 1;\"/><path class=\"point\" transform=\"translate(466.69,165.6)\" d=\"M3,0A3,3 0 1,1 0,-3A3,3 0 0,1 3,0Z\" style=\"opacity: 1; stroke-width: 0px; fill: rgb(239, 85, 59); fill-opacity: 1;\"/><path class=\"point\" transform=\"translate(486.86,165.6)\" d=\"M3,0A3,3 0 1,1 0,-3A3,3 0 0,1 3,0Z\" style=\"opacity: 1; stroke-width: 0px; fill: rgb(239, 85, 59); fill-opacity: 1;\"/><path class=\"point\" transform=\"translate(507.7,165.6)\" d=\"M3,0A3,3 0 1,1 0,-3A3,3 0 0,1 3,0Z\" style=\"opacity: 1; stroke-width: 0px; fill: rgb(239, 85, 59); fill-opacity: 1;\"/><path class=\"point\" transform=\"translate(528.54,159.84)\" d=\"M3,0A3,3 0 1,1 0,-3A3,3 0 0,1 3,0Z\" style=\"opacity: 1; stroke-width: 0px; fill: rgb(239, 85, 59); fill-opacity: 1;\"/><path class=\"point\" transform=\"translate(547.36,158.4)\" d=\"M3,0A3,3 0 1,1 0,-3A3,3 0 0,1 3,0Z\" style=\"opacity: 1; stroke-width: 0px; fill: rgb(239, 85, 59); fill-opacity: 1;\"/><path class=\"point\" transform=\"translate(568.2,158.4)\" d=\"M3,0A3,3 0 1,1 0,-3A3,3 0 0,1 3,0Z\" style=\"opacity: 1; stroke-width: 0px; fill: rgb(239, 85, 59); fill-opacity: 1;\"/></g><g class=\"text\"/></g><g class=\"trace scatter trace610dfe\" style=\"stroke-miterlimit: 2; opacity: 1;\"><g class=\"fills\"/><g class=\"errorbars\"/><g class=\"lines\"/><g class=\"points\"><path class=\"point\" transform=\"translate(37.8,352.8)\" d=\"M3,0A3,3 0 1,1 0,-3A3,3 0 0,1 3,0Z\" style=\"opacity: 1; stroke-width: 0px; fill: rgb(0, 204, 150); fill-opacity: 1;\"/><path class=\"point\" transform=\"translate(56.62,352.8)\" d=\"M3,0A3,3 0 1,1 0,-3A3,3 0 0,1 3,0Z\" style=\"opacity: 1; stroke-width: 0px; fill: rgb(0, 204, 150); fill-opacity: 1;\"/><path class=\"point\" transform=\"translate(77.46,352.8)\" d=\"M3,0A3,3 0 1,1 0,-3A3,3 0 0,1 3,0Z\" style=\"opacity: 1; stroke-width: 0px; fill: rgb(0, 204, 150); fill-opacity: 1;\"/><path class=\"point\" transform=\"translate(97.63,352.8)\" d=\"M3,0A3,3 0 1,1 0,-3A3,3 0 0,1 3,0Z\" style=\"opacity: 1; stroke-width: 0px; fill: rgb(0, 204, 150); fill-opacity: 1;\"/><path class=\"point\" transform=\"translate(118.47,352.8)\" d=\"M3,0A3,3 0 1,1 0,-3A3,3 0 0,1 3,0Z\" style=\"opacity: 1; stroke-width: 0px; fill: rgb(0, 204, 150); fill-opacity: 1;\"/><path class=\"point\" transform=\"translate(138.64,352.8)\" d=\"M3,0A3,3 0 1,1 0,-3A3,3 0 0,1 3,0Z\" style=\"opacity: 1; stroke-width: 0px; fill: rgb(0, 204, 150); fill-opacity: 1;\"/><path class=\"point\" transform=\"translate(159.48,352.8)\" d=\"M3,0A3,3 0 1,1 0,-3A3,3 0 0,1 3,0Z\" style=\"opacity: 1; stroke-width: 0px; fill: rgb(0, 204, 150); fill-opacity: 1;\"/><path class=\"point\" transform=\"translate(180.32,352.8)\" d=\"M3,0A3,3 0 1,1 0,-3A3,3 0 0,1 3,0Z\" style=\"opacity: 1; stroke-width: 0px; fill: rgb(0, 204, 150); fill-opacity: 1;\"/><path class=\"point\" transform=\"translate(200.48,352.8)\" d=\"M3,0A3,3 0 1,1 0,-3A3,3 0 0,1 3,0Z\" style=\"opacity: 1; stroke-width: 0px; fill: rgb(0, 204, 150); fill-opacity: 1;\"/><path class=\"point\" transform=\"translate(221.32,352.8)\" d=\"M3,0A3,3 0 1,1 0,-3A3,3 0 0,1 3,0Z\" style=\"opacity: 1; stroke-width: 0px; fill: rgb(0, 204, 150); fill-opacity: 1;\"/><path class=\"point\" transform=\"translate(241.49,352.8)\" d=\"M3,0A3,3 0 1,1 0,-3A3,3 0 0,1 3,0Z\" style=\"opacity: 1; stroke-width: 0px; fill: rgb(0, 204, 150); fill-opacity: 1;\"/><path class=\"point\" transform=\"translate(262.33,352.8)\" d=\"M3,0A3,3 0 1,1 0,-3A3,3 0 0,1 3,0Z\" style=\"opacity: 1; stroke-width: 0px; fill: rgb(0, 204, 150); fill-opacity: 1;\"/><path class=\"point\" transform=\"translate(283.17,352.8)\" d=\"M3,0A3,3 0 1,1 0,-3A3,3 0 0,1 3,0Z\" style=\"opacity: 1; stroke-width: 0px; fill: rgb(0, 204, 150); fill-opacity: 1;\"/><path class=\"point\" transform=\"translate(301.99,352.8)\" d=\"M3,0A3,3 0 1,1 0,-3A3,3 0 0,1 3,0Z\" style=\"opacity: 1; stroke-width: 0px; fill: rgb(0, 204, 150); fill-opacity: 1;\"/><path class=\"point\" transform=\"translate(322.83,352.8)\" d=\"M3,0A3,3 0 1,1 0,-3A3,3 0 0,1 3,0Z\" style=\"opacity: 1; stroke-width: 0px; fill: rgb(0, 204, 150); fill-opacity: 1;\"/><path class=\"point\" transform=\"translate(343,352.8)\" d=\"M3,0A3,3 0 1,1 0,-3A3,3 0 0,1 3,0Z\" style=\"opacity: 1; stroke-width: 0px; fill: rgb(0, 204, 150); fill-opacity: 1;\"/><path class=\"point\" transform=\"translate(363.84,352.8)\" d=\"M3,0A3,3 0 1,1 0,-3A3,3 0 0,1 3,0Z\" style=\"opacity: 1; stroke-width: 0px; fill: rgb(0, 204, 150); fill-opacity: 1;\"/><path class=\"point\" transform=\"translate(384.01,352.8)\" d=\"M3,0A3,3 0 1,1 0,-3A3,3 0 0,1 3,0Z\" style=\"opacity: 1; stroke-width: 0px; fill: rgb(0, 204, 150); fill-opacity: 1;\"/><path class=\"point\" transform=\"translate(404.84,352.8)\" d=\"M3,0A3,3 0 1,1 0,-3A3,3 0 0,1 3,0Z\" style=\"opacity: 1; stroke-width: 0px; fill: rgb(0, 204, 150); fill-opacity: 1;\"/><path class=\"point\" transform=\"translate(425.68,352.8)\" d=\"M3,0A3,3 0 1,1 0,-3A3,3 0 0,1 3,0Z\" style=\"opacity: 1; stroke-width: 0px; fill: rgb(0, 204, 150); fill-opacity: 1;\"/><path class=\"point\" transform=\"translate(445.85,352.8)\" d=\"M3,0A3,3 0 1,1 0,-3A3,3 0 0,1 3,0Z\" style=\"opacity: 1; stroke-width: 0px; fill: rgb(0, 204, 150); fill-opacity: 1;\"/><path class=\"point\" transform=\"translate(466.69,352.8)\" d=\"M3,0A3,3 0 1,1 0,-3A3,3 0 0,1 3,0Z\" style=\"opacity: 1; stroke-width: 0px; fill: rgb(0, 204, 150); fill-opacity: 1;\"/><path class=\"point\" transform=\"translate(486.86,345.6)\" d=\"M3,0A3,3 0 1,1 0,-3A3,3 0 0,1 3,0Z\" style=\"opacity: 1; stroke-width: 0px; fill: rgb(0, 204, 150); fill-opacity: 1;\"/><path class=\"point\" transform=\"translate(507.7,345.6)\" d=\"M3,0A3,3 0 1,1 0,-3A3,3 0 0,1 3,0Z\" style=\"opacity: 1; stroke-width: 0px; fill: rgb(0, 204, 150); fill-opacity: 1;\"/><path class=\"point\" transform=\"translate(528.54,345.6)\" d=\"M3,0A3,3 0 1,1 0,-3A3,3 0 0,1 3,0Z\" style=\"opacity: 1; stroke-width: 0px; fill: rgb(0, 204, 150); fill-opacity: 1;\"/><path class=\"point\" transform=\"translate(547.36,345.6)\" d=\"M3,0A3,3 0 1,1 0,-3A3,3 0 0,1 3,0Z\" style=\"opacity: 1; stroke-width: 0px; fill: rgb(0, 204, 150); fill-opacity: 1;\"/><path class=\"point\" transform=\"translate(568.2,345.6)\" d=\"M3,0A3,3 0 1,1 0,-3A3,3 0 0,1 3,0Z\" style=\"opacity: 1; stroke-width: 0px; fill: rgb(0, 204, 150); fill-opacity: 1;\"/></g><g class=\"text\"/></g></g></g><g class=\"overplot\"/><path class=\"xlines-above crisp\" d=\"M0,0\" style=\"fill: none;\"/><path class=\"ylines-above crisp\" d=\"M0,0\" style=\"fill: none;\"/><g class=\"overlines-above\"/><g class=\"xaxislayer-above\"><g class=\"xtick\"><text text-anchor=\"middle\" x=\"0\" y=\"433\" transform=\"translate(96.96000000000001,0)\" style=\"font-family: 'Open Sans', verdana, arial, sans-serif; font-size: 12px; fill: rgb(42, 63, 95); fill-opacity: 1; white-space: pre; opacity: 1;\">Jan 2021</text></g><g class=\"xtick\"><text text-anchor=\"middle\" x=\"0\" y=\"433\" style=\"font-family: 'Open Sans', verdana, arial, sans-serif; font-size: 12px; fill: rgb(42, 63, 95); fill-opacity: 1; white-space: pre; opacity: 1;\" transform=\"translate(218.64,0)\">Jul 2021</text></g><g class=\"xtick\"><text text-anchor=\"middle\" x=\"0\" y=\"433\" style=\"font-family: 'Open Sans', verdana, arial, sans-serif; font-size: 12px; fill: rgb(42, 63, 95); fill-opacity: 1; white-space: pre; opacity: 1;\" transform=\"translate(342.33,0)\">Jan 2022</text></g><g class=\"xtick\"><text text-anchor=\"middle\" x=\"0\" y=\"433\" style=\"font-family: 'Open Sans', verdana, arial, sans-serif; font-size: 12px; fill: rgb(42, 63, 95); fill-opacity: 1; white-space: pre; opacity: 1;\" transform=\"translate(464.01,0)\">Jul 2022</text></g><g class=\"xtick\"><text text-anchor=\"middle\" x=\"0\" y=\"433\" style=\"font-family: 'Open Sans', verdana, arial, sans-serif; font-size: 12px; fill: rgb(42, 63, 95); fill-opacity: 1; white-space: pre; opacity: 1;\" transform=\"translate(587.7,0)\">Jan 2023</text></g></g><g class=\"yaxislayer-above\"><g class=\"ytick\"><text text-anchor=\"end\" x=\"79\" y=\"4.199999999999999\" transform=\"translate(0,420)\" style=\"font-family: 'Open Sans', verdana, arial, sans-serif; font-size: 12px; fill: rgb(42, 63, 95); fill-opacity: 1; white-space: pre; opacity: 1;\">0</text></g><g class=\"ytick\"><text text-anchor=\"end\" x=\"79\" y=\"4.199999999999999\" style=\"font-family: 'Open Sans', verdana, arial, sans-serif; font-size: 12px; fill: rgb(42, 63, 95); fill-opacity: 1; white-space: pre; opacity: 1;\" transform=\"translate(0,348)\">10</text></g><g class=\"ytick\"><text text-anchor=\"end\" x=\"79\" y=\"4.199999999999999\" style=\"font-family: 'Open Sans', verdana, arial, sans-serif; font-size: 12px; fill: rgb(42, 63, 95); fill-opacity: 1; white-space: pre; opacity: 1;\" transform=\"translate(0,276)\">20</text></g><g class=\"ytick\"><text text-anchor=\"end\" x=\"79\" y=\"4.199999999999999\" style=\"font-family: 'Open Sans', verdana, arial, sans-serif; font-size: 12px; fill: rgb(42, 63, 95); fill-opacity: 1; white-space: pre; opacity: 1;\" transform=\"translate(0,204)\">30</text></g><g class=\"ytick\"><text text-anchor=\"end\" x=\"79\" y=\"4.199999999999999\" style=\"font-family: 'Open Sans', verdana, arial, sans-serif; font-size: 12px; fill: rgb(42, 63, 95); fill-opacity: 1; white-space: pre; opacity: 1;\" transform=\"translate(0,132)\">40</text></g><g class=\"ytick\"><text text-anchor=\"end\" x=\"79\" y=\"4.199999999999999\" style=\"font-family: 'Open Sans', verdana, arial, sans-serif; font-size: 12px; fill: rgb(42, 63, 95); fill-opacity: 1; white-space: pre; opacity: 1;\" transform=\"translate(0,60)\">50</text></g></g><g class=\"overaxes-above\"/></g></g><g class=\"polarlayer\"/><g class=\"smithlayer\"/><g class=\"ternarylayer\"/><g class=\"geolayer\"/><g class=\"funnelarealayer\"/><g class=\"pielayer\"/><g class=\"iciclelayer\"/><g class=\"treemaplayer\"/><g class=\"sunburstlayer\"/><g class=\"glimages\"/><defs id=\"topdefs-30b1ba\"><g class=\"clips\"/><clipPath id=\"legend30b1ba\"><rect width=\"90\" height=\"86\" x=\"0\" y=\"0\"/></clipPath></defs><g class=\"layer-above\"><g class=\"imagelayer\"/><g class=\"shapelayer\"/></g><g class=\"infolayer\"><g class=\"legend\" pointer-events=\"all\" transform=\"translate(698.12,60)\"><rect class=\"bg\" shape-rendering=\"crispEdges\" style=\"stroke: rgb(68, 68, 68); stroke-opacity: 1; fill: rgb(255, 255, 255); fill-opacity: 1; stroke-width: 0px;\" width=\"90\" height=\"86\" x=\"0\" y=\"0\"/><g class=\"scrollbox\" transform=\"\" clip-path=\"url(#legend30b1ba)\"><text class=\"legendtitletext\" text-anchor=\"start\" x=\"2\" y=\"18.2\" style=\"font-family: 'Open Sans', verdana, arial, sans-serif; font-size: 14px; fill: rgb(42, 63, 95); fill-opacity: 1; white-space: pre;\">variable</text><g class=\"groups\" transform=\"\"><g class=\"traces\" transform=\"translate(0,32.7)\" style=\"opacity: 1;\"><text class=\"legendtext\" text-anchor=\"start\" x=\"40\" y=\"4.680000000000001\" style=\"font-family: 'Open Sans', verdana, arial, sans-serif; font-size: 12px; fill: rgb(42, 63, 95); fill-opacity: 1; white-space: pre;\">mean</text><g class=\"layers\" style=\"opacity: 1;\"><g class=\"legendfill\"/><g class=\"legendlines\"/><g class=\"legendsymbols\"><g class=\"legendpoints\"><path class=\"scatterpts\" transform=\"translate(20,0)\" d=\"M6,0A6,6 0 1,1 0,-6A6,6 0 0,1 6,0Z\" style=\"opacity: 1; stroke-width: 0px; fill: rgb(99, 110, 250); fill-opacity: 1;\"/></g></g></g><rect class=\"legendtoggle\" x=\"0\" y=\"-9.5\" width=\"84.390625\" height=\"19\" style=\"fill: rgb(0, 0, 0); fill-opacity: 0;\"/></g></g><g class=\"groups\" transform=\"\"><g class=\"traces\" transform=\"translate(0,51.7)\" style=\"opacity: 1;\"><text class=\"legendtext\" text-anchor=\"start\" x=\"40\" y=\"4.680000000000001\" style=\"font-family: 'Open Sans', verdana, arial, sans-serif; font-size: 12px; fill: rgb(42, 63, 95); fill-opacity: 1; white-space: pre;\">95%</text><g class=\"layers\" style=\"opacity: 1;\"><g class=\"legendfill\"/><g class=\"legendlines\"/><g class=\"legendsymbols\"><g class=\"legendpoints\"><path class=\"scatterpts\" transform=\"translate(20,0)\" d=\"M3,0A3,3 0 1,1 0,-3A3,3 0 0,1 3,0Z\" style=\"opacity: 1; stroke-width: 0px; fill: rgb(239, 85, 59); fill-opacity: 1;\"/></g></g></g><rect class=\"legendtoggle\" x=\"0\" y=\"-9.5\" width=\"84.390625\" height=\"19\" style=\"fill: rgb(0, 0, 0); fill-opacity: 0;\"/></g></g><g class=\"groups\" transform=\"\"><g class=\"traces\" transform=\"translate(0,70.7)\" style=\"opacity: 1;\"><text class=\"legendtext\" text-anchor=\"start\" x=\"40\" y=\"4.680000000000001\" style=\"font-family: 'Open Sans', verdana, arial, sans-serif; font-size: 12px; fill: rgb(42, 63, 95); fill-opacity: 1; white-space: pre;\">median</text><g class=\"layers\" style=\"opacity: 1;\"><g class=\"legendfill\"/><g class=\"legendlines\"/><g class=\"legendsymbols\"><g class=\"legendpoints\"><path class=\"scatterpts\" transform=\"translate(20,0)\" d=\"M3,0A3,3 0 1,1 0,-3A3,3 0 0,1 3,0Z\" style=\"opacity: 1; stroke-width: 0px; fill: rgb(0, 204, 150); fill-opacity: 1;\"/></g></g></g><rect class=\"legendtoggle\" x=\"0\" y=\"-9.5\" width=\"84.390625\" height=\"19\" style=\"fill: rgb(0, 0, 0); fill-opacity: 0;\"/></g></g></g><rect class=\"scrollbar\" rx=\"20\" ry=\"3\" width=\"0\" height=\"0\" style=\"fill: rgb(128, 139, 164); fill-opacity: 1;\" x=\"0\" y=\"0\"/></g><g class=\"g-gtitle\"><text class=\"gtitle\" x=\"40\" y=\"30\" text-anchor=\"start\" dy=\"0em\" style=\"font-family: 'Open Sans', verdana, arial, sans-serif; font-size: 17px; fill: rgb(42, 63, 95); opacity: 1; font-weight: normal; white-space: pre;\">Изменение распределения фичи no_contracts_total во времени</text></g><g class=\"g-xtitle\"><text class=\"xtitle\" x=\"383\" y=\"460.8\" text-anchor=\"middle\" style=\"font-family: 'Open Sans', verdana, arial, sans-serif; font-size: 14px; fill: rgb(42, 63, 95); opacity: 1; font-weight: normal; white-space: pre;\">time</text></g><g class=\"g-ytitle\"><text class=\"ytitle\" transform=\"rotate(-90,20.734375,240)\" x=\"20.734375\" y=\"240\" text-anchor=\"middle\" style=\"font-family: 'Open Sans', verdana, arial, sans-serif; font-size: 14px; fill: rgb(42, 63, 95); opacity: 1; font-weight: normal; white-space: pre;\"><tspan class=\"line\" dy=\"0em\" x=\"20.734375\" y=\"240\">Количество договоров</tspan><tspan class=\"line\" dy=\"1.3em\" x=\"20.734375\" y=\"240\">(всех закрытых и действующих)</tspan></text></g></g></svg>"
      ],
      "text/html": [
       "<iframe\n",
       "    scrolling=\"no\"\n",
       "    width=\"820px\"\n",
       "    height=\"520\"\n",
       "    src=\"iframe_figures/figure_11.html\"\n",
       "    frameborder=\"0\"\n",
       "    allowfullscreen\n",
       "></iframe>\n"
      ]
     },
     "metadata": {},
     "output_type": "display_data"
    }
   ],
   "source": [
    "ranges = {'no_contracts_active': [0, 50], \n",
    "'no_transp_active' : [0, 50], \n",
    "'no_contracts_total':[0, 50], \n",
    "'no_transport_total' : [0, 50], \n",
    "'no_contracts_closed' : [0, 20], \n",
    "'reason_гибель/тотал' : [0, 0.1],\n",
    "'reason_завершение' : [0, 10], \n",
    "'reason_замена/перенайм/переуступка' : [0, 0.06],\n",
    "'reason_не указана' : [0, 10], \n",
    "'reason_определена цессия' : [0, 0.6], \n",
    "'reason_отмена' : [0, 3],\n",
    "'reason_расторгнут' : [0, 2], \n",
    "'reason_страховой случай' : [0, 0.6],\n",
    "'reason_страховой случай (гибель/тотал)' : [0, 0.04], \n",
    "'bad_reasons_closed' : [0, 2],\n",
    "'good_reasons_closed' : [0, 10], \n",
    "'not_determined_reasons_closed' : [0, 14],\n",
    "'mean_bad_reasons' : [0, 0.2], \n",
    "'mean_good_reasons' : [0, 1.4], \n",
    "'mean_not_determined_reasons' : [0, 1.4],\n",
    "'no_creditors' : [0, 7], \n",
    "'duration_max' : [0, 1200], \n",
    "'duration_mean' : [0, 1000], \n",
    "'duration_min' : [0, 1000],\n",
    "'contract_date_delta_first' : [0, 2000], \n",
    "'contract_date_delta_last' : [0, 1000],\n",
    "'end_date_first' : [0, 1500], \n",
    "'end_date_last' : [0, 600]\n",
    "}\n",
    "\n",
    "list_of_figs_target = []\n",
    "\n",
    "for feature in allFeaturesProperties.keys():\n",
    "    feature_statistics = statistics_target.loc[feature].copy()\n",
    "    title = 'Изменение распределения фичи {} во времени'.format(feature)\n",
    "    fig = plot_statistics_over_time_target(feature_statistics, feature, title = title, y_range = ranges.get(feature))\n",
    "    list_of_figs_target.append(fig)\n",
    "\n",
    "list_of_figs_target[0].show('png' if need_svg else '')"
   ]
  },
  {
   "attachments": {},
   "cell_type": "markdown",
   "metadata": {},
   "source": [
    "## Расчет фичей данных для prediction (mdm) по месячно\n",
    "\n",
    "для того, чтобы посмотреть на изменение во времени статистики и PSI по всем фичам массива MDM, на котором будет prediction, их нужно рассчитать на различные срезы времени, а не только на текущую дату, как в файле \"data/interm/features_mdm.pkl\""
   ]
  },
  {
   "cell_type": "code",
   "execution_count": 12,
   "metadata": {},
   "outputs": [],
   "source": [
    "def calc_features(cut_date):\n",
    "\n",
    "    df_mdm_cut = df_mdm[df_mdm['new_kreditmessage_date']<=cut_date].copy()\n",
    "    ## 1. посчитаем, количество договоров на дату публикации\n",
    "    contacts_total = df_mdm_cut.groupby('new_lessee_inn')['origin_by_message'].aggregate('nunique').to_frame()\\\n",
    "                        .reset_index().rename(columns={'origin_by_message':'no_contracts_total'})\n",
    "\n",
    "    ## 2. посчитаем, количество договоров на дату публикации (только транспортных средств)\n",
    "    transport_only = df_mdm_cut[(df_mdm_cut['new_leasingsubject_code'].notnull()) & (df_mdm_cut['new_leasingsubject_code'].str.startswith('0106'))]\n",
    "    contacts_transp_total = transport_only.groupby('new_lessee_inn')['origin_by_message'].aggregate('nunique').to_frame()\\\n",
    "                                            .reset_index().rename(columns={'origin_by_message':'no_transport_total'})\n",
    "\n",
    "    ## 3. посчитаем количество активных договоров\n",
    "    \"\"\"для этого оставим последнюю запись по договам из mdm к нашим приложениям  и там посмотрим, завершен ли там договор или нет\"\"\"\n",
    "    last = df_mdm_cut.sort_values(by=['new_lessee_inn', 'origin_by_message', 'new_kreditmessage_date']).drop_duplicates(subset=['new_lessee_inn', 'origin_by_message'], keep='last')\n",
    "    \"\"\"проставим stop_primary - предварительно вычисленная дата окончания, \n",
    "                        там где явно задано окончание, то  его указываем, там где не указано, то по договору лизинга\n",
    "    процедура в init_mdm.ipynb \"\"\"\n",
    "    determine_stop_primary(last)\n",
    "    \n",
    "    \"\"\"\n",
    "    уберем те, уже закрытые на момент среза, будем считать только активные договоры\n",
    "    \"\"\"\n",
    "    mask_closed = (last['stop_primary']<=cut_date)\n",
    "    raw_active = last[~mask_closed].copy()\n",
    "    active = raw_active.groupby('new_lessee_inn')['origin_by_message'].aggregate('nunique').to_frame().reset_index().rename(columns={'origin_by_message':'no_contracts_active'})\n",
    "\n",
    "\n",
    "    ### 4. Теперь считаем только активные по транспортным средствам\n",
    "    transport_only_active = raw_active[(raw_active['new_leasingsubject_code'].notnull()) & (raw_active['new_leasingsubject_code'].str.startswith('0106'))]\n",
    "    transp_active = transport_only_active.groupby('new_lessee_inn')['origin_by_message'].aggregate('nunique').to_frame()\\\n",
    "                                .reset_index().rename(columns={'origin_by_message':'no_transp_active'})\n",
    "\n",
    "    ### 5. Расчет фичей:\n",
    "    \"\"\"\n",
    "    - no_contracts_closed -  количество завершенных договоров\n",
    "    - количества причин завершения у нашего лизингополучателя:\n",
    "\n",
    "    уберем все активные на момент принятия решения, будем считать только закрытые договоры\n",
    "\n",
    "    \"\"\"\n",
    "    mask_closed = (last['stop_primary']<=cut_date)\n",
    "\n",
    "    raw_closed = last[mask_closed].copy()\n",
    "\n",
    "    mask = (raw_closed['reason']=='')\n",
    "    raw_closed.loc[mask, 'reason'] = 'не указана'\n",
    "    closed = raw_closed.groupby('new_lessee_inn')['origin_by_message'].aggregate('nunique').to_frame().reset_index().rename(columns={'origin_by_message':'no_contracts_closed'})\n",
    "\n",
    "    dummies = pd.get_dummies(raw_closed[\"reason\"], prefix=\"reason\")\n",
    "    col_reasons = dummies.columns.to_list()\n",
    "    raw_closed_reasons = raw_closed.join(dummies)\n",
    "    closed_reasons = raw_closed_reasons.groupby('new_lessee_inn')[col_reasons].aggregate('sum').reset_index()\n",
    "\n",
    "    \"\"\"\n",
    "    bad_reasons_closed - плохое завершение предыдущих договоров  \n",
    "    good_reasons_closed - хорошее завершение предыдущих договоров  \n",
    "    not_determined_reasons_closed - неопределенное завершение предыдущих договоров  \n",
    "    \"\"\"\n",
    "\n",
    "    bad = ['reason_гибель/тотал', 'reason_расторгнут', 'reason_страховой случай (гибель/тотал)']\n",
    "    good = ['reason_завершение']\n",
    "    not_determined = ['reason_замена/перенайм/переуступка', 'reason_не указана', 'reason_определена цессия', 'reason_отмена', 'reason_страховой случай']\n",
    "\n",
    "    closed_reasons['bad_reasons_closed'] = closed_reasons[bad].sum(axis=1)\n",
    "    closed_reasons['good_reasons_closed'] = closed_reasons[good].sum(axis=1)\n",
    "    closed_reasons['not_determined_reasons_closed'] = closed_reasons[not_determined].sum(axis=1)\n",
    "\n",
    "    # небольшая проверка, что все закрытые договоры были разнесены на 3 подгруппы\n",
    "    closed_w_reasons = closed_reasons.copy()\n",
    "    closed_w_reasons = closed_w_reasons.fillna(0)\n",
    "\n",
    "    closed_w_reasons['closed'] = closed_w_reasons[['bad_reasons_closed',\t'good_reasons_closed',\t'not_determined_reasons_closed']].sum(axis=1)\n",
    "    closed_w_reasons = pd.merge(closed, closed_w_reasons , how = 'outer', on='new_lessee_inn')\n",
    "    Check_length(len(closed_w_reasons), len(closed))\n",
    "\n",
    "    tmp = check_fields(closed_w_reasons,'closed', 'no_contracts_closed' )\n",
    "\n",
    "    closed_w_reasons.drop(columns='closed', inplace=True)\n",
    "    mask = (closed_w_reasons['no_contracts_closed']==0)\n",
    "\n",
    "    closed_w_reasons.loc[mask, 'mean_bad_reasons'] = 0\n",
    "    closed_w_reasons.loc[~mask, 'mean_bad_reasons'] = closed_w_reasons.loc[~mask, 'bad_reasons_closed']/closed_w_reasons.loc[~mask, 'no_contracts_closed']\n",
    "\n",
    "    closed_w_reasons.loc[mask, 'mean_good_reasons'] = 0\n",
    "    closed_w_reasons.loc[~mask, 'mean_good_reasons'] = closed_w_reasons.loc[~mask, 'good_reasons_closed']/closed_w_reasons.loc[~mask, 'no_contracts_closed']\n",
    "\n",
    "    closed_w_reasons.loc[mask, 'mean_not_determined_reasons'] = 0\n",
    "    closed_w_reasons.loc[~mask, 'mean_not_determined_reasons'] = closed_w_reasons.loc[~mask, 'not_determined_reasons_closed']/closed_w_reasons.loc[~mask, 'no_contracts_closed']\n",
    "\n",
    "    ### 6. Длительность закрытых договоров\n",
    "    raw_closed['Длительность'] = raw_closed['stop_primary'] - raw_closed['new_leasingcontract_date']\n",
    "    mask = (raw_closed['Длительность']<pd.Timedelta(days=0))\n",
    "    raw_closed.loc[mask, 'Длительность'] = pd.Timedelta(days=0)\n",
    "\n",
    "    duration = pd.pivot_table(raw_closed, index='new_lessee_inn',  values='Длительность',  aggfunc={'min', 'mean', 'max'})\\\n",
    "        .rename(columns={'max':'duration_max', 'mean':'duration_mean', 'min':'duration_min'})\n",
    "\n",
    "    for col in duration.columns:\n",
    "        if col == 'new_lessee_inn':\n",
    "            continue\n",
    "        duration[col] = duration[col].round('D')\n",
    "    duration.reset_index(inplace=True)\n",
    "\n",
    "    ### 7. Разница между текущей расчетной датой и датой первого и последнего договора в фед ресурсе\n",
    "    \"\"\"\n",
    "    у некоторых договоров дата договора стоит неправильная, больше текущей даты, \n",
    "    у некоторых договоров дата договора не проставлена \n",
    "    у таких договоров разница не имеет смысла, она будут исключены их расчета\n",
    "    \"\"\"\n",
    "    last['contract_date_delta'] = cut_date - last['new_leasingcontract_date']\n",
    "    tmp = last[last['contract_date_delta']>=pd.Timedelta(days=0)]\n",
    "    contract_timedelta = pd.pivot_table(tmp, index='new_lessee_inn',  values='contract_date_delta', aggfunc={'min', 'max'})\\\n",
    "        .rename(columns={'max':'contract_date_delta_first', 'min':'contract_date_delta_last'}).reset_index()\n",
    "\n",
    "    contract_timedelta['contract_date_delta_last'] = contract_timedelta['contract_date_delta_last'].round('D')\n",
    "    contract_timedelta['contract_date_delta_first'] = contract_timedelta['contract_date_delta_first'].round('D')\n",
    "\n",
    "    ### 8. Разница между текущей датой и датой закрытия договора в фед ресурсе\n",
    "    raw_closed['contract_date_delta'] = cut_date - raw_closed['stop_primary']\n",
    "\n",
    "    end_date_timedelta = pd.pivot_table(raw_closed, index='new_lessee_inn',  values='contract_date_delta', aggfunc={'min', 'max'})\\\n",
    "        .rename(columns={'max':'end_date_first', 'min':'end_date_last'}).reset_index()\n",
    "\n",
    "    end_date_timedelta['end_date_last'] = end_date_timedelta['end_date_last'].round('D')\n",
    "    end_date_timedelta['end_date_first'] = end_date_timedelta['end_date_first'].round('D')\n",
    "\n",
    "    ### 9. Количество различных лизингодателей\n",
    "    last['new_creditor_inn'] = last['new_creditor_inn'].fillna(\"\")\n",
    "    creditors = last.groupby('new_lessee_inn')['new_creditor_inn'].aggregate('nunique').to_frame().reset_index().rename(columns={'new_creditor_inn':'no_creditors'})\n",
    "\n",
    "    # Соединяем все фичи в один Dataframe и записываем в pkl файл\n",
    "    # contacts_total содержит полный перечень new_lessee_inn, поэтому берется за основу\n",
    "\n",
    "    tmp = pd.merge(contacts_total, contacts_transp_total , how = 'left', on='new_lessee_inn')\n",
    "\n",
    "    tmp = pd.merge(tmp, active, how = 'left', on='new_lessee_inn')\n",
    "    tmp = pd.merge(tmp, transp_active , how = 'left', on='new_lessee_inn')\n",
    "\n",
    "    tmp = pd.merge(tmp, closed_w_reasons , how = 'left', on='new_lessee_inn')\n",
    "    tmp = pd.merge(tmp, creditors , how = 'left', on='new_lessee_inn')\n",
    "\n",
    "    tmp = pd.merge(tmp, duration , how = 'left', on='new_lessee_inn')\n",
    "    tmp = pd.merge(tmp, contract_timedelta , how = 'left', on='new_lessee_inn')\n",
    "    features = pd.merge(tmp, end_date_timedelta , how = 'left', on='new_lessee_inn')\n",
    "\n",
    "\n",
    "    Check_length(len(contacts_total), len(features))\n",
    "\n",
    "    list_of_features = ['no_contracts_active', 'no_transp_active', 'no_contracts_total', \n",
    "                        'no_transport_total', 'no_contracts_closed', 'bad_reasons_closed', \n",
    "                        'good_reasons_closed', 'not_determined_reasons_closed', \n",
    "                        'mean_bad_reasons','mean_good_reasons', 'mean_not_determined_reasons', \n",
    "                        'no_creditors']\n",
    "\n",
    "    for col in list_of_features:\n",
    "        features[col] = features[col].fillna(0)\n",
    "\n",
    "    for col in col_reasons:\n",
    "        features[col] = features[col].fillna(0)\n",
    "\n",
    "    return features\n",
    "\n"
   ]
  },
  {
   "cell_type": "code",
   "execution_count": 13,
   "metadata": {},
   "outputs": [
    {
     "name": "stderr",
     "output_type": "stream",
     "text": [
      "  0%|\u001b[32m          \u001b[0m| 0/32 [00:00<?, ?it/s]"
     ]
    },
    {
     "name": "stderr",
     "output_type": "stream",
     "text": [
      "100%|\u001b[32m██████████\u001b[0m| 32/32 [16:42<00:00, 31.32s/it]\n"
     ]
    },
    {
     "data": {
      "text/html": [
       "<div>\n",
       "<style scoped>\n",
       "    .dataframe tbody tr th:only-of-type {\n",
       "        vertical-align: middle;\n",
       "    }\n",
       "\n",
       "    .dataframe tbody tr th {\n",
       "        vertical-align: top;\n",
       "    }\n",
       "\n",
       "    .dataframe thead th {\n",
       "        text-align: right;\n",
       "    }\n",
       "</style>\n",
       "<table border=\"1\" class=\"dataframe\">\n",
       "  <thead>\n",
       "    <tr style=\"text-align: right;\">\n",
       "      <th></th>\n",
       "      <th>count</th>\n",
       "      <th>mean</th>\n",
       "      <th>std</th>\n",
       "      <th>min</th>\n",
       "      <th>25%</th>\n",
       "      <th>50%</th>\n",
       "      <th>75%</th>\n",
       "      <th>max</th>\n",
       "      <th>95%</th>\n",
       "      <th>median</th>\n",
       "      <th>period</th>\n",
       "      <th>time</th>\n",
       "    </tr>\n",
       "  </thead>\n",
       "  <tbody>\n",
       "    <tr>\n",
       "      <th>end_date_first</th>\n",
       "      <td>227137.0</td>\n",
       "      <td>477.772344</td>\n",
       "      <td>675.277822</td>\n",
       "      <td>0.0</td>\n",
       "      <td>0.0</td>\n",
       "      <td>246.0</td>\n",
       "      <td>797.0</td>\n",
       "      <td>98827.0</td>\n",
       "      <td>1676.0</td>\n",
       "      <td>246.0</td>\n",
       "      <td>2023-08</td>\n",
       "      <td>2023-08-01</td>\n",
       "    </tr>\n",
       "    <tr>\n",
       "      <th>contract_date_delta_first</th>\n",
       "      <td>202434.0</td>\n",
       "      <td>905.648295</td>\n",
       "      <td>551.837344</td>\n",
       "      <td>0.0</td>\n",
       "      <td>455.0</td>\n",
       "      <td>827.0</td>\n",
       "      <td>1296.0</td>\n",
       "      <td>20085.0</td>\n",
       "      <td>1925.0</td>\n",
       "      <td>827.0</td>\n",
       "      <td>2022-07</td>\n",
       "      <td>2022-07-01</td>\n",
       "    </tr>\n",
       "  </tbody>\n",
       "</table>\n",
       "</div>"
      ],
      "text/plain": [
       "                              count        mean         std  min    25%  \\\n",
       "end_date_first             227137.0  477.772344  675.277822  0.0    0.0   \n",
       "contract_date_delta_first  202434.0  905.648295  551.837344  0.0  455.0   \n",
       "\n",
       "                             50%     75%      max     95%  median   period  \\\n",
       "end_date_first             246.0   797.0  98827.0  1676.0   246.0  2023-08   \n",
       "contract_date_delta_first  827.0  1296.0  20085.0  1925.0   827.0  2022-07   \n",
       "\n",
       "                                time  \n",
       "end_date_first            2023-08-01  \n",
       "contract_date_delta_first 2022-07-01  "
      ]
     },
     "execution_count": 13,
     "metadata": {},
     "output_type": "execute_result"
    }
   ],
   "source": [
    "\"\"\" если уже рассчитывали. то можно взять из файла\"\"\"\n",
    "# need_to_calculate_statistics_mdm = False\n",
    "\n",
    "feature_in_period = pd.DataFrame()\n",
    "\n",
    "if need_to_calculate_statistics_mdm:\n",
    "    end = df_mdm['new_kreditmessage_date'].max()\n",
    "    range_period = pd.date_range(start=\"2021-01-01\",end=end, freq='MS')\n",
    "\n",
    "    statistics_mdm = pd.DataFrame()\n",
    "    for period in tqdm(range_period, colour= 'green'):\n",
    "\n",
    "        month = datetime.strftime(period, '%Y-%m')\n",
    "        data_in_period = calc_features(period)\n",
    "\n",
    "        for delta_col in data_in_period.columns:\n",
    "            if (is_timedelta64_dtype(data_in_period[delta_col])):\n",
    "                data_in_period[delta_col] = data_in_period[delta_col].dt.days\n",
    "                data_in_period[delta_col] = data_in_period[delta_col].fillna(0)\n",
    "\n",
    "        describe = data_in_period.describe().T\n",
    "        describe = describe.join(data_in_period.quantile(0.95).to_frame().rename(columns={0.95:'95%'}))\n",
    "        describe = describe.join(data_in_period.median(numeric_only=True).to_frame().rename(columns={0:'median'}))\n",
    "        \n",
    "        describe['period'] = month\n",
    "               \n",
    "        statistics_mdm = statistics_mdm.append(pd.DataFrame(describe))\n",
    "        \n",
    "        data_in_period['period'] = month\n",
    "        feature_in_period = feature_in_period.append(data_in_period)\n",
    "\n",
    "        \n",
    "    statistics_mdm['time'] = pd.to_datetime(statistics_mdm['period'], format='%Y-%m')\n",
    "    feature_in_period['time'] = pd.to_datetime(feature_in_period['period'], format='%Y-%m')\n",
    "    \n",
    "\n",
    "    statistics_mdm.to_pickle(pre+\"data/interm/statistics_mdm.pkl\", compression={'method':'zip'})\n",
    "    feature_in_period.to_pickle(pre+\"data/interm/feature_in_period.pkl\", compression={'method':'zip'})\n",
    "    \n",
    "else:\n",
    "    name = pre + \"data/interm/statistics_mdm.pkl\"\n",
    "    statistics_mdm = pd.read_pickle(name, compression={'method':'zip'})\n",
    "\n",
    "    print(\"Размер считанных данных статистики MDM statistics_mdm- {}\".format(statistics_mdm.shape))\n",
    "\n",
    "    name = pre + \"data/interm/feature_in_period.pkl\"\n",
    "    feature_in_period = pd.read_pickle(name, compression={'method':'zip'})\n",
    "\n",
    "    print(\"Размер считанных данных фичей во времени MDM - {}\".format(feature_in_period.shape))\n",
    "\n",
    "statistics_mdm.sample(2)"
   ]
  },
  {
   "cell_type": "code",
   "execution_count": 14,
   "metadata": {},
   "outputs": [
    {
     "name": "stderr",
     "output_type": "stream",
     "text": [
      "100%|██████████| 28/28 [00:06<00:00,  4.32it/s]\n"
     ]
    },
    {
     "data": {
      "image/png": "[encoded data removed]"
     },
     "metadata": {},
     "output_type": "display_data"
    }
   ],
   "source": [
    "config = dict({'modeBarButtonsToAdd': ['hovercompare']})\n",
    "\n",
    "ranges = {'no_contracts_active': [0, 30], \n",
    "'no_transp_active' : [0, 30], \n",
    "'no_contracts_total':[0, 30], \n",
    "'no_transport_total' : [0, 30], \n",
    "'no_contracts_closed' : [0, 20], \n",
    "'reason_гибель/тотал' : [0, 0.06],\n",
    "'reason_завершение' : [0, 8], \n",
    "'reason_замена/перенайм/переуступка' : [0, 0.2],\n",
    "'reason_не указана' : [0, 20], \n",
    "'reason_определена цессия' : [0, 1.5], \n",
    "'reason_отмена' : [0, 2],\n",
    "'reason_расторгнут' : [0, 2], \n",
    "'reason_страховой случай' : [0, 1],\n",
    "'reason_страховой случай (гибель/тотал)' : [0, 0.02], \n",
    "'bad_reasons_closed' : [0, 2],\n",
    "'good_reasons_closed' : [0, 10], \n",
    "'not_determined_reasons_closed' : [0, 14],\n",
    "'mean_bad_reasons' : [0, 0.2], \n",
    "'mean_good_reasons' : [0, 1.4], \n",
    "'mean_not_determined_reasons' : [0, 1.4],\n",
    "'no_creditors' : [0, 4], \n",
    "'duration_max' : [0, 1200], \n",
    "'duration_mean' : [0, 1200], \n",
    "'duration_min' : [0, 1200],\n",
    "'contract_date_delta_first' : [0, 2500], \n",
    "'contract_date_delta_last' : [0, 2500],\n",
    "'end_date_first' : [0, 2000], \n",
    "'end_date_last' : [0, 2000]\n",
    "}\n",
    "\n",
    "list_of_figs = []\n",
    "\n",
    "for feature, featureProperty in tqdm(allFeaturesProperties.items()):\n",
    "    title = 'Изменение распределения фичи {} во времени'.format(feature)\n",
    "\n",
    "    df_stat_mdm = statistics_mdm.loc[feature].copy()\n",
    "    df_stat_target = statistics_target.loc[feature].copy()\n",
    "\n",
    "    fig = plot_feature_statistics_over_time_mdm_target(df_stat_mdm, df_stat_target, title = title, y_range = ranges.get(feature))\n",
    "\n",
    "    list_of_figs.append(fig)\n",
    "\n",
    "combine_plotly_figs_to_html(list_of_figs, pre+'data/html/statistics_stability.html')\n",
    "list_of_figs[0].show('png' if need_svg else '')"
   ]
  },
  {
   "cell_type": "markdown",
   "metadata": {},
   "source": [
    "# Расчет PSI"
   ]
  },
  {
   "attachments": {},
   "cell_type": "markdown",
   "metadata": {},
   "source": [
    "### Разделение данных на базовую и тестовую выборки по времен. Расчет PSI у обучающей выборки"
   ]
  },
  {
   "cell_type": "code",
   "execution_count": 15,
   "metadata": {},
   "outputs": [],
   "source": [
    "\"\"\" При разбиении была попытка уравнять в каждом бине процентное соотношение значений, где это возможно\n",
    "из-за того, что у многих значений, например нулевых, больше чем 0.05, \n",
    "то такие группы будут содержать большее количество процентов значений\"\"\"\n",
    "\n",
    "def get_num_groups_wanted_target(feature):\n",
    "    if feature in [ 'reason_замена/перенайм/переуступка', 'reason_страховой случай (гибель/тотал)']: \n",
    "        num_groups_wanted = 100000 # 0.001%\n",
    "    elif feature in ['reason_гибель/тотал'] :\n",
    "        num_groups_wanted = 20000 # 0.005%\n",
    "    elif feature in ['reason_определена цессия',  ]: \n",
    "        num_groups_wanted = 5000 # 0.02%\n",
    "    elif feature in ['reason_страховой случай', ]: \n",
    "        num_groups_wanted = 1000 # 0.1%\n",
    "    elif feature in ['reason_расторгнут', ]: \n",
    "        num_groups_wanted = 500 # 0.2%\n",
    "    elif feature in ['bad_reasons_closed', ] :\n",
    "        num_groups_wanted = 200 # 0.5%\n",
    "    elif feature in [ 'reason_отмена', 'mean_bad_reasons',] :\n",
    "        num_groups_wanted = 100 # 1%\n",
    "    elif feature in [ 'mean_good_reasons'\t]: \n",
    "        num_groups_wanted = 30 # 2%\n",
    "    else: \n",
    "        num_groups_wanted = 20 # 5%\n",
    "    return num_groups_wanted\n",
    "\n",
    "target_data = target_frod.data\n",
    "\"\"\"Если уже psi рассчитывались, то можно взять из файла\"\"\"\n",
    "# need_to_psi_target = False\n",
    "\n",
    "if need_to_psi_target:\n",
    "    bins_target = pd.DataFrame()\n",
    "    for feature, featureProperty in tqdm(allFeaturesProperties.items()):\n",
    "\n",
    "        mask = (target_data['period']>=\"2021-01-01\") & (target_data['period']<=\"2021-12-31\")\n",
    "        base_data = target_data[mask].copy()\n",
    "\n",
    "        if featureProperty['for_closed']:\n",
    "            base_data = base_data[base_data['no_contracts_closed']>0]\n",
    "        elif feature in ['contract_date_delta_first', 'contract_date_delta_last']:\n",
    "            base_data = base_data[base_data[feature]>0]\n",
    "\n",
    "        num_groups_wanted = get_num_groups_wanted_target(feature)\n",
    "\n",
    "        bins = base_data[feature].quantile(np.array(range(0, num_groups_wanted+1))/num_groups_wanted).unique()\n",
    "        \n",
    "        if featureProperty['type'] != 'float': \n",
    "            bins = list(set(bins.astype(int)))\n",
    "\n",
    "        bins.sort()\n",
    "        n_bins = len(bins)\n",
    "\n",
    "        binned1 = np.digitize(base_data[feature], bins)\n",
    "\n",
    "        prop = np.array([round(sum(binned1 == i) / len(binned1)*100,2) for i in range(1, n_bins)])\n",
    "\n",
    "        bins_target = bins_target.append(pd.DataFrame([{'feature':feature, 'n_bins':n_bins, 'bins':np.array(bins).round(2), 'Проценты в бине':prop}]))\n",
    "    \n",
    "    bins_target.to_excel(writer, sheet_name='bins_target')\n",
    "    display_side_by_side(bins_target)"
   ]
  },
  {
   "cell_type": "code",
   "execution_count": 16,
   "metadata": {},
   "outputs": [
    {
     "name": "stdout",
     "output_type": "stream",
     "text": [
      "Размер считанных данных psi_target- (448, 3)\n"
     ]
    },
    {
     "data": {
      "text/html": [
       "<div>\n",
       "<style scoped>\n",
       "    .dataframe tbody tr th:only-of-type {\n",
       "        vertical-align: middle;\n",
       "    }\n",
       "\n",
       "    .dataframe tbody tr th {\n",
       "        vertical-align: top;\n",
       "    }\n",
       "\n",
       "    .dataframe thead th {\n",
       "        text-align: right;\n",
       "    }\n",
       "</style>\n",
       "<table border=\"1\" class=\"dataframe\">\n",
       "  <thead>\n",
       "    <tr style=\"text-align: right;\">\n",
       "      <th></th>\n",
       "      <th>psi_value</th>\n",
       "      <th>feature</th>\n",
       "      <th>month</th>\n",
       "    </tr>\n",
       "  </thead>\n",
       "  <tbody>\n",
       "    <tr>\n",
       "      <th>0</th>\n",
       "      <td>0.028708</td>\n",
       "      <td>not_determined_reasons_closed</td>\n",
       "      <td>2022-08</td>\n",
       "    </tr>\n",
       "    <tr>\n",
       "      <th>0</th>\n",
       "      <td>0.000628</td>\n",
       "      <td>reason_замена/перенайм/переуступка</td>\n",
       "      <td>2022-05</td>\n",
       "    </tr>\n",
       "  </tbody>\n",
       "</table>\n",
       "</div>"
      ],
      "text/plain": [
       "   psi_value                             feature    month\n",
       "0   0.028708       not_determined_reasons_closed  2022-08\n",
       "0   0.000628  reason_замена/перенайм/переуступка  2022-05"
      ]
     },
     "execution_count": 16,
     "metadata": {},
     "output_type": "execute_result"
    }
   ],
   "source": [
    "\"\"\" \n",
    "Разделение обучающих данных на базовую и тестовую выборки по времени\n",
    "В качестве базовой будут браться все за 2021 год \"2021-01-01\"-\"2021-12-31\"\n",
    "В качестве тестовой помесячные данные от \"2022-01-01\" до \"2023-04-01\" \n",
    "\"\"\"\n",
    "\n",
    "\"\"\"Если уже psi рассчитывались, то можно взять из файла\"\"\"\n",
    "# need_to_psi_target = False\n",
    "\n",
    "if need_to_psi_target:\n",
    "\n",
    "    target_data = target_frod.data.copy()\n",
    "    target_data['period'] = target_data['Дата принятия решения по сделке'].dt.strftime(\"%Y-%m\")\n",
    "\n",
    "    psi_target = pd.DataFrame()\n",
    "\n",
    "    range_period = pd.date_range(start=\"2022-01-01\",end=\"2023-04-01\", freq='MS')\n",
    "\n",
    "    for feature, featureProperty in tqdm(allFeaturesProperties.items()):\n",
    "\n",
    "        mask = (target_data['period']>=\"2021-01-01\") & (target_data['period']<=\"2021-12-31\")\n",
    "        base_data = target_data[mask].copy()\n",
    "\n",
    "        if featureProperty['for_closed']:\n",
    "            base_data = base_data[base_data['no_contracts_closed']>0]\n",
    "        elif feature in ['contract_date_delta_first', 'contract_date_delta_last']:\n",
    "            base_data = base_data[base_data[feature]>0]\n",
    "\n",
    "        num_groups_wanted = get_num_groups_wanted_target(feature)\n",
    "\n",
    "        bins = base_data[feature].quantile(np.array(range(0, num_groups_wanted+1))/num_groups_wanted).unique()\n",
    "        if featureProperty['type'] !='float': \n",
    "            bins = list(set(bins.astype(int)))\n",
    "\n",
    "        bins.sort()\n",
    "        n_bins = len(bins)\n",
    "        \n",
    "        for period in range_period:\n",
    "            month = datetime.strftime(period, '%Y-%m')\n",
    "            data_test = target_data[target_data['period']==month].copy()\n",
    "                \n",
    "            if featureProperty['for_closed']:\n",
    "                data_test = data_test[data_test['no_contracts_closed']>0]\n",
    "            elif feature in ['contract_date_delta_first', 'contract_date_delta_last']:\n",
    "                data_test = data_test[data_test[feature]>0]\n",
    "\n",
    "            binned1 = np.digitize(base_data[feature], bins)\n",
    "            binned2 = np.digitize(data_test[feature], bins)\n",
    "\n",
    "            # Вычисление долей объектов в каждом бине\n",
    "            elipson=0.0001\n",
    "            prop1 = np.array([sum(binned1 == i) / len(binned1) for i in range(1, n_bins)]) + elipson\n",
    "            prop2 = np.array([sum(binned2 == i) / len(binned2) for i in range(1, n_bins)]) + elipson\n",
    "\n",
    "            # Вычисление PSI\n",
    "            psi_value = np.sum((prop1 - prop2) * np.log(prop1 / prop2))\n",
    "            psi_target = psi_target.append(pd.DataFrame([{'psi_value':psi_value, 'feature':feature, 'month':month}]))\n",
    "\n",
    "    psi_target.to_pickle(pre+\"data/interm/psi_target.pkl\", compression={'method':'zip'})\n",
    "else:\n",
    "    name = pre + \"data/interm/psi_target.pkl\"\n",
    "    psi_target = pd.read_pickle(name, compression={'method':'zip'})\n",
    "\n",
    "    print(\"Размер считанных данных psi_target- {}\".format(psi_target.shape))\n",
    "   \n",
    "psi_target.sample(2)  "
   ]
  },
  {
   "cell_type": "code",
   "execution_count": 17,
   "metadata": {},
   "outputs": [
    {
     "data": {
      "image/png": "[encoded data removed]"
     },
     "metadata": {},
     "output_type": "display_data"
    }
   ],
   "source": [
    "list_of_figs_mdm = []\n",
    "\n",
    "for feature, featureProperty in allFeaturesProperties.items():\n",
    "    feature_name = featureProperty['short_name']\n",
    "\n",
    "    title = 'psi фичи {} во времени'.format(feature)\n",
    "    mask = (psi_target['feature']==feature)\n",
    "    fig = psi_plot(psi_target[mask], title = title)\n",
    "    list_of_figs_mdm.append(fig)\n",
    "\n",
    "combine_plotly_figs_to_html(list_of_figs_mdm, pre+'data/html/psi_target.html')\n",
    "list_of_figs_mdm[0].show('png' if need_svg else '')"
   ]
  },
  {
   "cell_type": "markdown",
   "metadata": {},
   "source": [
    "### Расчет PSI фичей MDM"
   ]
  },
  {
   "cell_type": "code",
   "execution_count": 18,
   "metadata": {},
   "outputs": [],
   "source": [
    "\"\"\" \n",
    "Разделение обучающих данных на базовую и тестовую выборки MDM по времени\n",
    "В качестве массива для определения бинов будут браться все данные на последний месяц\n",
    "\"\"\"\n",
    "\n",
    "\"\"\"Если уже psi рассчитывались, то можно взять из файла\"\"\"\n",
    "# need_to_psi_target = False\n",
    "\n",
    "\n",
    "def get_num_groups_wanted_mdm(feature):\n",
    "    if feature in [ 'reason_страховой случай (гибель/тотал)']: \n",
    "        num_groups_wanted = 100000 # 0.001%\n",
    "    elif feature in ['reason_гибель/тотал', 'reason_замена/перенайм/переуступка',] :\n",
    "        num_groups_wanted = 20000 # 0.005%\n",
    "    elif feature in ['reason_определена цессия',]: \n",
    "        num_groups_wanted = 5000 # 0.02%\n",
    "    elif feature in [ 'bad_reasons_closed',]: \n",
    "        num_groups_wanted = 1000 # 0.1%\n",
    "    elif feature in ['reason_расторгнут',  'reason_страховой случай',] :\n",
    "        num_groups_wanted = 200 # 0.5%\n",
    "    elif feature in [ 'reason_отмена', 'mean_bad_reasons', 'mean_good_reasons',] :\n",
    "        num_groups_wanted = 100 # 1%\n",
    "    elif feature in [ 'no_transp_active', \n",
    "                    'good_reasons_closed',  'reason_завершение', 'no_creditors']: \n",
    "        num_groups_wanted = 30 # 2%\n",
    "    elif feature in [ 'contract_date_delta_first', \n",
    "                    'contract_date_delta_last', 'end_date_last', 'end_date_first']: \n",
    "        num_groups_wanted = 10 # 10%\n",
    "    else: \n",
    "        num_groups_wanted = 20 # 5%\n",
    "\n",
    "    return num_groups_wanted\n",
    "\n",
    "\"\"\"Если уже psi рассчитывались, то можно взять из файла\"\"\"\n",
    "# need_to_psi_mdm = False\n",
    "\n",
    "# в качестве базовой берем последние фичи на последнюю дату\n",
    "mdm_data = feature_in_period[feature_in_period['period'] == feature_in_period['period'].max()]\n",
    "\n",
    "bins_mdm = pd.DataFrame()\n",
    "\n",
    "if need_to_psi_mdm:\n",
    "    for feature, featureProperty in tqdm(allFeaturesProperties.items()):\n",
    "\n",
    "        base_data = mdm_data.copy()\n",
    "        if featureProperty['for_closed']:\n",
    "            base_data = base_data[base_data['no_contracts_closed']>0]\n",
    "        elif feature in ['contract_date_delta_first', 'contract_date_delta_last']:\n",
    "            base_data = base_data[base_data[feature]>0]\n",
    "\n",
    "        num_groups_wanted = get_num_groups_wanted_mdm(feature)\n",
    "\n",
    "        bins = base_data[feature].quantile(np.array(range(0, num_groups_wanted+1))/num_groups_wanted).unique()\n",
    "        if featureProperty['type'] != 'float': \n",
    "            bins = list(set(bins.astype(int)))\n",
    "\n",
    "        bins.sort()\n",
    "        n_bins = len(bins)\n",
    "\n",
    "        binned1 = np.digitize(base_data[feature], bins)\n",
    "\n",
    "        prop = np.array([round(sum(binned1 == i) / len(binned1)*100,2) for i in range(1, n_bins)])\n",
    "\n",
    "        bins_mdm = bins_mdm.append(pd.DataFrame([{'feature':feature, 'n_bins':n_bins, 'bins':np.array(bins).round(2), 'Проценты в бине':prop}]))\n",
    "        \n",
    "        # if feature == 'no_contracts_total':\n",
    "        #     break\n",
    "\n",
    "    bins_mdm.to_excel(writer, sheet_name='bins_mdm')\n",
    "    display_side_by_side(bins_mdm)"
   ]
  },
  {
   "cell_type": "code",
   "execution_count": 19,
   "metadata": {},
   "outputs": [
    {
     "name": "stdout",
     "output_type": "stream",
     "text": [
      "Размер считанных данных psi_mdm- (784, 4)\n"
     ]
    },
    {
     "data": {
      "text/html": [
       "<div>\n",
       "<style scoped>\n",
       "    .dataframe tbody tr th:only-of-type {\n",
       "        vertical-align: middle;\n",
       "    }\n",
       "\n",
       "    .dataframe tbody tr th {\n",
       "        vertical-align: top;\n",
       "    }\n",
       "\n",
       "    .dataframe thead th {\n",
       "        text-align: right;\n",
       "    }\n",
       "</style>\n",
       "<table border=\"1\" class=\"dataframe\">\n",
       "  <thead>\n",
       "    <tr style=\"text-align: right;\">\n",
       "      <th></th>\n",
       "      <th>base_period</th>\n",
       "      <th>psi_value</th>\n",
       "      <th>feature</th>\n",
       "      <th>month</th>\n",
       "    </tr>\n",
       "  </thead>\n",
       "  <tbody>\n",
       "    <tr>\n",
       "      <th>0</th>\n",
       "      <td>2021-12</td>\n",
       "      <td>0.000290</td>\n",
       "      <td>reason_определена цессия</td>\n",
       "      <td>2022-03</td>\n",
       "    </tr>\n",
       "    <tr>\n",
       "      <th>0</th>\n",
       "      <td>2022-04</td>\n",
       "      <td>0.008522</td>\n",
       "      <td>reason_отмена</td>\n",
       "      <td>2023-01</td>\n",
       "    </tr>\n",
       "  </tbody>\n",
       "</table>\n",
       "</div>"
      ],
      "text/plain": [
       "  base_period  psi_value                   feature    month\n",
       "0     2021-12   0.000290  reason_определена цессия  2022-03\n",
       "0     2022-04   0.008522             reason_отмена  2023-01"
      ]
     },
     "execution_count": 19,
     "metadata": {},
     "output_type": "execute_result"
    }
   ],
   "source": [
    "\"\"\" \n",
    "В первом случае в качестве базового распределения (Expected) base_data использовались фичи, сформированные по данным, \n",
    "опубликованным до 2021-12 включительно, то есть с условием new_kreditmessage_date <=2021-12-31.\n",
    "В качестве Actual(data_test) использовались фичи, сформированные по данным, опубликованным с 2022-01-01 по 2023-04-01 помесячно. \n",
    "\n",
    "Во втором случае в качестве базового распределения (Expected) base_data использовались фичи, сформированные по данным, \n",
    "опубликованным до 2022-04-30 включительно, то есть с условием new_kreditmessage_date <=2022-04-30.\n",
    "В качестве Actual (data_test) использовались фичи, сформированные по данным, опубликованным с 2022-05-01 по 2023-04-01 помесячно. \n",
    "Использование второго расчета позволяет определить стабильность фичей на горизонте 12 месяцев. \n",
    "\n",
    "\"\"\"\n",
    "# need_to_psi_mdm = True\n",
    "if need_to_psi_mdm:\n",
    "\n",
    "    mdm_data = feature_in_period.copy()\n",
    "    psi_mdm = pd.DataFrame()\n",
    "\n",
    "    # сделаем 2 базовых периода\n",
    "    for base_period in [\"2021-12\", \"2022-04\"]:\n",
    "        \n",
    "        start = datetime.strptime(base_period, '%Y-%m') + pd.DateOffset(months=1)\n",
    "        range_period = pd.date_range(start=start, end=\"2023-04-01\", freq='MS')\n",
    "        \n",
    "         \n",
    "        for feature, featureProperty in tqdm(allFeaturesProperties.items(), desc=base_period) :\n",
    "                \n",
    "            bins = bins_mdm.loc[bins_mdm['feature']==feature, 'bins'][0]\n",
    "            n_bins = len(bins)\n",
    "\n",
    "            mask = (mdm_data['period']==base_period)\n",
    "            base_data = mdm_data[mask].copy()\n",
    "            \n",
    "            if featureProperty['for_closed']:\n",
    "                base_data = base_data[base_data['no_contracts_closed']>0]\n",
    "            elif feature in ['contract_date_delta_first', 'contract_date_delta_last']:\n",
    "                base_data = base_data[base_data[feature]>0]\n",
    "\n",
    "            for period in range_period:\n",
    "                month = datetime.strftime(period, '%Y-%m')\n",
    "                data_test = mdm_data[mdm_data['period']==month].copy()\n",
    "\n",
    "                if featureProperty['for_closed']:\n",
    "                    data_test = data_test[data_test['no_contracts_closed']>0]\n",
    "                elif feature in ['contract_date_delta_first', 'contract_date_delta_last']:\n",
    "                    data_test = data_test[data_test[feature]>0]\n",
    "\n",
    "                binned1 = np.digitize(base_data[feature], bins)\n",
    "                binned2 = np.digitize(data_test[feature], bins)\n",
    "\n",
    "                # Вычисление долей объектов в каждом бине\n",
    "                elipson=0.0001\n",
    "                prop1 = np.array([sum(binned1 == i) / len(binned1) for i in range(1, n_bins)]) + elipson\n",
    "                prop2 = np.array([sum(binned2 == i) / len(binned2) for i in range(1, n_bins)]) + elipson\n",
    "\n",
    "                # Вычисление PSI\n",
    "                psi_value = np.sum((prop1 - prop2) * np.log(prop1 / prop2))\n",
    "                psi_mdm = psi_mdm.append(pd.DataFrame([{'base_period':base_period, 'psi_value':psi_value, 'feature':feature, 'month':month}]))\n",
    "                \n",
    "    psi_mdm.to_pickle(pre+\"data/interm/psi_mdm.pkl\", compression={'method':'zip'})\n",
    "else:\n",
    "    name = pre + \"data/interm/psi_mdm.pkl\"\n",
    "    psi_mdm = pd.read_pickle(name, compression={'method':'zip'})\n",
    "\n",
    "    print(\"Размер считанных данных psi_mdm- {}\".format(psi_mdm.shape))       \n",
    "     \n",
    "psi_mdm.sample(2)  "
   ]
  },
  {
   "cell_type": "code",
   "execution_count": 20,
   "metadata": {},
   "outputs": [
    {
     "data": {
      "image/png": "[encoded data removed]"
     },
     "metadata": {},
     "output_type": "display_data"
    }
   ],
   "source": [
    "list_of_figs_mdm = []\n",
    "\n",
    "for feature, featureProperty in allFeaturesProperties.items():\n",
    "    feature_name = featureProperty['short_name']\n",
    "\n",
    "    title = 'psi фичи {} в mdm во времени'.format(feature)\n",
    "    base_period = psi_mdm['base_period'].unique()\n",
    "    mask = (psi_mdm['feature']==feature)\n",
    "    fig = psi_plot_2(psi_mdm[mask], feature, base_period, feature_name = feature_name, title = title)\n",
    "    list_of_figs_mdm.append(fig)\n",
    "\n",
    "combine_plotly_figs_to_html(list_of_figs_mdm, pre+'data/html/psi_mdm.html')\n",
    "list_of_figs_mdm[0].show('png' if need_svg else '')"
   ]
  },
  {
   "cell_type": "code",
   "execution_count": 21,
   "metadata": {},
   "outputs": [],
   "source": [
    "# сохраняем tmp таблицы\n",
    "if len(writer.sheets):\n",
    "    writer.save()"
   ]
  },
  {
   "cell_type": "code",
   "execution_count": null,
   "metadata": {},
   "outputs": [],
   "source": []
  }
 ],
 "metadata": {
  "interpreter": {
   "hash": "ad2bdc8ecc057115af97d19610ffacc2b4e99fae6737bb82f5d7fb13d2f2c186"
  },
  "kernelspec": {
   "display_name": "Python 3.7.13 ('base')",
   "language": "python",
   "name": "python3"
  },
  "language_info": {
   "codemirror_mode": {
    "name": "ipython",
    "version": 3
   },
   "file_extension": ".py",
   "mimetype": "text/x-python",
   "name": "python",
   "nbconvert_exporter": "python",
   "pygments_lexer": "ipython3",
   "version": "3.7.13"
  },
  "orig_nbformat": 4
 },
 "nbformat": 4,
 "nbformat_minor": 2
}
